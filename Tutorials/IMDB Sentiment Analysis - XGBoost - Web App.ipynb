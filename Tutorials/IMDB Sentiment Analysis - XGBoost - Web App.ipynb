{
 "cells": [
  {
   "cell_type": "markdown",
   "metadata": {},
   "source": [
    "# Sentiment Analysis Web App\n",
    "\n",
    "_Deep Learning Nanodegree Program | Deployment_\n",
    "\n",
    "---\n",
    "\n",
    "In this notebook we will use Amazon's SageMaker service to construct a random tree model to predict the sentiment of a movie review. In addition, we will deploy this model to an endpoint and construct a very simple web app which will interact with our model's deployed endpoint.\n",
    "\n",
    "## General Outline\n",
    "\n",
    "Typically, when using a notebook instance with SageMaker, you will proceed through the following steps. Of course, not every step will need to be done with each project. Also, there is quite a lot of room for variation in many of the steps, as you will see throughout these lessons.\n",
    "\n",
    "1. Download or otherwise retrieve the data.\n",
    "2. Process / Prepare the data.\n",
    "3. Upload the processed data to S3.\n",
    "4. Train a chosen model.\n",
    "5. Test the trained model (typically using a batch transform job).\n",
    "6. Deploy the trained model.\n",
    "7. Use the deployed model.\n",
    "\n",
    "In this notebook we will progress through each of the steps above. We will also see that the final step, using the deployed model, can be quite challenging."
   ]
  },
  {
   "cell_type": "markdown",
   "metadata": {},
   "source": [
    "## Step 1: Downloading the data\n",
    "\n",
    "The dataset we are going to use is very popular among researchers in Natural Language Processing, usually referred to as the [IMDb dataset](http://ai.stanford.edu/~amaas/data/sentiment/). It consists of movie reviews from the website [imdb.com](http://www.imdb.com/), each labeled as either '**pos**itive', if the reviewer enjoyed the film, or '**neg**ative' otherwise.\n",
    "\n",
    "> Maas, Andrew L., et al. [Learning Word Vectors for Sentiment Analysis](http://ai.stanford.edu/~amaas/data/sentiment/). In _Proceedings of the 49th Annual Meeting of the Association for Computational Linguistics: Human Language Technologies_. Association for Computational Linguistics, 2011.\n",
    "\n",
    "We begin by using some Jupyter Notebook magic to download and extract the dataset."
   ]
  },
  {
   "cell_type": "code",
   "execution_count": null,
   "metadata": {},
   "outputs": [],
   "source": [
    "# %mkdir ../data\n",
    "# !wget -O ../data/aclImdb_v1.tar.gz http://ai.stanford.edu/~amaas/data/sentiment/aclImdb_v1.tar.gz\n",
    "# !tar -zxf ../data/aclImdb_v1.tar.gz -C ../data"
   ]
  },
  {
   "cell_type": "markdown",
   "metadata": {},
   "source": [
    "## Step 2: Preparing and Processing the data\n",
    "\n",
    "The data we have downloaded is split into various files, each of which contains a single review. It will be much easier going forward if we combine these individual files into two large files, one for training and one for testing."
   ]
  },
  {
   "cell_type": "code",
   "execution_count": 1,
   "metadata": {},
   "outputs": [],
   "source": [
    "import os\n",
    "import glob\n",
    "\n",
    "def read_imdb_data(data_dir='../data/aclImdb'):\n",
    "    data = {}\n",
    "    labels = {}\n",
    "    \n",
    "    for data_type in ['train', 'test']:\n",
    "        data[data_type] = {}\n",
    "        labels[data_type] = {}\n",
    "        \n",
    "        for sentiment in ['pos', 'neg']:\n",
    "            data[data_type][sentiment] = []\n",
    "            labels[data_type][sentiment] = []\n",
    "            \n",
    "            path = os.path.join(data_dir, data_type, sentiment, '*.txt')\n",
    "            files = glob.glob(path)\n",
    "            \n",
    "            for f in files:\n",
    "                with open(f) as review:\n",
    "                    data[data_type][sentiment].append(review.read())\n",
    "                    # Here we represent a positive review by '1' and a negative review by '0'\n",
    "                    labels[data_type][sentiment].append(1 if sentiment == 'pos' else 0)\n",
    "                    \n",
    "            assert len(data[data_type][sentiment]) == len(labels[data_type][sentiment]), \\\n",
    "                    \"{}/{} data size does not match labels size\".format(data_type, sentiment)\n",
    "                \n",
    "    return data, labels"
   ]
  },
  {
   "cell_type": "code",
   "execution_count": 2,
   "metadata": {},
   "outputs": [
    {
     "name": "stdout",
     "output_type": "stream",
     "text": [
      "IMDB reviews: train = 12500 pos / 12500 neg, test = 12500 pos / 12500 neg\n"
     ]
    }
   ],
   "source": [
    "data, labels = read_imdb_data()\n",
    "print(\"IMDB reviews: train = {} pos / {} neg, test = {} pos / {} neg\".format(\n",
    "            len(data['train']['pos']), len(data['train']['neg']),\n",
    "            len(data['test']['pos']), len(data['test']['neg'])))"
   ]
  },
  {
   "cell_type": "code",
   "execution_count": 3,
   "metadata": {},
   "outputs": [],
   "source": [
    "from sklearn.utils import shuffle\n",
    "\n",
    "def prepare_imdb_data(data, labels):\n",
    "    \"\"\"Prepare training and test sets from IMDb movie reviews.\"\"\"\n",
    "    \n",
    "    #Combine positive and negative reviews and labels\n",
    "    data_train = data['train']['pos'] + data['train']['neg']\n",
    "    data_test = data['test']['pos'] + data['test']['neg']\n",
    "    labels_train = labels['train']['pos'] + labels['train']['neg']\n",
    "    labels_test = labels['test']['pos'] + labels['test']['neg']\n",
    "    \n",
    "    #Shuffle reviews and corresponding labels within training and test sets\n",
    "    data_train, labels_train = shuffle(data_train, labels_train)\n",
    "    data_test, labels_test = shuffle(data_test, labels_test)\n",
    "    \n",
    "    # Return a unified training data, test data, training labels, test labets\n",
    "    return data_train, data_test, labels_train, labels_test"
   ]
  },
  {
   "cell_type": "code",
   "execution_count": 4,
   "metadata": {},
   "outputs": [
    {
     "name": "stdout",
     "output_type": "stream",
     "text": [
      "IMDb reviews (combined): train = 25000, test = 25000\n"
     ]
    }
   ],
   "source": [
    "train_X, test_X, train_y, test_y = prepare_imdb_data(data, labels)\n",
    "print(\"IMDb reviews (combined): train = {}, test = {}\".format(len(train_X), len(test_X)))"
   ]
  },
  {
   "cell_type": "code",
   "execution_count": 5,
   "metadata": {},
   "outputs": [
    {
     "data": {
      "text/plain": [
       "'When I went and saw this movie, I had great expectations. But I had so wrong. This movie was exactly as every other horror movies. It\\'s a virus, zombies etc. Exactly as Resident Evil and many, many other movies. But the difference with this, and other movies, is that the story is very week. It\\'s bad actors and boring music. The photo is OK but the rest is total crap. Don\\'t see this \"horror\" movie, go and see the Ring 2 or any other movie who\\'s much more of a story. I hope they will stop making horror movies who has a virus and the virus spread and make people to zombies. We have seen enough of that. The only good thing in the movie is when they are standing at a roof and shoot famous, infected celebrities.'"
      ]
     },
     "execution_count": 5,
     "metadata": {},
     "output_type": "execute_result"
    }
   ],
   "source": [
    "train_X[100]"
   ]
  },
  {
   "cell_type": "markdown",
   "metadata": {},
   "source": [
    "## Processing the data\n",
    "\n",
    "Now that we have our training and testing datasets merged and ready to use, we need to start processing the raw data into something that will be useable by our machine learning algorithm. To begin with, we remove any html formatting and any non-alpha numeric characters that may appear in the reviews. We will do this in a very simplistic way using Python's regular expression module. We will discuss the reason for this rather simplistic pre-processing later on."
   ]
  },
  {
   "cell_type": "code",
   "execution_count": 6,
   "metadata": {},
   "outputs": [],
   "source": [
    "import re\n",
    "\n",
    "REPLACE_NO_SPACE = re.compile(\"(\\.)|(\\;)|(\\:)|(\\!)|(\\')|(\\?)|(\\,)|(\\\")|(\\()|(\\))|(\\[)|(\\])\")\n",
    "REPLACE_WITH_SPACE = re.compile(\"(<br\\s*/><br\\s*/>)|(\\-)|(\\/)\")\n",
    "\n",
    "def review_to_words(review):\n",
    "    words = REPLACE_NO_SPACE.sub(\"\", review.lower())\n",
    "    words = REPLACE_WITH_SPACE.sub(\" \", words)\n",
    "    return words"
   ]
  },
  {
   "cell_type": "code",
   "execution_count": 7,
   "metadata": {},
   "outputs": [
    {
     "data": {
      "text/plain": [
       "'when i went and saw this movie i had great expectations but i had so wrong this movie was exactly as every other horror movies its a virus zombies etc exactly as resident evil and many many other movies but the difference with this and other movies is that the story is very week its bad actors and boring music the photo is ok but the rest is total crap dont see this horror movie go and see the ring 2 or any other movie whos much more of a story i hope they will stop making horror movies who has a virus and the virus spread and make people to zombies we have seen enough of that the only good thing in the movie is when they are standing at a roof and shoot famous infected celebrities'"
      ]
     },
     "execution_count": 7,
     "metadata": {},
     "output_type": "execute_result"
    }
   ],
   "source": [
    "review_to_words(train_X[100])"
   ]
  },
  {
   "cell_type": "code",
   "execution_count": 8,
   "metadata": {},
   "outputs": [],
   "source": [
    "import pickle\n",
    "\n",
    "cache_dir = os.path.join(\"../cache\", \"sentiment_web_app\")  # where to store cache files\n",
    "os.makedirs(cache_dir, exist_ok=True)  # ensure cache directory exists\n",
    "\n",
    "def preprocess_data(data_train, data_test, labels_train, labels_test,\n",
    "                    cache_dir=cache_dir, cache_file=\"preprocessed_data.pkl\"):\n",
    "    \"\"\"Convert each review to words; read from cache if available.\"\"\"\n",
    "\n",
    "    # If cache_file is not None, try to read from it first\n",
    "    cache_data = None\n",
    "    if cache_file is not None:\n",
    "        try:\n",
    "            with open(os.path.join(cache_dir, cache_file), \"rb\") as f:\n",
    "                cache_data = pickle.load(f)\n",
    "            print(\"Read preprocessed data from cache file:\", cache_file)\n",
    "        except:\n",
    "            pass  # unable to read from cache, but that's okay\n",
    "    \n",
    "    # If cache is missing, then do the heavy lifting\n",
    "    if cache_data is None:\n",
    "        # Preprocess training and test data to obtain words for each review\n",
    "        #words_train = list(map(review_to_words, data_train))\n",
    "        #words_test = list(map(review_to_words, data_test))\n",
    "        words_train = [review_to_words(review) for review in data_train]\n",
    "        words_test = [review_to_words(review) for review in data_test]\n",
    "        \n",
    "        # Write to cache file for future runs\n",
    "        if cache_file is not None:\n",
    "            cache_data = dict(words_train=words_train, words_test=words_test,\n",
    "                              labels_train=labels_train, labels_test=labels_test)\n",
    "            with open(os.path.join(cache_dir, cache_file), \"wb\") as f:\n",
    "                pickle.dump(cache_data, f)\n",
    "            print(\"Wrote preprocessed data to cache file:\", cache_file)\n",
    "    else:\n",
    "        # Unpack data loaded from cache file\n",
    "        words_train, words_test, labels_train, labels_test = (cache_data['words_train'],\n",
    "                cache_data['words_test'], cache_data['labels_train'], cache_data['labels_test'])\n",
    "    \n",
    "    return words_train, words_test, labels_train, labels_test"
   ]
  },
  {
   "cell_type": "code",
   "execution_count": 9,
   "metadata": {},
   "outputs": [
    {
     "name": "stdout",
     "output_type": "stream",
     "text": [
      "Wrote preprocessed data to cache file: preprocessed_data.pkl\n"
     ]
    }
   ],
   "source": [
    "# Preprocess data\n",
    "train_X, test_X, train_y, test_y = preprocess_data(train_X, test_X, train_y, test_y)"
   ]
  },
  {
   "cell_type": "markdown",
   "metadata": {},
   "source": [
    "### Extract Bag-of-Words features\n",
    "\n",
    "For the model we will be implementing, rather than using the reviews directly, we are going to transform each review into a Bag-of-Words feature representation. Keep in mind that 'in the wild' we will only have access to the training set so our transformer can only use the training set to construct a representation."
   ]
  },
  {
   "cell_type": "code",
   "execution_count": 10,
   "metadata": {},
   "outputs": [],
   "source": [
    "import numpy as np\n",
    "from sklearn.feature_extraction.text import CountVectorizer\n",
    "from sklearn.externals import joblib\n",
    "# joblib is an enhanced version of pickle that is more efficient for storing NumPy arrays\n",
    "\n",
    "def extract_BoW_features(words_train, words_test, vocabulary_size=5000,\n",
    "                         cache_dir=cache_dir, cache_file=\"bow_features.pkl\"):\n",
    "    \"\"\"Extract Bag-of-Words for a given set of documents, already preprocessed into words.\"\"\"\n",
    "    \n",
    "    # If cache_file is not None, try to read from it first\n",
    "    cache_data = None\n",
    "    if cache_file is not None:\n",
    "        try:\n",
    "            with open(os.path.join(cache_dir, cache_file), \"rb\") as f:\n",
    "                cache_data = joblib.load(f)\n",
    "            print(\"Read features from cache file:\", cache_file)\n",
    "        except:\n",
    "            pass  # unable to read from cache, but that's okay\n",
    "    \n",
    "    # If cache is missing, then do the heavy lifting\n",
    "    if cache_data is None:\n",
    "        # Fit a vectorizer to training documents and use it to transform them\n",
    "        # NOTE: Training documents have already been preprocessed and tokenized into words;\n",
    "        #       pass in dummy functions to skip those steps, e.g. preprocessor=lambda x: x\n",
    "        vectorizer = CountVectorizer(max_features=vocabulary_size)\n",
    "        features_train = vectorizer.fit_transform(words_train).toarray()\n",
    "\n",
    "        # Apply the same vectorizer to transform the test documents (ignore unknown words)\n",
    "        features_test = vectorizer.transform(words_test).toarray()\n",
    "        \n",
    "        # NOTE: Remember to convert the features using .toarray() for a compact representation\n",
    "        \n",
    "        # Write to cache file for future runs (store vocabulary as well)\n",
    "        if cache_file is not None:\n",
    "            vocabulary = vectorizer.vocabulary_\n",
    "            cache_data = dict(features_train=features_train, features_test=features_test,\n",
    "                             vocabulary=vocabulary)\n",
    "            with open(os.path.join(cache_dir, cache_file), \"wb\") as f:\n",
    "                joblib.dump(cache_data, f)\n",
    "            print(\"Wrote features to cache file:\", cache_file)\n",
    "    else:\n",
    "        # Unpack data loaded from cache file\n",
    "        features_train, features_test, vocabulary = (cache_data['features_train'],\n",
    "                cache_data['features_test'], cache_data['vocabulary'])\n",
    "    \n",
    "    # Return both the extracted features as well as the vocabulary\n",
    "    return features_train, features_test, vocabulary"
   ]
  },
  {
   "cell_type": "code",
   "execution_count": 11,
   "metadata": {},
   "outputs": [
    {
     "name": "stdout",
     "output_type": "stream",
     "text": [
      "Wrote features to cache file: bow_features.pkl\n"
     ]
    }
   ],
   "source": [
    "# Extract Bag of Words features for both training and test datasets\n",
    "train_X, test_X, vocabulary = extract_BoW_features(train_X, test_X)"
   ]
  },
  {
   "cell_type": "code",
   "execution_count": 12,
   "metadata": {},
   "outputs": [
    {
     "data": {
      "text/plain": [
       "5000"
      ]
     },
     "execution_count": 12,
     "metadata": {},
     "output_type": "execute_result"
    }
   ],
   "source": [
    "len(train_X[100])"
   ]
  },
  {
   "cell_type": "markdown",
   "metadata": {},
   "source": [
    "## Step 3: Upload data to S3\n",
    "\n",
    "Now that we have created the feature representation of our training (and testing) data, it is time to start setting up and using the XGBoost classifier provided by SageMaker.\n",
    "\n",
    "### Writing the datasets\n",
    "\n",
    "The XGBoost classifier that we will be using requires the dataset to be written to a file and stored using Amazon S3. To do this, we will start by splitting the training dataset into two parts, the data we will train the model with and a validation set. Then, we will write those datasets to a file locally and then upload the files to S3. In addition, we will write the test set to a file and upload that file to S3. This is so that we can use SageMakers Batch Transform functionality to test our model once we've fit it."
   ]
  },
  {
   "cell_type": "code",
   "execution_count": 13,
   "metadata": {},
   "outputs": [],
   "source": [
    "import pandas as pd\n",
    "\n",
    "# Earlier we shuffled the training dataset so to make things simple we can just assign\n",
    "# the first 10 000 reviews to the validation set and use the remaining reviews for training.\n",
    "val_X = pd.DataFrame(train_X[:10000])\n",
    "train_X = pd.DataFrame(train_X[10000:])\n",
    "\n",
    "val_y = pd.DataFrame(train_y[:10000])\n",
    "train_y = pd.DataFrame(train_y[10000:])"
   ]
  },
  {
   "cell_type": "markdown",
   "metadata": {},
   "source": [
    "The documentation for the XGBoost algorithm in SageMaker requires that the training and validation datasets should contain no headers or index and that the label should occur first for each sample.\n",
    "\n",
    "For more information about this and other algorithms, the SageMaker developer documentation can be found on __[Amazon's website.](https://docs.aws.amazon.com/sagemaker/latest/dg/)__"
   ]
  },
  {
   "cell_type": "code",
   "execution_count": 14,
   "metadata": {},
   "outputs": [],
   "source": [
    "# First we make sure that the local directory in which we'd like to store the training and validation csv files exists.\n",
    "data_dir = '../data/sentiment_web_app'\n",
    "if not os.path.exists(data_dir):\n",
    "    os.makedirs(data_dir)"
   ]
  },
  {
   "cell_type": "code",
   "execution_count": 15,
   "metadata": {},
   "outputs": [],
   "source": [
    "pd.DataFrame(test_X).to_csv(os.path.join(data_dir, 'test.csv'), header=False, index=False)\n",
    "\n",
    "pd.concat([val_y, val_X], axis=1).to_csv(os.path.join(data_dir, 'validation.csv'), header=False, index=False)\n",
    "pd.concat([train_y, train_X], axis=1).to_csv(os.path.join(data_dir, 'train.csv'), header=False, index=False)"
   ]
  },
  {
   "cell_type": "code",
   "execution_count": 16,
   "metadata": {},
   "outputs": [],
   "source": [
    "# To save a bit of memory we can set text_X, train_X, val_X, train_y and val_y to None.\n",
    "\n",
    "test_X = train_X = val_X = train_y = val_y = None"
   ]
  },
  {
   "cell_type": "markdown",
   "metadata": {},
   "source": [
    "### Uploading Training / Validation files to S3\n",
    "\n",
    "Amazon's S3 service allows us to store files that can be accessed by both the built-in training models such as the XGBoost model we will be using as well as custom models such as the one we will see a little later.\n",
    "\n",
    "For this and most other tasks we will be doing using SageMaker, there are two methods we could use. The first is to use the low level functionality of SageMaker which requires knowing each of the objects involved in the SageMaker environment. The second is to use the high level functionality in which certain choices have been made on the user's behalf. The low level approach benefits from allowing the user a great deal of flexibility while the high level approach makes development much quicker. For our purposes we will opt to use the high level approach although using the low-level approach is certainly an option.\n",
    "\n",
    "Recall the method `upload_data()` which is a member of the object representing our current SageMaker session. What this method does is upload the data to the default bucket (which is created if it does not exist) into the path described by the key_prefix variable. To see this for yourself, once you have uploaded the data files, go to the S3 console and look to see where the files have been uploaded.\n",
    "\n",
    "For additional resources, see the __[SageMaker API documentation](http://sagemaker.readthedocs.io/en/latest/)__ and in addition the __[SageMaker Developer Guide.](https://docs.aws.amazon.com/sagemaker/latest/dg/)__"
   ]
  },
  {
   "cell_type": "code",
   "execution_count": 17,
   "metadata": {},
   "outputs": [],
   "source": [
    "import sagemaker\n",
    "\n",
    "session = sagemaker.Session() # Store the current SageMaker session\n",
    "\n",
    "# S3 prefix (which folder will we use)\n",
    "prefix = 'sentiment-web-app'\n",
    "\n",
    "test_location = session.upload_data(os.path.join(data_dir, 'test.csv'), key_prefix=prefix)\n",
    "val_location = session.upload_data(os.path.join(data_dir, 'validation.csv'), key_prefix=prefix)\n",
    "train_location = session.upload_data(os.path.join(data_dir, 'train.csv'), key_prefix=prefix)"
   ]
  },
  {
   "cell_type": "markdown",
   "metadata": {},
   "source": [
    "## Step 4: Creating the XGBoost model\n",
    "\n",
    "Now that the data has been uploaded it is time to create the XGBoost model. To begin with, we need to do some setup. At this point it is worth discussing what a model is in SageMaker. It is easiest to think of a model of comprising three different objects in the SageMaker ecosystem, which interact with one another.\n",
    "\n",
    "- Model Artifacts\n",
    "- Training Code (Container)\n",
    "- Inference Code (Container)\n",
    "\n",
    "The Model Artifacts are what you might think of as the actual model itself. For example, if you were building a neural network, the model artifacts would be the weights of the various layers. In our case, for an XGBoost model, the artifacts are the actual trees that are created during training.\n",
    "\n",
    "The other two objects, the training code and the inference code are then used to manipulate the training artifacts. More precisely, the training code uses the training data that is provided and creates the model artifacts, while the inference code uses the model artifacts to make predictions on new data.\n",
    "\n",
    "The way that SageMaker runs the training and inference code is by making use of Docker containers. For now, think of a container as being a way of packaging code up so that dependencies aren't an issue."
   ]
  },
  {
   "cell_type": "code",
   "execution_count": 18,
   "metadata": {},
   "outputs": [],
   "source": [
    "from sagemaker import get_execution_role\n",
    "\n",
    "# Our current execution role is required when creating the model as the training\n",
    "# and inference code will need to access the model artifacts.\n",
    "role = get_execution_role()"
   ]
  },
  {
   "cell_type": "code",
   "execution_count": 19,
   "metadata": {},
   "outputs": [
    {
     "name": "stderr",
     "output_type": "stream",
     "text": [
      "WARNING:root:There is a more up to date SageMaker XGBoost image. To use the newer image, please set 'repo_version'='0.90-1'. For example:\n",
      "\tget_image_uri(region, 'xgboost', '0.90-1').\n"
     ]
    }
   ],
   "source": [
    "# We need to retrieve the location of the container which is provided by Amazon for using XGBoost.\n",
    "# As a matter of convenience, the training and inference code both use the same container.\n",
    "from sagemaker.amazon.amazon_estimator import get_image_uri\n",
    "\n",
    "container = get_image_uri(session.boto_region_name, 'xgboost')"
   ]
  },
  {
   "cell_type": "code",
   "execution_count": 20,
   "metadata": {},
   "outputs": [],
   "source": [
    "# First we create a SageMaker estimator object for our model.\n",
    "xgb = sagemaker.estimator.Estimator(container, # The location of the container we wish to use\n",
    "                                    role,                                    # What is our current IAM Role\n",
    "                                    train_instance_count=1,                  # How many compute instances\n",
    "                                    train_instance_type='ml.m4.xlarge',      # What kind of compute instances\n",
    "                                    output_path='s3://{}/{}/output'.format(session.default_bucket(), prefix),\n",
    "                                    sagemaker_session=session)\n",
    "\n",
    "# And then set the algorithm specific parameters.\n",
    "xgb.set_hyperparameters(max_depth=5,\n",
    "                        eta=0.2,\n",
    "                        gamma=4,\n",
    "                        min_child_weight=6,\n",
    "                        subsample=0.8,\n",
    "                        silent=0,\n",
    "                        objective='binary:logistic',\n",
    "                        early_stopping_rounds=10,\n",
    "                        num_round=500)"
   ]
  },
  {
   "cell_type": "markdown",
   "metadata": {},
   "source": [
    "### Fit the XGBoost model\n",
    "\n",
    "Now that our model has been set up we simply need to attach the training and validation datasets and then ask SageMaker to set up the computation."
   ]
  },
  {
   "cell_type": "code",
   "execution_count": 21,
   "metadata": {},
   "outputs": [],
   "source": [
    "s3_input_train = sagemaker.s3_input(s3_data=train_location, content_type='csv')\n",
    "s3_input_validation = sagemaker.s3_input(s3_data=val_location, content_type='csv')"
   ]
  },
  {
   "cell_type": "code",
   "execution_count": 22,
   "metadata": {},
   "outputs": [
    {
     "name": "stdout",
     "output_type": "stream",
     "text": [
      "2020-05-02 14:09:21 Starting - Starting the training job...\n",
      "2020-05-02 14:09:23 Starting - Launching requested ML instances...\n",
      "2020-05-02 14:10:20 Starting - Preparing the instances for training.........\n",
      "2020-05-02 14:11:45 Downloading - Downloading input data\n",
      "2020-05-02 14:11:45 Training - Downloading the training image...\n",
      "2020-05-02 14:12:04 Training - Training image download completed. Training in progress.\u001b[34mArguments: train\u001b[0m\n",
      "\u001b[34m[2020-05-02:14:12:05:INFO] Running standalone xgboost training.\u001b[0m\n",
      "\u001b[34m[2020-05-02:14:12:05:INFO] File size need to be processed in the node: 238.5mb. Available memory size in the node: 8479.45mb\u001b[0m\n",
      "\u001b[34m[2020-05-02:14:12:05:INFO] Determined delimiter of CSV input is ','\u001b[0m\n",
      "\u001b[34m[14:12:05] S3DistributionType set as FullyReplicated\u001b[0m\n",
      "\u001b[34m[14:12:07] 15000x5000 matrix with 75000000 entries loaded from /opt/ml/input/data/train?format=csv&label_column=0&delimiter=,\u001b[0m\n",
      "\u001b[34m[2020-05-02:14:12:07:INFO] Determined delimiter of CSV input is ','\u001b[0m\n",
      "\u001b[34m[14:12:07] S3DistributionType set as FullyReplicated\u001b[0m\n",
      "\u001b[34m[14:12:08] 10000x5000 matrix with 50000000 entries loaded from /opt/ml/input/data/validation?format=csv&label_column=0&delimiter=,\u001b[0m\n",
      "\u001b[34m[14:12:12] src/tree/updater_prune.cc:74: tree pruning end, 1 roots, 40 extra nodes, 4 pruned nodes, max_depth=5\u001b[0m\n",
      "\u001b[34m[0]#011train-error:0.301867#011validation-error:0.3118\u001b[0m\n",
      "\u001b[34mMultiple eval metrics have been passed: 'validation-error' will be used for early stopping.\n",
      "\u001b[0m\n",
      "\u001b[34mWill train until validation-error hasn't improved in 10 rounds.\u001b[0m\n",
      "\u001b[34m[14:12:13] src/tree/updater_prune.cc:74: tree pruning end, 1 roots, 36 extra nodes, 4 pruned nodes, max_depth=5\u001b[0m\n",
      "\u001b[34m[1]#011train-error:0.288333#011validation-error:0.297\u001b[0m\n",
      "\u001b[34m[14:12:14] src/tree/updater_prune.cc:74: tree pruning end, 1 roots, 40 extra nodes, 6 pruned nodes, max_depth=5\u001b[0m\n",
      "\u001b[34m[2]#011train-error:0.287133#011validation-error:0.2999\u001b[0m\n",
      "\u001b[34m[14:12:16] src/tree/updater_prune.cc:74: tree pruning end, 1 roots, 42 extra nodes, 6 pruned nodes, max_depth=5\u001b[0m\n",
      "\u001b[34m[3]#011train-error:0.2712#011validation-error:0.2867\u001b[0m\n",
      "\u001b[34m[14:12:17] src/tree/updater_prune.cc:74: tree pruning end, 1 roots, 30 extra nodes, 6 pruned nodes, max_depth=5\u001b[0m\n",
      "\u001b[34m[4]#011train-error:0.268733#011validation-error:0.2839\u001b[0m\n",
      "\u001b[34m[14:12:19] src/tree/updater_prune.cc:74: tree pruning end, 1 roots, 32 extra nodes, 10 pruned nodes, max_depth=5\u001b[0m\n",
      "\u001b[34m[5]#011train-error:0.2642#011validation-error:0.2806\u001b[0m\n",
      "\u001b[34m[14:12:20] src/tree/updater_prune.cc:74: tree pruning end, 1 roots, 42 extra nodes, 4 pruned nodes, max_depth=5\u001b[0m\n",
      "\u001b[34m[6]#011train-error:0.2502#011validation-error:0.2692\u001b[0m\n",
      "\u001b[34m[14:12:21] src/tree/updater_prune.cc:74: tree pruning end, 1 roots, 36 extra nodes, 0 pruned nodes, max_depth=5\u001b[0m\n",
      "\u001b[34m[7]#011train-error:0.241867#011validation-error:0.2611\u001b[0m\n",
      "\u001b[34m[14:12:23] src/tree/updater_prune.cc:74: tree pruning end, 1 roots, 28 extra nodes, 4 pruned nodes, max_depth=5\u001b[0m\n",
      "\u001b[34m[8]#011train-error:0.2318#011validation-error:0.2537\u001b[0m\n",
      "\u001b[34m[14:12:24] src/tree/updater_prune.cc:74: tree pruning end, 1 roots, 24 extra nodes, 12 pruned nodes, max_depth=5\u001b[0m\n",
      "\u001b[34m[9]#011train-error:0.228333#011validation-error:0.2493\u001b[0m\n",
      "\u001b[34m[14:12:25] src/tree/updater_prune.cc:74: tree pruning end, 1 roots, 42 extra nodes, 4 pruned nodes, max_depth=5\u001b[0m\n",
      "\u001b[34m[10]#011train-error:0.222267#011validation-error:0.2461\u001b[0m\n",
      "\u001b[34m[14:12:27] src/tree/updater_prune.cc:74: tree pruning end, 1 roots, 28 extra nodes, 8 pruned nodes, max_depth=5\u001b[0m\n",
      "\u001b[34m[11]#011train-error:0.220267#011validation-error:0.2444\u001b[0m\n",
      "\u001b[34m[14:12:28] src/tree/updater_prune.cc:74: tree pruning end, 1 roots, 26 extra nodes, 18 pruned nodes, max_depth=5\u001b[0m\n",
      "\u001b[34m[12]#011train-error:0.216467#011validation-error:0.2402\u001b[0m\n",
      "\u001b[34m[14:12:29] src/tree/updater_prune.cc:74: tree pruning end, 1 roots, 24 extra nodes, 14 pruned nodes, max_depth=5\u001b[0m\n",
      "\u001b[34m[13]#011train-error:0.212867#011validation-error:0.236\u001b[0m\n",
      "\u001b[34m[14:12:30] src/tree/updater_prune.cc:74: tree pruning end, 1 roots, 26 extra nodes, 4 pruned nodes, max_depth=5\u001b[0m\n",
      "\u001b[34m[14]#011train-error:0.208267#011validation-error:0.2314\u001b[0m\n",
      "\u001b[34m[14:12:32] src/tree/updater_prune.cc:74: tree pruning end, 1 roots, 36 extra nodes, 14 pruned nodes, max_depth=5\u001b[0m\n",
      "\u001b[34m[15]#011train-error:0.204733#011validation-error:0.2288\u001b[0m\n",
      "\u001b[34m[14:12:33] src/tree/updater_prune.cc:74: tree pruning end, 1 roots, 20 extra nodes, 12 pruned nodes, max_depth=5\u001b[0m\n",
      "\u001b[34m[16]#011train-error:0.200933#011validation-error:0.2264\u001b[0m\n",
      "\u001b[34m[14:12:34] src/tree/updater_prune.cc:74: tree pruning end, 1 roots, 22 extra nodes, 10 pruned nodes, max_depth=5\u001b[0m\n",
      "\u001b[34m[17]#011train-error:0.199#011validation-error:0.2241\u001b[0m\n",
      "\u001b[34m[14:12:36] src/tree/updater_prune.cc:74: tree pruning end, 1 roots, 32 extra nodes, 12 pruned nodes, max_depth=5\u001b[0m\n",
      "\u001b[34m[18]#011train-error:0.197067#011validation-error:0.2212\u001b[0m\n",
      "\u001b[34m[14:12:37] src/tree/updater_prune.cc:74: tree pruning end, 1 roots, 30 extra nodes, 12 pruned nodes, max_depth=5\u001b[0m\n",
      "\u001b[34m[19]#011train-error:0.194267#011validation-error:0.2191\u001b[0m\n",
      "\u001b[34m[14:12:38] src/tree/updater_prune.cc:74: tree pruning end, 1 roots, 28 extra nodes, 4 pruned nodes, max_depth=5\u001b[0m\n",
      "\u001b[34m[20]#011train-error:0.193467#011validation-error:0.2169\u001b[0m\n",
      "\u001b[34m[14:12:39] src/tree/updater_prune.cc:74: tree pruning end, 1 roots, 40 extra nodes, 8 pruned nodes, max_depth=5\u001b[0m\n",
      "\u001b[34m[21]#011train-error:0.1904#011validation-error:0.214\u001b[0m\n",
      "\u001b[34m[14:12:41] src/tree/updater_prune.cc:74: tree pruning end, 1 roots, 36 extra nodes, 10 pruned nodes, max_depth=5\u001b[0m\n",
      "\u001b[34m[22]#011train-error:0.187267#011validation-error:0.2127\u001b[0m\n",
      "\u001b[34m[14:12:42] src/tree/updater_prune.cc:74: tree pruning end, 1 roots, 28 extra nodes, 10 pruned nodes, max_depth=5\u001b[0m\n",
      "\u001b[34m[23]#011train-error:0.183333#011validation-error:0.2102\u001b[0m\n",
      "\u001b[34m[14:12:43] src/tree/updater_prune.cc:74: tree pruning end, 1 roots, 34 extra nodes, 8 pruned nodes, max_depth=5\u001b[0m\n",
      "\u001b[34m[24]#011train-error:0.180067#011validation-error:0.2088\u001b[0m\n",
      "\u001b[34m[14:12:45] src/tree/updater_prune.cc:74: tree pruning end, 1 roots, 40 extra nodes, 8 pruned nodes, max_depth=5\u001b[0m\n",
      "\u001b[34m[25]#011train-error:0.178533#011validation-error:0.2082\u001b[0m\n",
      "\u001b[34m[14:12:46] src/tree/updater_prune.cc:74: tree pruning end, 1 roots, 28 extra nodes, 4 pruned nodes, max_depth=5\u001b[0m\n",
      "\u001b[34m[26]#011train-error:0.1756#011validation-error:0.2065\u001b[0m\n",
      "\u001b[34m[14:12:47] src/tree/updater_prune.cc:74: tree pruning end, 1 roots, 34 extra nodes, 6 pruned nodes, max_depth=5\u001b[0m\n",
      "\u001b[34m[27]#011train-error:0.1726#011validation-error:0.2031\u001b[0m\n",
      "\u001b[34m[14:12:48] src/tree/updater_prune.cc:74: tree pruning end, 1 roots, 26 extra nodes, 20 pruned nodes, max_depth=5\u001b[0m\n",
      "\u001b[34m[28]#011train-error:0.170533#011validation-error:0.2015\u001b[0m\n",
      "\u001b[34m[14:12:50] src/tree/updater_prune.cc:74: tree pruning end, 1 roots, 24 extra nodes, 4 pruned nodes, max_depth=5\u001b[0m\n",
      "\u001b[34m[29]#011train-error:0.168867#011validation-error:0.1999\u001b[0m\n",
      "\u001b[34m[14:12:51] src/tree/updater_prune.cc:74: tree pruning end, 1 roots, 30 extra nodes, 4 pruned nodes, max_depth=5\u001b[0m\n",
      "\u001b[34m[30]#011train-error:0.1662#011validation-error:0.1997\u001b[0m\n",
      "\u001b[34m[14:12:52] src/tree/updater_prune.cc:74: tree pruning end, 1 roots, 26 extra nodes, 6 pruned nodes, max_depth=5\u001b[0m\n",
      "\u001b[34m[31]#011train-error:0.164933#011validation-error:0.1986\u001b[0m\n",
      "\u001b[34m[14:12:54] src/tree/updater_prune.cc:74: tree pruning end, 1 roots, 28 extra nodes, 6 pruned nodes, max_depth=5\u001b[0m\n",
      "\u001b[34m[32]#011train-error:0.161533#011validation-error:0.1979\u001b[0m\n",
      "\u001b[34m[14:12:55] src/tree/updater_prune.cc:74: tree pruning end, 1 roots, 20 extra nodes, 8 pruned nodes, max_depth=5\u001b[0m\n",
      "\u001b[34m[33]#011train-error:0.163133#011validation-error:0.1965\u001b[0m\n",
      "\u001b[34m[14:12:56] src/tree/updater_prune.cc:74: tree pruning end, 1 roots, 26 extra nodes, 4 pruned nodes, max_depth=5\u001b[0m\n",
      "\u001b[34m[34]#011train-error:0.160467#011validation-error:0.1944\u001b[0m\n",
      "\u001b[34m[14:12:57] src/tree/updater_prune.cc:74: tree pruning end, 1 roots, 26 extra nodes, 8 pruned nodes, max_depth=5\u001b[0m\n",
      "\u001b[34m[35]#011train-error:0.158667#011validation-error:0.192\u001b[0m\n",
      "\u001b[34m[14:12:59] src/tree/updater_prune.cc:74: tree pruning end, 1 roots, 18 extra nodes, 12 pruned nodes, max_depth=5\u001b[0m\n",
      "\u001b[34m[36]#011train-error:0.157667#011validation-error:0.192\u001b[0m\n",
      "\u001b[34m[14:13:00] src/tree/updater_prune.cc:74: tree pruning end, 1 roots, 26 extra nodes, 18 pruned nodes, max_depth=5\u001b[0m\n",
      "\u001b[34m[37]#011train-error:0.156067#011validation-error:0.1913\u001b[0m\n",
      "\u001b[34m[14:13:01] src/tree/updater_prune.cc:74: tree pruning end, 1 roots, 28 extra nodes, 6 pruned nodes, max_depth=5\u001b[0m\n",
      "\u001b[34m[38]#011train-error:0.153733#011validation-error:0.1906\u001b[0m\n",
      "\u001b[34m[14:13:03] src/tree/updater_prune.cc:74: tree pruning end, 1 roots, 26 extra nodes, 8 pruned nodes, max_depth=5\u001b[0m\n",
      "\u001b[34m[39]#011train-error:0.152#011validation-error:0.1905\u001b[0m\n",
      "\u001b[34m[14:13:04] src/tree/updater_prune.cc:74: tree pruning end, 1 roots, 14 extra nodes, 6 pruned nodes, max_depth=5\u001b[0m\n",
      "\u001b[34m[40]#011train-error:0.151#011validation-error:0.1905\u001b[0m\n",
      "\u001b[34m[14:13:05] src/tree/updater_prune.cc:74: tree pruning end, 1 roots, 28 extra nodes, 2 pruned nodes, max_depth=5\u001b[0m\n",
      "\u001b[34m[41]#011train-error:0.147867#011validation-error:0.1894\u001b[0m\n",
      "\u001b[34m[14:13:06] src/tree/updater_prune.cc:74: tree pruning end, 1 roots, 16 extra nodes, 4 pruned nodes, max_depth=5\u001b[0m\n",
      "\u001b[34m[42]#011train-error:0.1468#011validation-error:0.1891\u001b[0m\n",
      "\u001b[34m[14:13:08] src/tree/updater_prune.cc:74: tree pruning end, 1 roots, 36 extra nodes, 10 pruned nodes, max_depth=5\u001b[0m\n",
      "\u001b[34m[43]#011train-error:0.146867#011validation-error:0.1882\u001b[0m\n"
     ]
    },
    {
     "name": "stdout",
     "output_type": "stream",
     "text": [
      "\u001b[34m[14:13:09] src/tree/updater_prune.cc:74: tree pruning end, 1 roots, 20 extra nodes, 10 pruned nodes, max_depth=5\u001b[0m\n",
      "\u001b[34m[44]#011train-error:0.145533#011validation-error:0.1877\u001b[0m\n",
      "\u001b[34m[14:13:10] src/tree/updater_prune.cc:74: tree pruning end, 1 roots, 30 extra nodes, 10 pruned nodes, max_depth=5\u001b[0m\n",
      "\u001b[34m[45]#011train-error:0.1436#011validation-error:0.1834\u001b[0m\n",
      "\u001b[34m[14:13:12] src/tree/updater_prune.cc:74: tree pruning end, 1 roots, 28 extra nodes, 10 pruned nodes, max_depth=5\u001b[0m\n",
      "\u001b[34m[46]#011train-error:0.142667#011validation-error:0.1831\u001b[0m\n",
      "\u001b[34m[14:13:13] src/tree/updater_prune.cc:74: tree pruning end, 1 roots, 20 extra nodes, 8 pruned nodes, max_depth=5\u001b[0m\n",
      "\u001b[34m[47]#011train-error:0.141667#011validation-error:0.1824\u001b[0m\n",
      "\u001b[34m[14:13:14] src/tree/updater_prune.cc:74: tree pruning end, 1 roots, 42 extra nodes, 10 pruned nodes, max_depth=5\u001b[0m\n",
      "\u001b[34m[48]#011train-error:0.141267#011validation-error:0.1803\u001b[0m\n",
      "\u001b[34m[14:13:15] src/tree/updater_prune.cc:74: tree pruning end, 1 roots, 22 extra nodes, 4 pruned nodes, max_depth=5\u001b[0m\n",
      "\u001b[34m[49]#011train-error:0.14#011validation-error:0.1801\u001b[0m\n",
      "\u001b[34m[14:13:17] src/tree/updater_prune.cc:74: tree pruning end, 1 roots, 26 extra nodes, 4 pruned nodes, max_depth=5\u001b[0m\n",
      "\u001b[34m[50]#011train-error:0.138267#011validation-error:0.1788\u001b[0m\n",
      "\u001b[34m[14:13:18] src/tree/updater_prune.cc:74: tree pruning end, 1 roots, 26 extra nodes, 6 pruned nodes, max_depth=5\u001b[0m\n",
      "\u001b[34m[51]#011train-error:0.137933#011validation-error:0.1784\u001b[0m\n",
      "\u001b[34m[14:13:19] src/tree/updater_prune.cc:74: tree pruning end, 1 roots, 18 extra nodes, 8 pruned nodes, max_depth=5\u001b[0m\n",
      "\u001b[34m[52]#011train-error:0.137133#011validation-error:0.1784\u001b[0m\n",
      "\u001b[34m[14:13:21] src/tree/updater_prune.cc:74: tree pruning end, 1 roots, 24 extra nodes, 10 pruned nodes, max_depth=5\u001b[0m\n",
      "\u001b[34m[53]#011train-error:0.1366#011validation-error:0.1777\u001b[0m\n",
      "\u001b[34m[14:13:22] src/tree/updater_prune.cc:74: tree pruning end, 1 roots, 22 extra nodes, 6 pruned nodes, max_depth=5\u001b[0m\n",
      "\u001b[34m[54]#011train-error:0.134867#011validation-error:0.1767\u001b[0m\n",
      "\u001b[34m[14:13:23] src/tree/updater_prune.cc:74: tree pruning end, 1 roots, 16 extra nodes, 2 pruned nodes, max_depth=5\u001b[0m\n",
      "\u001b[34m[55]#011train-error:0.134733#011validation-error:0.1753\u001b[0m\n",
      "\u001b[34m[14:13:24] src/tree/updater_prune.cc:74: tree pruning end, 1 roots, 14 extra nodes, 18 pruned nodes, max_depth=5\u001b[0m\n",
      "\u001b[34m[56]#011train-error:0.133867#011validation-error:0.1748\u001b[0m\n",
      "\u001b[34m[14:13:26] src/tree/updater_prune.cc:74: tree pruning end, 1 roots, 14 extra nodes, 12 pruned nodes, max_depth=5\u001b[0m\n",
      "\u001b[34m[57]#011train-error:0.1328#011validation-error:0.1746\u001b[0m\n",
      "\u001b[34m[14:13:27] src/tree/updater_prune.cc:74: tree pruning end, 1 roots, 24 extra nodes, 8 pruned nodes, max_depth=5\u001b[0m\n",
      "\u001b[34m[58]#011train-error:0.131667#011validation-error:0.1739\u001b[0m\n",
      "\u001b[34m[14:13:28] src/tree/updater_prune.cc:74: tree pruning end, 1 roots, 18 extra nodes, 10 pruned nodes, max_depth=5\u001b[0m\n",
      "\u001b[34m[59]#011train-error:0.130933#011validation-error:0.1733\u001b[0m\n",
      "\u001b[34m[14:13:30] src/tree/updater_prune.cc:74: tree pruning end, 1 roots, 18 extra nodes, 10 pruned nodes, max_depth=5\u001b[0m\n",
      "\u001b[34m[60]#011train-error:0.128867#011validation-error:0.1727\u001b[0m\n",
      "\u001b[34m[14:13:31] src/tree/updater_prune.cc:74: tree pruning end, 1 roots, 18 extra nodes, 10 pruned nodes, max_depth=5\u001b[0m\n",
      "\u001b[34m[61]#011train-error:0.128533#011validation-error:0.1713\u001b[0m\n",
      "\u001b[34m[14:13:32] src/tree/updater_prune.cc:74: tree pruning end, 1 roots, 18 extra nodes, 2 pruned nodes, max_depth=5\u001b[0m\n",
      "\u001b[34m[62]#011train-error:0.127667#011validation-error:0.1696\u001b[0m\n",
      "\u001b[34m[14:13:33] src/tree/updater_prune.cc:74: tree pruning end, 1 roots, 18 extra nodes, 8 pruned nodes, max_depth=5\u001b[0m\n",
      "\u001b[34m[63]#011train-error:0.1264#011validation-error:0.1689\u001b[0m\n",
      "\u001b[34m[14:13:35] src/tree/updater_prune.cc:74: tree pruning end, 1 roots, 26 extra nodes, 6 pruned nodes, max_depth=5\u001b[0m\n",
      "\u001b[34m[64]#011train-error:0.1262#011validation-error:0.1687\u001b[0m\n",
      "\u001b[34m[14:13:36] src/tree/updater_prune.cc:74: tree pruning end, 1 roots, 14 extra nodes, 10 pruned nodes, max_depth=5\u001b[0m\n",
      "\u001b[34m[65]#011train-error:0.125#011validation-error:0.169\u001b[0m\n",
      "\u001b[34m[14:13:37] src/tree/updater_prune.cc:74: tree pruning end, 1 roots, 16 extra nodes, 12 pruned nodes, max_depth=5\u001b[0m\n",
      "\u001b[34m[66]#011train-error:0.1242#011validation-error:0.169\u001b[0m\n",
      "\u001b[34m[14:13:39] src/tree/updater_prune.cc:74: tree pruning end, 1 roots, 20 extra nodes, 8 pruned nodes, max_depth=5\u001b[0m\n",
      "\u001b[34m[67]#011train-error:0.1232#011validation-error:0.1711\u001b[0m\n",
      "\u001b[34m[14:13:40] src/tree/updater_prune.cc:74: tree pruning end, 1 roots, 22 extra nodes, 10 pruned nodes, max_depth=5\u001b[0m\n",
      "\u001b[34m[68]#011train-error:0.1222#011validation-error:0.1698\u001b[0m\n",
      "\u001b[34m[14:13:41] src/tree/updater_prune.cc:74: tree pruning end, 1 roots, 16 extra nodes, 14 pruned nodes, max_depth=5\u001b[0m\n",
      "\u001b[34m[69]#011train-error:0.1216#011validation-error:0.1693\u001b[0m\n",
      "\u001b[34m[14:13:42] src/tree/updater_prune.cc:74: tree pruning end, 1 roots, 20 extra nodes, 16 pruned nodes, max_depth=5\u001b[0m\n",
      "\u001b[34m[70]#011train-error:0.1214#011validation-error:0.1681\u001b[0m\n",
      "\u001b[34m[14:13:44] src/tree/updater_prune.cc:74: tree pruning end, 1 roots, 20 extra nodes, 2 pruned nodes, max_depth=5\u001b[0m\n",
      "\u001b[34m[71]#011train-error:0.121133#011validation-error:0.1675\u001b[0m\n",
      "\u001b[34m[14:13:45] src/tree/updater_prune.cc:74: tree pruning end, 1 roots, 26 extra nodes, 10 pruned nodes, max_depth=5\u001b[0m\n",
      "\u001b[34m[72]#011train-error:0.120667#011validation-error:0.167\u001b[0m\n",
      "\u001b[34m[14:13:46] src/tree/updater_prune.cc:74: tree pruning end, 1 roots, 18 extra nodes, 6 pruned nodes, max_depth=5\u001b[0m\n",
      "\u001b[34m[73]#011train-error:0.1198#011validation-error:0.1662\u001b[0m\n",
      "\u001b[34m[14:13:48] src/tree/updater_prune.cc:74: tree pruning end, 1 roots, 26 extra nodes, 4 pruned nodes, max_depth=5\u001b[0m\n",
      "\u001b[34m[74]#011train-error:0.119333#011validation-error:0.1665\u001b[0m\n",
      "\u001b[34m[14:13:49] src/tree/updater_prune.cc:74: tree pruning end, 1 roots, 12 extra nodes, 6 pruned nodes, max_depth=5\u001b[0m\n",
      "\u001b[34m[75]#011train-error:0.118867#011validation-error:0.1656\u001b[0m\n",
      "\u001b[34m[14:13:50] src/tree/updater_prune.cc:74: tree pruning end, 1 roots, 26 extra nodes, 6 pruned nodes, max_depth=5\u001b[0m\n",
      "\u001b[34m[76]#011train-error:0.118333#011validation-error:0.1639\u001b[0m\n",
      "\u001b[34m[14:13:51] src/tree/updater_prune.cc:74: tree pruning end, 1 roots, 16 extra nodes, 10 pruned nodes, max_depth=5\u001b[0m\n",
      "\u001b[34m[77]#011train-error:0.117533#011validation-error:0.1647\u001b[0m\n",
      "\u001b[34m[14:13:53] src/tree/updater_prune.cc:74: tree pruning end, 1 roots, 20 extra nodes, 6 pruned nodes, max_depth=5\u001b[0m\n",
      "\u001b[34m[78]#011train-error:0.116267#011validation-error:0.1641\u001b[0m\n",
      "\u001b[34m[14:13:54] src/tree/updater_prune.cc:74: tree pruning end, 1 roots, 40 extra nodes, 0 pruned nodes, max_depth=5\u001b[0m\n",
      "\u001b[34m[79]#011train-error:0.1146#011validation-error:0.164\u001b[0m\n",
      "\u001b[34m[14:13:55] src/tree/updater_prune.cc:74: tree pruning end, 1 roots, 28 extra nodes, 6 pruned nodes, max_depth=5\u001b[0m\n",
      "\u001b[34m[80]#011train-error:0.113267#011validation-error:0.1631\u001b[0m\n",
      "\u001b[34m[14:13:56] src/tree/updater_prune.cc:74: tree pruning end, 1 roots, 10 extra nodes, 6 pruned nodes, max_depth=5\u001b[0m\n",
      "\u001b[34m[81]#011train-error:0.113133#011validation-error:0.1632\u001b[0m\n",
      "\u001b[34m[14:13:58] src/tree/updater_prune.cc:74: tree pruning end, 1 roots, 14 extra nodes, 12 pruned nodes, max_depth=5\u001b[0m\n",
      "\u001b[34m[82]#011train-error:0.114133#011validation-error:0.1632\u001b[0m\n",
      "\u001b[34m[14:13:59] src/tree/updater_prune.cc:74: tree pruning end, 1 roots, 20 extra nodes, 8 pruned nodes, max_depth=5\u001b[0m\n",
      "\u001b[34m[83]#011train-error:0.112867#011validation-error:0.163\u001b[0m\n",
      "\u001b[34m[14:14:00] src/tree/updater_prune.cc:74: tree pruning end, 1 roots, 12 extra nodes, 8 pruned nodes, max_depth=5\u001b[0m\n",
      "\u001b[34m[84]#011train-error:0.113#011validation-error:0.1633\u001b[0m\n",
      "\u001b[34m[14:14:02] src/tree/updater_prune.cc:74: tree pruning end, 1 roots, 10 extra nodes, 6 pruned nodes, max_depth=5\u001b[0m\n",
      "\u001b[34m[85]#011train-error:0.112467#011validation-error:0.1632\u001b[0m\n",
      "\u001b[34m[14:14:03] src/tree/updater_prune.cc:74: tree pruning end, 1 roots, 18 extra nodes, 8 pruned nodes, max_depth=5\u001b[0m\n",
      "\u001b[34m[86]#011train-error:0.111867#011validation-error:0.1627\u001b[0m\n",
      "\u001b[34m[14:14:04] src/tree/updater_prune.cc:74: tree pruning end, 1 roots, 16 extra nodes, 12 pruned nodes, max_depth=5\u001b[0m\n",
      "\u001b[34m[87]#011train-error:0.111067#011validation-error:0.1619\u001b[0m\n",
      "\u001b[34m[14:14:05] src/tree/updater_prune.cc:74: tree pruning end, 1 roots, 18 extra nodes, 10 pruned nodes, max_depth=5\u001b[0m\n",
      "\u001b[34m[88]#011train-error:0.111533#011validation-error:0.1613\u001b[0m\n",
      "\u001b[34m[14:14:07] src/tree/updater_prune.cc:74: tree pruning end, 1 roots, 36 extra nodes, 4 pruned nodes, max_depth=5\u001b[0m\n",
      "\u001b[34m[89]#011train-error:0.1102#011validation-error:0.161\u001b[0m\n",
      "\u001b[34m[14:14:08] src/tree/updater_prune.cc:74: tree pruning end, 1 roots, 24 extra nodes, 12 pruned nodes, max_depth=5\u001b[0m\n",
      "\u001b[34m[90]#011train-error:0.109733#011validation-error:0.1615\u001b[0m\n",
      "\u001b[34m[14:14:09] src/tree/updater_prune.cc:74: tree pruning end, 1 roots, 10 extra nodes, 2 pruned nodes, max_depth=5\u001b[0m\n",
      "\u001b[34m[91]#011train-error:0.109467#011validation-error:0.1605\u001b[0m\n"
     ]
    },
    {
     "name": "stdout",
     "output_type": "stream",
     "text": [
      "\u001b[34m[14:14:11] src/tree/updater_prune.cc:74: tree pruning end, 1 roots, 24 extra nodes, 8 pruned nodes, max_depth=5\u001b[0m\n",
      "\u001b[34m[92]#011train-error:0.108933#011validation-error:0.1604\u001b[0m\n",
      "\u001b[34m[14:14:12] src/tree/updater_prune.cc:74: tree pruning end, 1 roots, 10 extra nodes, 4 pruned nodes, max_depth=5\u001b[0m\n",
      "\u001b[34m[93]#011train-error:0.108867#011validation-error:0.1599\u001b[0m\n",
      "\u001b[34m[14:14:13] src/tree/updater_prune.cc:74: tree pruning end, 1 roots, 20 extra nodes, 4 pruned nodes, max_depth=5\u001b[0m\n",
      "\u001b[34m[94]#011train-error:0.108267#011validation-error:0.1598\u001b[0m\n",
      "\u001b[34m[14:14:14] src/tree/updater_prune.cc:74: tree pruning end, 1 roots, 20 extra nodes, 10 pruned nodes, max_depth=5\u001b[0m\n",
      "\u001b[34m[95]#011train-error:0.1086#011validation-error:0.1597\u001b[0m\n",
      "\u001b[34m[14:14:16] src/tree/updater_prune.cc:74: tree pruning end, 1 roots, 10 extra nodes, 6 pruned nodes, max_depth=5\u001b[0m\n",
      "\u001b[34m[96]#011train-error:0.1084#011validation-error:0.1598\u001b[0m\n",
      "\u001b[34m[14:14:17] src/tree/updater_prune.cc:74: tree pruning end, 1 roots, 14 extra nodes, 2 pruned nodes, max_depth=5\u001b[0m\n",
      "\u001b[34m[97]#011train-error:0.107533#011validation-error:0.1597\u001b[0m\n",
      "\u001b[34m[14:14:18] src/tree/updater_prune.cc:74: tree pruning end, 1 roots, 10 extra nodes, 2 pruned nodes, max_depth=5\u001b[0m\n",
      "\u001b[34m[98]#011train-error:0.1072#011validation-error:0.16\u001b[0m\n",
      "\u001b[34m[14:14:20] src/tree/updater_prune.cc:74: tree pruning end, 1 roots, 16 extra nodes, 4 pruned nodes, max_depth=5\u001b[0m\n",
      "\u001b[34m[99]#011train-error:0.106733#011validation-error:0.1592\u001b[0m\n",
      "\u001b[34m[14:14:21] src/tree/updater_prune.cc:74: tree pruning end, 1 roots, 24 extra nodes, 10 pruned nodes, max_depth=5\u001b[0m\n",
      "\u001b[34m[100]#011train-error:0.105267#011validation-error:0.1589\u001b[0m\n",
      "\u001b[34m[14:14:22] src/tree/updater_prune.cc:74: tree pruning end, 1 roots, 20 extra nodes, 10 pruned nodes, max_depth=5\u001b[0m\n",
      "\u001b[34m[101]#011train-error:0.104733#011validation-error:0.1581\u001b[0m\n",
      "\u001b[34m[14:14:23] src/tree/updater_prune.cc:74: tree pruning end, 1 roots, 22 extra nodes, 4 pruned nodes, max_depth=5\u001b[0m\n",
      "\u001b[34m[102]#011train-error:0.104267#011validation-error:0.1586\u001b[0m\n",
      "\u001b[34m[14:14:25] src/tree/updater_prune.cc:74: tree pruning end, 1 roots, 14 extra nodes, 8 pruned nodes, max_depth=5\u001b[0m\n",
      "\u001b[34m[103]#011train-error:0.104133#011validation-error:0.1582\u001b[0m\n",
      "\u001b[34m[14:14:26] src/tree/updater_prune.cc:74: tree pruning end, 1 roots, 16 extra nodes, 4 pruned nodes, max_depth=5\u001b[0m\n",
      "\u001b[34m[104]#011train-error:0.1032#011validation-error:0.1583\u001b[0m\n",
      "\u001b[34m[14:14:27] src/tree/updater_prune.cc:74: tree pruning end, 1 roots, 12 extra nodes, 6 pruned nodes, max_depth=5\u001b[0m\n",
      "\u001b[34m[105]#011train-error:0.103#011validation-error:0.1573\u001b[0m\n",
      "\u001b[34m[14:14:29] src/tree/updater_prune.cc:74: tree pruning end, 1 roots, 22 extra nodes, 6 pruned nodes, max_depth=5\u001b[0m\n",
      "\u001b[34m[106]#011train-error:0.1024#011validation-error:0.1577\u001b[0m\n",
      "\u001b[34m[14:14:30] src/tree/updater_prune.cc:74: tree pruning end, 1 roots, 22 extra nodes, 4 pruned nodes, max_depth=5\u001b[0m\n",
      "\u001b[34m[107]#011train-error:0.101067#011validation-error:0.157\u001b[0m\n",
      "\u001b[34m[14:14:31] src/tree/updater_prune.cc:74: tree pruning end, 1 roots, 14 extra nodes, 8 pruned nodes, max_depth=5\u001b[0m\n",
      "\u001b[34m[108]#011train-error:0.100267#011validation-error:0.1571\u001b[0m\n",
      "\u001b[34m[14:14:32] src/tree/updater_prune.cc:74: tree pruning end, 1 roots, 14 extra nodes, 4 pruned nodes, max_depth=5\u001b[0m\n",
      "\u001b[34m[109]#011train-error:0.0998#011validation-error:0.1573\u001b[0m\n",
      "\u001b[34m[14:14:34] src/tree/updater_prune.cc:74: tree pruning end, 1 roots, 10 extra nodes, 8 pruned nodes, max_depth=5\u001b[0m\n",
      "\u001b[34m[110]#011train-error:0.099333#011validation-error:0.1569\u001b[0m\n",
      "\u001b[34m[14:14:35] src/tree/updater_prune.cc:74: tree pruning end, 1 roots, 16 extra nodes, 12 pruned nodes, max_depth=5\u001b[0m\n",
      "\u001b[34m[111]#011train-error:0.0994#011validation-error:0.1567\u001b[0m\n",
      "\u001b[34m[14:14:36] src/tree/updater_prune.cc:74: tree pruning end, 1 roots, 16 extra nodes, 6 pruned nodes, max_depth=5\u001b[0m\n",
      "\u001b[34m[112]#011train-error:0.099267#011validation-error:0.1559\u001b[0m\n",
      "\u001b[34m[14:14:38] src/tree/updater_prune.cc:74: tree pruning end, 1 roots, 12 extra nodes, 10 pruned nodes, max_depth=5\u001b[0m\n",
      "\u001b[34m[113]#011train-error:0.098933#011validation-error:0.1559\u001b[0m\n",
      "\u001b[34m[14:14:39] src/tree/updater_prune.cc:74: tree pruning end, 1 roots, 14 extra nodes, 6 pruned nodes, max_depth=5\u001b[0m\n",
      "\u001b[34m[114]#011train-error:0.0982#011validation-error:0.1557\u001b[0m\n",
      "\u001b[34m[14:14:40] src/tree/updater_prune.cc:74: tree pruning end, 1 roots, 20 extra nodes, 10 pruned nodes, max_depth=5\u001b[0m\n",
      "\u001b[34m[115]#011train-error:0.097733#011validation-error:0.1561\u001b[0m\n",
      "\u001b[34m[14:14:41] src/tree/updater_prune.cc:74: tree pruning end, 1 roots, 16 extra nodes, 18 pruned nodes, max_depth=5\u001b[0m\n",
      "\u001b[34m[116]#011train-error:0.097333#011validation-error:0.156\u001b[0m\n",
      "\u001b[34m[14:14:43] src/tree/updater_prune.cc:74: tree pruning end, 1 roots, 18 extra nodes, 8 pruned nodes, max_depth=5\u001b[0m\n",
      "\u001b[34m[117]#011train-error:0.097133#011validation-error:0.1557\u001b[0m\n",
      "\u001b[34m[14:14:44] src/tree/updater_prune.cc:74: tree pruning end, 1 roots, 16 extra nodes, 6 pruned nodes, max_depth=5\u001b[0m\n",
      "\u001b[34m[118]#011train-error:0.096667#011validation-error:0.1558\u001b[0m\n",
      "\u001b[34m[14:14:45] src/tree/updater_prune.cc:74: tree pruning end, 1 roots, 12 extra nodes, 8 pruned nodes, max_depth=5\u001b[0m\n",
      "\u001b[34m[119]#011train-error:0.0962#011validation-error:0.1554\u001b[0m\n",
      "\u001b[34m[14:14:47] src/tree/updater_prune.cc:74: tree pruning end, 1 roots, 30 extra nodes, 6 pruned nodes, max_depth=5\u001b[0m\n",
      "\u001b[34m[120]#011train-error:0.0956#011validation-error:0.155\u001b[0m\n",
      "\u001b[34m[14:14:48] src/tree/updater_prune.cc:74: tree pruning end, 1 roots, 38 extra nodes, 14 pruned nodes, max_depth=5\u001b[0m\n",
      "\u001b[34m[121]#011train-error:0.095133#011validation-error:0.1546\u001b[0m\n",
      "\u001b[34m[14:14:49] src/tree/updater_prune.cc:74: tree pruning end, 1 roots, 26 extra nodes, 8 pruned nodes, max_depth=5\u001b[0m\n",
      "\u001b[34m[122]#011train-error:0.094933#011validation-error:0.154\u001b[0m\n",
      "\u001b[34m[14:14:50] src/tree/updater_prune.cc:74: tree pruning end, 1 roots, 20 extra nodes, 18 pruned nodes, max_depth=5\u001b[0m\n",
      "\u001b[34m[123]#011train-error:0.0942#011validation-error:0.1533\u001b[0m\n",
      "\u001b[34m[14:14:52] src/tree/updater_prune.cc:74: tree pruning end, 1 roots, 22 extra nodes, 2 pruned nodes, max_depth=5\u001b[0m\n",
      "\u001b[34m[124]#011train-error:0.0936#011validation-error:0.1527\u001b[0m\n",
      "\u001b[34m[14:14:53] src/tree/updater_prune.cc:74: tree pruning end, 1 roots, 16 extra nodes, 6 pruned nodes, max_depth=5\u001b[0m\n",
      "\u001b[34m[125]#011train-error:0.0928#011validation-error:0.152\u001b[0m\n",
      "\u001b[34m[14:14:54] src/tree/updater_prune.cc:74: tree pruning end, 1 roots, 10 extra nodes, 20 pruned nodes, max_depth=5\u001b[0m\n",
      "\u001b[34m[126]#011train-error:0.092467#011validation-error:0.1519\u001b[0m\n",
      "\u001b[34m[14:14:56] src/tree/updater_prune.cc:74: tree pruning end, 1 roots, 14 extra nodes, 4 pruned nodes, max_depth=5\u001b[0m\n",
      "\u001b[34m[127]#011train-error:0.092#011validation-error:0.1524\u001b[0m\n",
      "\u001b[34m[14:14:57] src/tree/updater_prune.cc:74: tree pruning end, 1 roots, 12 extra nodes, 6 pruned nodes, max_depth=5\u001b[0m\n",
      "\u001b[34m[128]#011train-error:0.091333#011validation-error:0.1529\u001b[0m\n",
      "\u001b[34m[14:14:58] src/tree/updater_prune.cc:74: tree pruning end, 1 roots, 10 extra nodes, 2 pruned nodes, max_depth=5\u001b[0m\n",
      "\u001b[34m[129]#011train-error:0.090933#011validation-error:0.153\u001b[0m\n",
      "\u001b[34m[14:15:00] src/tree/updater_prune.cc:74: tree pruning end, 1 roots, 14 extra nodes, 10 pruned nodes, max_depth=5\u001b[0m\n",
      "\u001b[34m[130]#011train-error:0.0902#011validation-error:0.1532\u001b[0m\n",
      "\u001b[34m[14:15:01] src/tree/updater_prune.cc:74: tree pruning end, 1 roots, 12 extra nodes, 8 pruned nodes, max_depth=5\u001b[0m\n",
      "\u001b[34m[131]#011train-error:0.089733#011validation-error:0.1531\u001b[0m\n",
      "\u001b[34m[14:15:02] src/tree/updater_prune.cc:74: tree pruning end, 1 roots, 22 extra nodes, 8 pruned nodes, max_depth=5\u001b[0m\n",
      "\u001b[34m[132]#011train-error:0.089667#011validation-error:0.1532\u001b[0m\n",
      "\u001b[34m[14:15:03] src/tree/updater_prune.cc:74: tree pruning end, 1 roots, 16 extra nodes, 22 pruned nodes, max_depth=5\u001b[0m\n",
      "\u001b[34m[133]#011train-error:0.089467#011validation-error:0.1524\u001b[0m\n",
      "\u001b[34m[14:15:05] src/tree/updater_prune.cc:74: tree pruning end, 1 roots, 24 extra nodes, 4 pruned nodes, max_depth=5\u001b[0m\n",
      "\u001b[34m[134]#011train-error:0.088733#011validation-error:0.1519\u001b[0m\n",
      "\u001b[34m[14:15:06] src/tree/updater_prune.cc:74: tree pruning end, 1 roots, 12 extra nodes, 8 pruned nodes, max_depth=5\u001b[0m\n",
      "\u001b[34m[135]#011train-error:0.0888#011validation-error:0.1517\u001b[0m\n",
      "\u001b[34m[14:15:07] src/tree/updater_prune.cc:74: tree pruning end, 1 roots, 16 extra nodes, 8 pruned nodes, max_depth=5\u001b[0m\n",
      "\u001b[34m[136]#011train-error:0.088733#011validation-error:0.1515\u001b[0m\n",
      "\u001b[34m[14:15:09] src/tree/updater_prune.cc:74: tree pruning end, 1 roots, 12 extra nodes, 6 pruned nodes, max_depth=5\u001b[0m\n",
      "\u001b[34m[137]#011train-error:0.0884#011validation-error:0.1514\u001b[0m\n",
      "\u001b[34m[14:15:10] src/tree/updater_prune.cc:74: tree pruning end, 1 roots, 24 extra nodes, 10 pruned nodes, max_depth=5\u001b[0m\n",
      "\u001b[34m[138]#011train-error:0.087533#011validation-error:0.1514\u001b[0m\n",
      "\u001b[34m[14:15:11] src/tree/updater_prune.cc:74: tree pruning end, 1 roots, 16 extra nodes, 14 pruned nodes, max_depth=5\u001b[0m\n",
      "\u001b[34m[139]#011train-error:0.0872#011validation-error:0.1506\u001b[0m\n",
      "\u001b[34m[14:15:12] src/tree/updater_prune.cc:74: tree pruning end, 1 roots, 18 extra nodes, 10 pruned nodes, max_depth=5\u001b[0m\n",
      "\u001b[34m[140]#011train-error:0.086667#011validation-error:0.1506\u001b[0m\n",
      "\u001b[34m[14:15:14] src/tree/updater_prune.cc:74: tree pruning end, 1 roots, 16 extra nodes, 4 pruned nodes, max_depth=5\u001b[0m\n",
      "\u001b[34m[141]#011train-error:0.085533#011validation-error:0.1502\u001b[0m\n",
      "\u001b[34m[14:15:15] src/tree/updater_prune.cc:74: tree pruning end, 1 roots, 12 extra nodes, 2 pruned nodes, max_depth=5\u001b[0m\n",
      "\u001b[34m[142]#011train-error:0.085133#011validation-error:0.1505\u001b[0m\n",
      "\u001b[34m[14:15:16] src/tree/updater_prune.cc:74: tree pruning end, 1 roots, 10 extra nodes, 10 pruned nodes, max_depth=5\u001b[0m\n",
      "\u001b[34m[143]#011train-error:0.085#011validation-error:0.1504\u001b[0m\n"
     ]
    },
    {
     "name": "stdout",
     "output_type": "stream",
     "text": [
      "\u001b[34m[14:15:18] src/tree/updater_prune.cc:74: tree pruning end, 1 roots, 10 extra nodes, 10 pruned nodes, max_depth=5\u001b[0m\n",
      "\u001b[34m[144]#011train-error:0.084933#011validation-error:0.1502\u001b[0m\n",
      "\u001b[34m[14:15:19] src/tree/updater_prune.cc:74: tree pruning end, 1 roots, 14 extra nodes, 14 pruned nodes, max_depth=5\u001b[0m\n",
      "\u001b[34m[145]#011train-error:0.085267#011validation-error:0.1501\u001b[0m\n",
      "\u001b[34m[14:15:20] src/tree/updater_prune.cc:74: tree pruning end, 1 roots, 10 extra nodes, 2 pruned nodes, max_depth=5\u001b[0m\n",
      "\u001b[34m[146]#011train-error:0.084667#011validation-error:0.1502\u001b[0m\n",
      "\u001b[34m[14:15:21] src/tree/updater_prune.cc:74: tree pruning end, 1 roots, 14 extra nodes, 4 pruned nodes, max_depth=5\u001b[0m\n",
      "\u001b[34m[147]#011train-error:0.084467#011validation-error:0.1495\u001b[0m\n",
      "\u001b[34m[14:15:23] src/tree/updater_prune.cc:74: tree pruning end, 1 roots, 16 extra nodes, 4 pruned nodes, max_depth=5\u001b[0m\n",
      "\u001b[34m[148]#011train-error:0.084533#011validation-error:0.1496\u001b[0m\n",
      "\u001b[34m[14:15:24] src/tree/updater_prune.cc:74: tree pruning end, 1 roots, 14 extra nodes, 4 pruned nodes, max_depth=5\u001b[0m\n",
      "\u001b[34m[149]#011train-error:0.084#011validation-error:0.1495\u001b[0m\n",
      "\u001b[34m[14:15:25] src/tree/updater_prune.cc:74: tree pruning end, 1 roots, 10 extra nodes, 6 pruned nodes, max_depth=5\u001b[0m\n",
      "\u001b[34m[150]#011train-error:0.084267#011validation-error:0.1496\u001b[0m\n",
      "\u001b[34m[14:15:26] src/tree/updater_prune.cc:74: tree pruning end, 1 roots, 14 extra nodes, 14 pruned nodes, max_depth=5\u001b[0m\n",
      "\u001b[34m[151]#011train-error:0.0842#011validation-error:0.1493\u001b[0m\n",
      "\u001b[34m[14:15:28] src/tree/updater_prune.cc:74: tree pruning end, 1 roots, 28 extra nodes, 6 pruned nodes, max_depth=5\u001b[0m\n",
      "\u001b[34m[152]#011train-error:0.0836#011validation-error:0.149\u001b[0m\n",
      "\u001b[34m[14:15:29] src/tree/updater_prune.cc:74: tree pruning end, 1 roots, 16 extra nodes, 6 pruned nodes, max_depth=5\u001b[0m\n",
      "\u001b[34m[153]#011train-error:0.083533#011validation-error:0.149\u001b[0m\n",
      "\u001b[34m[14:15:30] src/tree/updater_prune.cc:74: tree pruning end, 1 roots, 16 extra nodes, 8 pruned nodes, max_depth=5\u001b[0m\n",
      "\u001b[34m[154]#011train-error:0.0834#011validation-error:0.1486\u001b[0m\n",
      "\u001b[34m[14:15:32] src/tree/updater_prune.cc:74: tree pruning end, 1 roots, 24 extra nodes, 2 pruned nodes, max_depth=5\u001b[0m\n",
      "\u001b[34m[155]#011train-error:0.082867#011validation-error:0.1477\u001b[0m\n",
      "\u001b[34m[14:15:33] src/tree/updater_prune.cc:74: tree pruning end, 1 roots, 24 extra nodes, 18 pruned nodes, max_depth=5\u001b[0m\n",
      "\u001b[34m[156]#011train-error:0.083067#011validation-error:0.1475\u001b[0m\n",
      "\u001b[34m[14:15:34] src/tree/updater_prune.cc:74: tree pruning end, 1 roots, 14 extra nodes, 6 pruned nodes, max_depth=5\u001b[0m\n",
      "\u001b[34m[157]#011train-error:0.083267#011validation-error:0.1472\u001b[0m\n",
      "\u001b[34m[14:15:36] src/tree/updater_prune.cc:74: tree pruning end, 1 roots, 14 extra nodes, 10 pruned nodes, max_depth=5\u001b[0m\n",
      "\u001b[34m[158]#011train-error:0.082667#011validation-error:0.147\u001b[0m\n",
      "\u001b[34m[14:15:37] src/tree/updater_prune.cc:74: tree pruning end, 1 roots, 18 extra nodes, 10 pruned nodes, max_depth=5\u001b[0m\n",
      "\u001b[34m[159]#011train-error:0.081867#011validation-error:0.1477\u001b[0m\n",
      "\u001b[34m[14:15:38] src/tree/updater_prune.cc:74: tree pruning end, 1 roots, 12 extra nodes, 0 pruned nodes, max_depth=5\u001b[0m\n",
      "\u001b[34m[160]#011train-error:0.081733#011validation-error:0.1475\u001b[0m\n",
      "\u001b[34m[14:15:39] src/tree/updater_prune.cc:74: tree pruning end, 1 roots, 14 extra nodes, 8 pruned nodes, max_depth=5\u001b[0m\n",
      "\u001b[34m[161]#011train-error:0.081733#011validation-error:0.1475\u001b[0m\n",
      "\u001b[34m[14:15:41] src/tree/updater_prune.cc:74: tree pruning end, 1 roots, 12 extra nodes, 6 pruned nodes, max_depth=5\u001b[0m\n",
      "\u001b[34m[162]#011train-error:0.081467#011validation-error:0.1479\u001b[0m\n",
      "\u001b[34m[14:15:42] src/tree/updater_prune.cc:74: tree pruning end, 1 roots, 18 extra nodes, 6 pruned nodes, max_depth=5\u001b[0m\n",
      "\u001b[34m[163]#011train-error:0.0814#011validation-error:0.1481\u001b[0m\n",
      "\u001b[34m[14:15:43] src/tree/updater_prune.cc:74: tree pruning end, 1 roots, 18 extra nodes, 6 pruned nodes, max_depth=5\u001b[0m\n",
      "\u001b[34m[164]#011train-error:0.0806#011validation-error:0.1479\u001b[0m\n",
      "\u001b[34m[14:15:45] src/tree/updater_prune.cc:74: tree pruning end, 1 roots, 22 extra nodes, 6 pruned nodes, max_depth=5\u001b[0m\n",
      "\u001b[34m[165]#011train-error:0.080067#011validation-error:0.1467\u001b[0m\n",
      "\u001b[34m[14:15:46] src/tree/updater_prune.cc:74: tree pruning end, 1 roots, 16 extra nodes, 20 pruned nodes, max_depth=5\u001b[0m\n",
      "\u001b[34m[166]#011train-error:0.0796#011validation-error:0.1457\u001b[0m\n",
      "\u001b[34m[14:15:47] src/tree/updater_prune.cc:74: tree pruning end, 1 roots, 14 extra nodes, 2 pruned nodes, max_depth=5\u001b[0m\n",
      "\u001b[34m[167]#011train-error:0.079467#011validation-error:0.1448\u001b[0m\n",
      "\u001b[34m[14:15:48] src/tree/updater_prune.cc:74: tree pruning end, 1 roots, 28 extra nodes, 14 pruned nodes, max_depth=5\u001b[0m\n",
      "\u001b[34m[168]#011train-error:0.078933#011validation-error:0.1449\u001b[0m\n",
      "\u001b[34m[14:15:50] src/tree/updater_prune.cc:74: tree pruning end, 1 roots, 20 extra nodes, 8 pruned nodes, max_depth=5\u001b[0m\n",
      "\u001b[34m[169]#011train-error:0.078467#011validation-error:0.1455\u001b[0m\n",
      "\u001b[34m[14:15:51] src/tree/updater_prune.cc:74: tree pruning end, 1 roots, 10 extra nodes, 8 pruned nodes, max_depth=5\u001b[0m\n",
      "\u001b[34m[170]#011train-error:0.078333#011validation-error:0.145\u001b[0m\n",
      "\u001b[34m[14:15:52] src/tree/updater_prune.cc:74: tree pruning end, 1 roots, 12 extra nodes, 6 pruned nodes, max_depth=5\u001b[0m\n",
      "\u001b[34m[171]#011train-error:0.078333#011validation-error:0.1446\u001b[0m\n",
      "\u001b[34m[14:15:53] src/tree/updater_prune.cc:74: tree pruning end, 1 roots, 10 extra nodes, 6 pruned nodes, max_depth=5\u001b[0m\n",
      "\u001b[34m[172]#011train-error:0.0784#011validation-error:0.1443\u001b[0m\n",
      "\u001b[34m[14:15:55] src/tree/updater_prune.cc:74: tree pruning end, 1 roots, 12 extra nodes, 6 pruned nodes, max_depth=5\u001b[0m\n",
      "\u001b[34m[173]#011train-error:0.077933#011validation-error:0.1445\u001b[0m\n",
      "\u001b[34m[14:15:56] src/tree/updater_prune.cc:74: tree pruning end, 1 roots, 12 extra nodes, 6 pruned nodes, max_depth=5\u001b[0m\n",
      "\u001b[34m[174]#011train-error:0.078#011validation-error:0.1439\u001b[0m\n",
      "\u001b[34m[14:15:57] src/tree/updater_prune.cc:74: tree pruning end, 1 roots, 16 extra nodes, 12 pruned nodes, max_depth=5\u001b[0m\n",
      "\u001b[34m[175]#011train-error:0.0774#011validation-error:0.1438\u001b[0m\n",
      "\u001b[34m[14:15:59] src/tree/updater_prune.cc:74: tree pruning end, 1 roots, 18 extra nodes, 12 pruned nodes, max_depth=5\u001b[0m\n",
      "\u001b[34m[176]#011train-error:0.077333#011validation-error:0.1445\u001b[0m\n",
      "\u001b[34m[14:16:00] src/tree/updater_prune.cc:74: tree pruning end, 1 roots, 14 extra nodes, 8 pruned nodes, max_depth=5\u001b[0m\n",
      "\u001b[34m[177]#011train-error:0.076867#011validation-error:0.1442\u001b[0m\n",
      "\u001b[34m[14:16:01] src/tree/updater_prune.cc:74: tree pruning end, 1 roots, 12 extra nodes, 0 pruned nodes, max_depth=5\u001b[0m\n",
      "\u001b[34m[178]#011train-error:0.076733#011validation-error:0.1436\u001b[0m\n",
      "\u001b[34m[14:16:02] src/tree/updater_prune.cc:74: tree pruning end, 1 roots, 16 extra nodes, 2 pruned nodes, max_depth=5\u001b[0m\n",
      "\u001b[34m[179]#011train-error:0.0764#011validation-error:0.1437\u001b[0m\n",
      "\u001b[34m[14:16:04] src/tree/updater_prune.cc:74: tree pruning end, 1 roots, 20 extra nodes, 2 pruned nodes, max_depth=5\u001b[0m\n",
      "\u001b[34m[180]#011train-error:0.076133#011validation-error:0.144\u001b[0m\n",
      "\u001b[34m[14:16:05] src/tree/updater_prune.cc:74: tree pruning end, 1 roots, 16 extra nodes, 6 pruned nodes, max_depth=5\u001b[0m\n",
      "\u001b[34m[181]#011train-error:0.0756#011validation-error:0.1436\u001b[0m\n",
      "\u001b[34m[14:16:06] src/tree/updater_prune.cc:74: tree pruning end, 1 roots, 10 extra nodes, 10 pruned nodes, max_depth=5\u001b[0m\n",
      "\u001b[34m[182]#011train-error:0.0754#011validation-error:0.1435\u001b[0m\n",
      "\u001b[34m[14:16:08] src/tree/updater_prune.cc:74: tree pruning end, 1 roots, 10 extra nodes, 4 pruned nodes, max_depth=5\u001b[0m\n",
      "\u001b[34m[183]#011train-error:0.075533#011validation-error:0.143\u001b[0m\n",
      "\u001b[34m[14:16:09] src/tree/updater_prune.cc:74: tree pruning end, 1 roots, 18 extra nodes, 6 pruned nodes, max_depth=5\u001b[0m\n",
      "\u001b[34m[184]#011train-error:0.0752#011validation-error:0.1431\u001b[0m\n",
      "\u001b[34m[14:16:10] src/tree/updater_prune.cc:74: tree pruning end, 1 roots, 14 extra nodes, 8 pruned nodes, max_depth=5\u001b[0m\n",
      "\u001b[34m[185]#011train-error:0.075#011validation-error:0.1426\u001b[0m\n",
      "\u001b[34m[14:16:11] src/tree/updater_prune.cc:74: tree pruning end, 1 roots, 14 extra nodes, 4 pruned nodes, max_depth=5\u001b[0m\n",
      "\u001b[34m[186]#011train-error:0.074467#011validation-error:0.1428\u001b[0m\n",
      "\u001b[34m[14:16:13] src/tree/updater_prune.cc:74: tree pruning end, 1 roots, 14 extra nodes, 8 pruned nodes, max_depth=5\u001b[0m\n",
      "\u001b[34m[187]#011train-error:0.074067#011validation-error:0.1428\u001b[0m\n",
      "\u001b[34m[14:16:14] src/tree/updater_prune.cc:74: tree pruning end, 1 roots, 10 extra nodes, 10 pruned nodes, max_depth=5\u001b[0m\n",
      "\u001b[34m[188]#011train-error:0.074333#011validation-error:0.1425\u001b[0m\n",
      "\u001b[34m[14:16:15] src/tree/updater_prune.cc:74: tree pruning end, 1 roots, 24 extra nodes, 10 pruned nodes, max_depth=5\u001b[0m\n",
      "\u001b[34m[189]#011train-error:0.073333#011validation-error:0.1413\u001b[0m\n",
      "\u001b[34m[14:16:17] src/tree/updater_prune.cc:74: tree pruning end, 1 roots, 14 extra nodes, 8 pruned nodes, max_depth=5\u001b[0m\n",
      "\u001b[34m[190]#011train-error:0.073333#011validation-error:0.1409\u001b[0m\n",
      "\u001b[34m[14:16:18] src/tree/updater_prune.cc:74: tree pruning end, 1 roots, 16 extra nodes, 6 pruned nodes, max_depth=5\u001b[0m\n",
      "\u001b[34m[191]#011train-error:0.073#011validation-error:0.1409\u001b[0m\n"
     ]
    },
    {
     "name": "stdout",
     "output_type": "stream",
     "text": [
      "\u001b[34m[14:16:19] src/tree/updater_prune.cc:74: tree pruning end, 1 roots, 28 extra nodes, 12 pruned nodes, max_depth=5\u001b[0m\n",
      "\u001b[34m[192]#011train-error:0.072333#011validation-error:0.1398\u001b[0m\n",
      "\u001b[34m[14:16:20] src/tree/updater_prune.cc:74: tree pruning end, 1 roots, 14 extra nodes, 2 pruned nodes, max_depth=5\u001b[0m\n",
      "\u001b[34m[193]#011train-error:0.072067#011validation-error:0.1399\u001b[0m\n",
      "\u001b[34m[14:16:22] src/tree/updater_prune.cc:74: tree pruning end, 1 roots, 14 extra nodes, 4 pruned nodes, max_depth=5\u001b[0m\n",
      "\u001b[34m[194]#011train-error:0.072#011validation-error:0.1405\u001b[0m\n",
      "\u001b[34m[14:16:23] src/tree/updater_prune.cc:74: tree pruning end, 1 roots, 10 extra nodes, 10 pruned nodes, max_depth=5\u001b[0m\n",
      "\u001b[34m[195]#011train-error:0.072267#011validation-error:0.1405\u001b[0m\n",
      "\u001b[34m[14:16:24] src/tree/updater_prune.cc:74: tree pruning end, 1 roots, 16 extra nodes, 4 pruned nodes, max_depth=5\u001b[0m\n",
      "\u001b[34m[196]#011train-error:0.0722#011validation-error:0.1405\u001b[0m\n",
      "\u001b[34m[14:16:25] src/tree/updater_prune.cc:74: tree pruning end, 1 roots, 14 extra nodes, 6 pruned nodes, max_depth=5\u001b[0m\n",
      "\u001b[34m[197]#011train-error:0.072067#011validation-error:0.1409\u001b[0m\n",
      "\u001b[34m[14:16:27] src/tree/updater_prune.cc:74: tree pruning end, 1 roots, 14 extra nodes, 4 pruned nodes, max_depth=5\u001b[0m\n",
      "\u001b[34m[198]#011train-error:0.071933#011validation-error:0.1409\u001b[0m\n",
      "\u001b[34m[14:16:28] src/tree/updater_prune.cc:74: tree pruning end, 1 roots, 10 extra nodes, 2 pruned nodes, max_depth=5\u001b[0m\n",
      "\u001b[34m[199]#011train-error:0.072067#011validation-error:0.1418\u001b[0m\n",
      "\u001b[34m[14:16:29] src/tree/updater_prune.cc:74: tree pruning end, 1 roots, 10 extra nodes, 0 pruned nodes, max_depth=5\u001b[0m\n",
      "\u001b[34m[200]#011train-error:0.072067#011validation-error:0.1415\u001b[0m\n",
      "\u001b[34m[14:16:31] src/tree/updater_prune.cc:74: tree pruning end, 1 roots, 20 extra nodes, 16 pruned nodes, max_depth=5\u001b[0m\n",
      "\u001b[34m[201]#011train-error:0.071867#011validation-error:0.1406\u001b[0m\n",
      "\u001b[34m[14:16:32] src/tree/updater_prune.cc:74: tree pruning end, 1 roots, 32 extra nodes, 14 pruned nodes, max_depth=5\u001b[0m\n",
      "\u001b[34m[202]#011train-error:0.071267#011validation-error:0.1405\u001b[0m\n",
      "\u001b[34mStopping. Best iteration:\u001b[0m\n",
      "\u001b[34m[192]#011train-error:0.072333#011validation-error:0.1398\n",
      "\u001b[0m\n",
      "\n",
      "2020-05-02 14:17:15 Uploading - Uploading generated training model\n",
      "2020-05-02 14:17:15 Completed - Training job completed\n",
      "Training seconds: 346\n",
      "Billable seconds: 346\n"
     ]
    }
   ],
   "source": [
    "xgb.fit({'train': s3_input_train, 'validation': s3_input_validation})"
   ]
  },
  {
   "cell_type": "markdown",
   "metadata": {},
   "source": [
    "## Step 5: Testing the model\n",
    "\n",
    "Now that we've fit our XGBoost model, it's time to see how well it performs. To do this we will use SageMakers Batch Transform functionality. Batch Transform is a convenient way to perform inference on a large dataset in a way that is not realtime. That is, we don't necessarily need to use our model's results immediately and instead we can perform inference on a large number of samples. An example of this in industry might be performing an end of month report. This method of inference can also be useful to us as it means that we can perform inference on our entire test set. \n",
    "\n",
    "To perform a Batch Transformation we need to first create a transformer objects from our trained estimator object."
   ]
  },
  {
   "cell_type": "code",
   "execution_count": 23,
   "metadata": {},
   "outputs": [],
   "source": [
    "xgb_transformer = xgb.transformer(instance_count = 1, instance_type = 'ml.m4.xlarge')"
   ]
  },
  {
   "cell_type": "markdown",
   "metadata": {},
   "source": [
    "Next we actually perform the transform job. When doing so we need to make sure to specify the type of data we are sending so that it is serialized correctly in the background. In our case we are providing our model with csv data so we specify `text/csv`. Also, if the test data that we have provided is too large to process all at once then we need to specify how the data file should be split up. Since each line is a single entry in our data set we tell SageMaker that it can split the input on each line."
   ]
  },
  {
   "cell_type": "code",
   "execution_count": 24,
   "metadata": {},
   "outputs": [],
   "source": [
    "xgb_transformer.transform(test_location, content_type='text/csv', split_type='Line')"
   ]
  },
  {
   "cell_type": "markdown",
   "metadata": {},
   "source": [
    "Currently the transform job is running but it is doing so in the background. Since we wish to wait until the transform job is done and we would like a bit of feedback we can run the `wait()` method."
   ]
  },
  {
   "cell_type": "code",
   "execution_count": 25,
   "metadata": {},
   "outputs": [
    {
     "name": "stdout",
     "output_type": "stream",
     "text": [
      "....................\u001b[34mArguments: serve\u001b[0m\n",
      "\u001b[34m[2020-05-02 14:20:50 +0000] [1] [INFO] Starting gunicorn 19.7.1\u001b[0m\n",
      "\u001b[34m[2020-05-02 14:20:50 +0000] [1] [INFO] Listening at: http://0.0.0.0:8080 (1)\u001b[0m\n",
      "\u001b[34m[2020-05-02 14:20:50 +0000] [1] [INFO] Using worker: gevent\u001b[0m\n",
      "\u001b[34m[2020-05-02 14:20:50 +0000] [38] [INFO] Booting worker with pid: 38\u001b[0m\n",
      "\u001b[34m[2020-05-02 14:20:50 +0000] [39] [INFO] Booting worker with pid: 39\u001b[0m\n",
      "\u001b[34m[2020-05-02:14:20:50:INFO] Model loaded successfully for worker : 38\u001b[0m\n",
      "\u001b[34m[2020-05-02 14:20:50 +0000] [40] [INFO] Booting worker with pid: 40\u001b[0m\n",
      "\u001b[34m[2020-05-02:14:20:50:INFO] Model loaded successfully for worker : 39\u001b[0m\n",
      "\u001b[34m[2020-05-02 14:20:50 +0000] [41] [INFO] Booting worker with pid: 41\u001b[0m\n",
      "\u001b[34m[2020-05-02:14:20:50:INFO] Model loaded successfully for worker : 40\u001b[0m\n",
      "\u001b[34m[2020-05-02:14:20:50:INFO] Model loaded successfully for worker : 41\u001b[0m\n",
      "\u001b[32m2020-05-02T14:21:11.148:[sagemaker logs]: MaxConcurrentTransforms=4, MaxPayloadInMB=6, BatchStrategy=MULTI_RECORD\u001b[0m\n",
      "\u001b[34m[2020-05-02:14:21:13:INFO] Sniff delimiter as ','\u001b[0m\n",
      "\u001b[34m[2020-05-02:14:21:13:INFO] Determined delimiter of CSV input is ','\u001b[0m\n",
      "\u001b[34m[2020-05-02:14:21:13:INFO] Sniff delimiter as ','\u001b[0m\n",
      "\u001b[34m[2020-05-02:14:21:13:INFO] Determined delimiter of CSV input is ','\u001b[0m\n",
      "\u001b[35m[2020-05-02:14:21:13:INFO] Sniff delimiter as ','\u001b[0m\n",
      "\u001b[35m[2020-05-02:14:21:13:INFO] Determined delimiter of CSV input is ','\u001b[0m\n",
      "\u001b[35m[2020-05-02:14:21:13:INFO] Sniff delimiter as ','\u001b[0m\n",
      "\u001b[35m[2020-05-02:14:21:13:INFO] Determined delimiter of CSV input is ','\u001b[0m\n",
      "\u001b[34m[2020-05-02:14:21:14:INFO] Sniff delimiter as ','\u001b[0m\n",
      "\u001b[34m[2020-05-02:14:21:14:INFO] Determined delimiter of CSV input is ','\u001b[0m\n",
      "\u001b[34m[2020-05-02:14:21:14:INFO] Sniff delimiter as ','\u001b[0m\n",
      "\u001b[34m[2020-05-02:14:21:14:INFO] Determined delimiter of CSV input is ','\u001b[0m\n",
      "\u001b[35m[2020-05-02:14:21:14:INFO] Sniff delimiter as ','\u001b[0m\n",
      "\u001b[35m[2020-05-02:14:21:14:INFO] Determined delimiter of CSV input is ','\u001b[0m\n",
      "\u001b[35m[2020-05-02:14:21:14:INFO] Sniff delimiter as ','\u001b[0m\n",
      "\u001b[35m[2020-05-02:14:21:14:INFO] Determined delimiter of CSV input is ','\u001b[0m\n",
      "\u001b[34m[2020-05-02:14:21:16:INFO] Sniff delimiter as ','\u001b[0m\n",
      "\u001b[34m[2020-05-02:14:21:16:INFO] Determined delimiter of CSV input is ','\u001b[0m\n",
      "\u001b[34m[2020-05-02:14:21:16:INFO] Sniff delimiter as ','\u001b[0m\n",
      "\u001b[35m[2020-05-02:14:21:16:INFO] Sniff delimiter as ','\u001b[0m\n",
      "\u001b[35m[2020-05-02:14:21:16:INFO] Determined delimiter of CSV input is ','\u001b[0m\n",
      "\u001b[35m[2020-05-02:14:21:16:INFO] Sniff delimiter as ','\u001b[0m\n",
      "\u001b[34m[2020-05-02:14:21:16:INFO] Determined delimiter of CSV input is ','\u001b[0m\n",
      "\u001b[34m[2020-05-02:14:21:16:INFO] Sniff delimiter as ','\u001b[0m\n",
      "\u001b[34m[2020-05-02:14:21:16:INFO] Determined delimiter of CSV input is ','\u001b[0m\n",
      "\u001b[35m[2020-05-02:14:21:16:INFO] Determined delimiter of CSV input is ','\u001b[0m\n",
      "\u001b[35m[2020-05-02:14:21:16:INFO] Sniff delimiter as ','\u001b[0m\n",
      "\u001b[35m[2020-05-02:14:21:16:INFO] Determined delimiter of CSV input is ','\u001b[0m\n",
      "\u001b[34m[2020-05-02:14:21:16:INFO] Sniff delimiter as ','\u001b[0m\n",
      "\u001b[34m[2020-05-02:14:21:16:INFO] Determined delimiter of CSV input is ','\u001b[0m\n",
      "\u001b[35m[2020-05-02:14:21:16:INFO] Sniff delimiter as ','\u001b[0m\n",
      "\u001b[35m[2020-05-02:14:21:16:INFO] Determined delimiter of CSV input is ','\u001b[0m\n",
      "\u001b[34m[2020-05-02:14:21:18:INFO] Sniff delimiter as ','\u001b[0m\n",
      "\u001b[34m[2020-05-02:14:21:18:INFO] Determined delimiter of CSV input is ','\u001b[0m\n",
      "\u001b[34m[2020-05-02:14:21:18:INFO] Sniff delimiter as ','\u001b[0m\n",
      "\u001b[34m[2020-05-02:14:21:18:INFO] Determined delimiter of CSV input is ','\u001b[0m\n",
      "\u001b[34m[2020-05-02:14:21:18:INFO] Sniff delimiter as ','\u001b[0m\n",
      "\u001b[34m[2020-05-02:14:21:18:INFO] Determined delimiter of CSV input is ','\u001b[0m\n",
      "\u001b[34m[2020-05-02:14:21:19:INFO] Sniff delimiter as ','\u001b[0m\n",
      "\u001b[34m[2020-05-02:14:21:19:INFO] Determined delimiter of CSV input is ','\u001b[0m\n",
      "\u001b[35m[2020-05-02:14:21:18:INFO] Sniff delimiter as ','\u001b[0m\n",
      "\u001b[35m[2020-05-02:14:21:18:INFO] Determined delimiter of CSV input is ','\u001b[0m\n",
      "\u001b[35m[2020-05-02:14:21:18:INFO] Sniff delimiter as ','\u001b[0m\n",
      "\u001b[35m[2020-05-02:14:21:18:INFO] Determined delimiter of CSV input is ','\u001b[0m\n",
      "\u001b[35m[2020-05-02:14:21:18:INFO] Sniff delimiter as ','\u001b[0m\n",
      "\u001b[35m[2020-05-02:14:21:18:INFO] Determined delimiter of CSV input is ','\u001b[0m\n",
      "\u001b[35m[2020-05-02:14:21:19:INFO] Sniff delimiter as ','\u001b[0m\n",
      "\u001b[35m[2020-05-02:14:21:19:INFO] Determined delimiter of CSV input is ','\u001b[0m\n",
      "\u001b[34m[2020-05-02:14:21:21:INFO] Sniff delimiter as ','\u001b[0m\n",
      "\u001b[34m[2020-05-02:14:21:21:INFO] Determined delimiter of CSV input is ','\u001b[0m\n",
      "\u001b[34m[2020-05-02:14:21:21:INFO] Sniff delimiter as ','\u001b[0m\n",
      "\u001b[34m[2020-05-02:14:21:21:INFO] Determined delimiter of CSV input is ','\u001b[0m\n",
      "\u001b[34m[2020-05-02:14:21:21:INFO] Sniff delimiter as ','\u001b[0m\n",
      "\u001b[34m[2020-05-02:14:21:21:INFO] Determined delimiter of CSV input is ','\u001b[0m\n",
      "\u001b[35m[2020-05-02:14:21:21:INFO] Sniff delimiter as ','\u001b[0m\n",
      "\u001b[35m[2020-05-02:14:21:21:INFO] Determined delimiter of CSV input is ','\u001b[0m\n",
      "\u001b[35m[2020-05-02:14:21:21:INFO] Sniff delimiter as ','\u001b[0m\n",
      "\u001b[35m[2020-05-02:14:21:21:INFO] Determined delimiter of CSV input is ','\u001b[0m\n",
      "\u001b[35m[2020-05-02:14:21:21:INFO] Sniff delimiter as ','\u001b[0m\n",
      "\u001b[35m[2020-05-02:14:21:21:INFO] Determined delimiter of CSV input is ','\u001b[0m\n",
      "\u001b[34m[2020-05-02:14:21:21:INFO] Sniff delimiter as ','\u001b[0m\n",
      "\u001b[35m[2020-05-02:14:21:21:INFO] Sniff delimiter as ','\u001b[0m\n",
      "\u001b[34m[2020-05-02:14:21:21:INFO] Determined delimiter of CSV input is ','\u001b[0m\n",
      "\u001b[35m[2020-05-02:14:21:21:INFO] Determined delimiter of CSV input is ','\u001b[0m\n",
      "\u001b[34m[2020-05-02:14:21:23:INFO] Determined delimiter of CSV input is ','\u001b[0m\n",
      "\u001b[35m[2020-05-02:14:21:23:INFO] Determined delimiter of CSV input is ','\u001b[0m\n",
      "\u001b[34m[2020-05-02:14:21:23:INFO] Sniff delimiter as ','\u001b[0m\n",
      "\u001b[34m[2020-05-02:14:21:23:INFO] Determined delimiter of CSV input is ','\u001b[0m\n",
      "\u001b[34m[2020-05-02:14:21:24:INFO] Sniff delimiter as ','\u001b[0m\n",
      "\u001b[34m[2020-05-02:14:21:24:INFO] Determined delimiter of CSV input is ','\u001b[0m\n",
      "\u001b[34m[2020-05-02:14:21:24:INFO] Sniff delimiter as ','\u001b[0m\n",
      "\u001b[34m[2020-05-02:14:21:24:INFO] Determined delimiter of CSV input is ','\u001b[0m\n",
      "\u001b[35m[2020-05-02:14:21:23:INFO] Sniff delimiter as ','\u001b[0m\n",
      "\u001b[35m[2020-05-02:14:21:23:INFO] Determined delimiter of CSV input is ','\u001b[0m\n",
      "\u001b[35m[2020-05-02:14:21:24:INFO] Sniff delimiter as ','\u001b[0m\n",
      "\u001b[35m[2020-05-02:14:21:24:INFO] Determined delimiter of CSV input is ','\u001b[0m\n",
      "\u001b[35m[2020-05-02:14:21:24:INFO] Sniff delimiter as ','\u001b[0m\n",
      "\u001b[35m[2020-05-02:14:21:24:INFO] Determined delimiter of CSV input is ','\u001b[0m\n",
      "\u001b[34m[2020-05-02:14:21:26:INFO] Sniff delimiter as ','\u001b[0m\n",
      "\u001b[35m[2020-05-02:14:21:26:INFO] Sniff delimiter as ','\u001b[0m\n",
      "\u001b[34m[2020-05-02:14:21:26:INFO] Determined delimiter of CSV input is ','\u001b[0m\n",
      "\u001b[34m[2020-05-02:14:21:26:INFO] Sniff delimiter as ','\u001b[0m\n",
      "\u001b[34m[2020-05-02:14:21:26:INFO] Determined delimiter of CSV input is ','\u001b[0m\n",
      "\u001b[34m[2020-05-02:14:21:26:INFO] Sniff delimiter as ','\u001b[0m\n",
      "\u001b[34m[2020-05-02:14:21:26:INFO] Determined delimiter of CSV input is ','\u001b[0m\n",
      "\u001b[34m[2020-05-02:14:21:26:INFO] Sniff delimiter as ','\u001b[0m\n",
      "\u001b[34m[2020-05-02:14:21:26:INFO] Determined delimiter of CSV input is ','\u001b[0m\n",
      "\u001b[35m[2020-05-02:14:21:26:INFO] Determined delimiter of CSV input is ','\u001b[0m\n",
      "\u001b[35m[2020-05-02:14:21:26:INFO] Sniff delimiter as ','\u001b[0m\n",
      "\u001b[35m[2020-05-02:14:21:26:INFO] Determined delimiter of CSV input is ','\u001b[0m\n",
      "\u001b[35m[2020-05-02:14:21:26:INFO] Sniff delimiter as ','\u001b[0m\n",
      "\u001b[35m[2020-05-02:14:21:26:INFO] Determined delimiter of CSV input is ','\u001b[0m\n",
      "\u001b[35m[2020-05-02:14:21:26:INFO] Sniff delimiter as ','\u001b[0m\n",
      "\u001b[35m[2020-05-02:14:21:26:INFO] Determined delimiter of CSV input is ','\u001b[0m\n",
      "\u001b[34m[2020-05-02:14:21:28:INFO] Sniff delimiter as ','\u001b[0m\n",
      "\u001b[34m[2020-05-02:14:21:28:INFO] Determined delimiter of CSV input is ','\u001b[0m\n",
      "\u001b[35m[2020-05-02:14:21:28:INFO] Sniff delimiter as ','\u001b[0m\n",
      "\u001b[35m[2020-05-02:14:21:28:INFO] Determined delimiter of CSV input is ','\u001b[0m\n",
      "\u001b[34m[2020-05-02:14:21:28:INFO] Sniff delimiter as ','\u001b[0m\n",
      "\u001b[34m[2020-05-02:14:21:28:INFO] Determined delimiter of CSV input is ','\u001b[0m\n",
      "\u001b[34m[2020-05-02:14:21:28:INFO] Sniff delimiter as ','\u001b[0m\n",
      "\u001b[34m[2020-05-02:14:21:28:INFO] Determined delimiter of CSV input is ','\u001b[0m\n",
      "\u001b[34m[2020-05-02:14:21:28:INFO] Sniff delimiter as ','\u001b[0m\n",
      "\u001b[34m[2020-05-02:14:21:28:INFO] Determined delimiter of CSV input is ','\u001b[0m\n",
      "\u001b[35m[2020-05-02:14:21:28:INFO] Sniff delimiter as ','\u001b[0m\n",
      "\u001b[35m[2020-05-02:14:21:28:INFO] Determined delimiter of CSV input is ','\u001b[0m\n",
      "\u001b[35m[2020-05-02:14:21:28:INFO] Sniff delimiter as ','\u001b[0m\n",
      "\u001b[35m[2020-05-02:14:21:28:INFO] Determined delimiter of CSV input is ','\u001b[0m\n",
      "\u001b[35m[2020-05-02:14:21:28:INFO] Sniff delimiter as ','\u001b[0m\n",
      "\u001b[35m[2020-05-02:14:21:28:INFO] Determined delimiter of CSV input is ','\u001b[0m\n",
      "\u001b[34m[2020-05-02:14:21:31:INFO] Sniff delimiter as ','\u001b[0m\n",
      "\u001b[34m[2020-05-02:14:21:31:INFO] Determined delimiter of CSV input is ','\u001b[0m\n",
      "\u001b[34m[2020-05-02:14:21:31:INFO] Sniff delimiter as ','\u001b[0m\n",
      "\u001b[34m[2020-05-02:14:21:31:INFO] Determined delimiter of CSV input is ','\u001b[0m\n",
      "\u001b[34m[2020-05-02:14:21:31:INFO] Sniff delimiter as ','\u001b[0m\n",
      "\u001b[34m[2020-05-02:14:21:31:INFO] Determined delimiter of CSV input is ','\u001b[0m\n",
      "\u001b[34m[2020-05-02:14:21:31:INFO] Sniff delimiter as ','\u001b[0m\n",
      "\u001b[34m[2020-05-02:14:21:31:INFO] Determined delimiter of CSV input is ','\u001b[0m\n",
      "\u001b[35m[2020-05-02:14:21:31:INFO] Sniff delimiter as ','\u001b[0m\n",
      "\u001b[35m[2020-05-02:14:21:31:INFO] Determined delimiter of CSV input is ','\u001b[0m\n",
      "\u001b[35m[2020-05-02:14:21:31:INFO] Sniff delimiter as ','\u001b[0m\n",
      "\u001b[35m[2020-05-02:14:21:31:INFO] Determined delimiter of CSV input is ','\u001b[0m\n",
      "\u001b[35m[2020-05-02:14:21:31:INFO] Sniff delimiter as ','\u001b[0m\n",
      "\u001b[35m[2020-05-02:14:21:31:INFO] Determined delimiter of CSV input is ','\u001b[0m\n",
      "\u001b[35m[2020-05-02:14:21:31:INFO] Sniff delimiter as ','\u001b[0m\n",
      "\u001b[35m[2020-05-02:14:21:31:INFO] Determined delimiter of CSV input is ','\u001b[0m\n",
      "\u001b[34m[2020-05-02:14:21:33:INFO] Sniff delimiter as ','\u001b[0m\n",
      "\u001b[34m[2020-05-02:14:21:33:INFO] Determined delimiter of CSV input is ','\u001b[0m\n",
      "\u001b[34m[2020-05-02:14:21:33:INFO] Sniff delimiter as ','\u001b[0m\n",
      "\u001b[34m[2020-05-02:14:21:33:INFO] Determined delimiter of CSV input is ','\u001b[0m\n",
      "\u001b[35m[2020-05-02:14:21:33:INFO] Sniff delimiter as ','\u001b[0m\n",
      "\u001b[35m[2020-05-02:14:21:33:INFO] Determined delimiter of CSV input is ','\u001b[0m\n",
      "\u001b[35m[2020-05-02:14:21:33:INFO] Sniff delimiter as ','\u001b[0m\n",
      "\u001b[35m[2020-05-02:14:21:33:INFO] Determined delimiter of CSV input is ','\u001b[0m\n"
     ]
    },
    {
     "name": "stdout",
     "output_type": "stream",
     "text": [
      "\u001b[34m[2020-05-02:14:21:35:INFO] Sniff delimiter as ','\u001b[0m\n",
      "\u001b[34m[2020-05-02:14:21:35:INFO] Determined delimiter of CSV input is ','\u001b[0m\n",
      "\u001b[34m[2020-05-02:14:21:36:INFO] Sniff delimiter as ','\u001b[0m\n",
      "\u001b[34m[2020-05-02:14:21:36:INFO] Determined delimiter of CSV input is ','\u001b[0m\n",
      "\u001b[34m[2020-05-02:14:21:36:INFO] Sniff delimiter as ','\u001b[0m\n",
      "\u001b[34m[2020-05-02:14:21:36:INFO] Determined delimiter of CSV input is ','\u001b[0m\n",
      "\u001b[34m[2020-05-02:14:21:36:INFO] Sniff delimiter as ','\u001b[0m\n",
      "\u001b[34m[2020-05-02:14:21:36:INFO] Determined delimiter of CSV input is ','\u001b[0m\n",
      "\u001b[35m[2020-05-02:14:21:35:INFO] Sniff delimiter as ','\u001b[0m\n",
      "\u001b[35m[2020-05-02:14:21:35:INFO] Determined delimiter of CSV input is ','\u001b[0m\n",
      "\u001b[35m[2020-05-02:14:21:36:INFO] Sniff delimiter as ','\u001b[0m\n",
      "\u001b[35m[2020-05-02:14:21:36:INFO] Determined delimiter of CSV input is ','\u001b[0m\n",
      "\u001b[35m[2020-05-02:14:21:36:INFO] Sniff delimiter as ','\u001b[0m\n",
      "\u001b[35m[2020-05-02:14:21:36:INFO] Determined delimiter of CSV input is ','\u001b[0m\n",
      "\u001b[35m[2020-05-02:14:21:36:INFO] Sniff delimiter as ','\u001b[0m\n",
      "\u001b[35m[2020-05-02:14:21:36:INFO] Determined delimiter of CSV input is ','\u001b[0m\n",
      "\n"
     ]
    }
   ],
   "source": [
    "xgb_transformer.wait()"
   ]
  },
  {
   "cell_type": "markdown",
   "metadata": {},
   "source": [
    "Now the transform job has executed and the result, the estimated sentiment of each review, has been saved on S3. Since we would rather work on this file locally we can perform a bit of notebook magic to copy the file to the `data_dir`."
   ]
  },
  {
   "cell_type": "code",
   "execution_count": 26,
   "metadata": {},
   "outputs": [
    {
     "name": "stdout",
     "output_type": "stream",
     "text": [
      "Completed 256.0 KiB/370.5 KiB (4.2 MiB/s) with 1 file(s) remaining\r",
      "Completed 370.5 KiB/370.5 KiB (6.0 MiB/s) with 1 file(s) remaining\r",
      "download: s3://sagemaker-eu-west-2-463062221782/xgboost-2020-05-02-14-17-35-939/test.csv.out to ../data/sentiment_web_app/test.csv.out\r\n"
     ]
    }
   ],
   "source": [
    "!aws s3 cp --recursive $xgb_transformer.output_path $data_dir"
   ]
  },
  {
   "cell_type": "markdown",
   "metadata": {},
   "source": [
    "The last step is now to read in the output from our model, convert the output to something a little more usable, in this case we want the sentiment to be either `1` (positive) or `0` (negative), and then compare to the ground truth labels."
   ]
  },
  {
   "cell_type": "code",
   "execution_count": 27,
   "metadata": {},
   "outputs": [],
   "source": [
    "predictions = pd.read_csv(os.path.join(data_dir, 'test.csv.out'), header=None)\n",
    "predictions = [round(num) for num in predictions.squeeze().values]"
   ]
  },
  {
   "cell_type": "code",
   "execution_count": 28,
   "metadata": {},
   "outputs": [
    {
     "data": {
      "text/plain": [
       "0.86288"
      ]
     },
     "execution_count": 28,
     "metadata": {},
     "output_type": "execute_result"
    }
   ],
   "source": [
    "from sklearn.metrics import accuracy_score\n",
    "accuracy_score(test_y, predictions)"
   ]
  },
  {
   "cell_type": "markdown",
   "metadata": {},
   "source": [
    "## Step 6: Deploying the model\n",
    "\n",
    "Once we construct and fit our model, SageMaker stores the resulting model artifacts and we can use those to deploy an endpoint (inference code). To see this, look in the SageMaker console and you should see that a model has been created along with a link to the S3 location where the model artifacts have been stored.\n",
    "\n",
    "Deploying an endpoint is a lot like training the model with a few important differences. The first is that a deployed model doesn't change the model artifacts, so as you send it various testing instances the model won't change. Another difference is that since we aren't performing a fixed computation, as we were in the training step or while performing a batch transform, the compute instance that gets started stays running until we tell it to stop. This is important to note as if we forget and leave it running we will be charged the entire time.\n",
    "\n",
    "In other words **If you are no longer using a deployed endpoint, shut it down!**"
   ]
  },
  {
   "cell_type": "code",
   "execution_count": 29,
   "metadata": {},
   "outputs": [
    {
     "name": "stderr",
     "output_type": "stream",
     "text": [
      "WARNING:sagemaker:Using already existing model: xgboost-2020-05-02-14-09-20-831\n"
     ]
    },
    {
     "name": "stdout",
     "output_type": "stream",
     "text": [
      "-------------!"
     ]
    }
   ],
   "source": [
    "xgb_predictor = xgb.deploy(initial_instance_count = 1, instance_type = 'ml.m4.xlarge')"
   ]
  },
  {
   "cell_type": "markdown",
   "metadata": {},
   "source": [
    "### Testing the model (again)\n",
    "\n",
    "Now that we have deployed our endpoint, we can send the testing data to it and get back the inference results. We already did this earlier using the batch transform functionality of SageMaker, however, we will test our model again using the newly deployed endpoint so that we can make sure that it works properly and to get a bit of a feel for how the endpoint works.\n",
    "\n",
    "When using the created endpoint it is important to know that we are limited in the amount of information we can send in each call so we need to break the testing data up into chunks and then send each chunk. Also, we need to serialize our data before we send it to the endpoint to ensure that our data is transmitted properly. Fortunately, SageMaker can do the serialization part for us provided we tell it the format of our data."
   ]
  },
  {
   "cell_type": "code",
   "execution_count": 30,
   "metadata": {},
   "outputs": [],
   "source": [
    "from sagemaker.predictor import csv_serializer\n",
    "\n",
    "# We need to tell the endpoint what format the data we are sending is in so that SageMaker can perform the serialization.\n",
    "xgb_predictor.content_type = 'text/csv'\n",
    "xgb_predictor.serializer = csv_serializer"
   ]
  },
  {
   "cell_type": "code",
   "execution_count": 31,
   "metadata": {},
   "outputs": [],
   "source": [
    "# We split the data into chunks and send each chunk seperately, accumulating the results.\n",
    "\n",
    "def predict(data, rows=512):\n",
    "    split_array = np.array_split(data, int(data.shape[0] / float(rows) + 1))\n",
    "    predictions = ''\n",
    "    for array in split_array:\n",
    "        predictions = ','.join([predictions, xgb_predictor.predict(array).decode('utf-8')])\n",
    "    \n",
    "    return np.fromstring(predictions[1:], sep=',')"
   ]
  },
  {
   "cell_type": "code",
   "execution_count": 32,
   "metadata": {},
   "outputs": [],
   "source": [
    "test_X = pd.read_csv(os.path.join(data_dir, 'test.csv'), header=None).values\n",
    "\n",
    "predictions = predict(test_X)\n",
    "predictions = [round(num) for num in predictions]"
   ]
  },
  {
   "cell_type": "markdown",
   "metadata": {},
   "source": [
    "Lastly, we check to see what the accuracy of our model is."
   ]
  },
  {
   "cell_type": "code",
   "execution_count": 33,
   "metadata": {},
   "outputs": [
    {
     "data": {
      "text/plain": [
       "0.86288"
      ]
     },
     "execution_count": 33,
     "metadata": {},
     "output_type": "execute_result"
    }
   ],
   "source": [
    "from sklearn.metrics import accuracy_score\n",
    "accuracy_score(test_y, predictions)"
   ]
  },
  {
   "cell_type": "markdown",
   "metadata": {},
   "source": [
    "And the results here should agree with the model testing that we did earlier using the batch transform job.\n",
    "\n",
    "### Cleaning up\n",
    "\n",
    "Now that we've determined that deploying our model works as expected, we are going to shut it down. Remember that the longer the endpoint is left running, the greater the cost and since we have a bit more work to do before we are able to use our endpoint with our simple web app, we should shut everything down."
   ]
  },
  {
   "cell_type": "code",
   "execution_count": 34,
   "metadata": {},
   "outputs": [],
   "source": [
    "# xgb_predictor.delete_endpoint()"
   ]
  },
  {
   "cell_type": "markdown",
   "metadata": {},
   "source": [
    "## Step 7: Putting our model to work\n",
    "\n",
    "As we've mentioned a few times now, our goal is to have our model deployed and then access it using a very simple web app. The intent is for this web app to take some user submitted data (a review), send it off to our endpoint (the model) and then display the result.\n",
    "\n",
    "However, there is a small catch. Currently the only way we can access the endpoint to send it data is using the SageMaker API. We can, if we wish, expose the actual URL that our model's endpoint is receiving data from, however, if we just send it data ourselves we will not get anything in return. This is because the endpoint created by SageMaker requires the entity accessing it have the correct permissions. So, we would need to somehow authenticate our web app with AWS.\n",
    "\n",
    "Having a website that authenticates to AWS seems a bit beyond the scope of this lesson so we will opt for an alternative approach. Namely, we will create a new endpoint which does not require authentication and which acts as a proxy for the SageMaker endpoint.\n",
    "\n",
    "As an additional constraint, we will try to avoid doing any data processing in the web app itself. Remember that when we constructed and tested our model we started with a movie review, then we simplified it by removing any html formatting and punctuation, then we constructed a bag of words embedding and the resulting vector is what we sent to our model. All of this needs to be done to our user input as well.\n",
    "\n",
    "Fortunately we can do all of this data processing in the backend, using Amazon's Lambda service.\n",
    "\n",
    "<img src=\"Web App Diagram.svg\">\n",
    "\n",
    "The diagram above gives an overview of how the various services will work together. On the far right is the model which we trained above and which will be deployed using SageMaker. On the far left is our web app that collects a user's movie review, sends it off and expects a positive or negative sentiment in return.\n",
    "\n",
    "In the middle is where some of the magic happens. We will construct a Lambda function, which you can think of as a straightforward Python function that can be executed whenever a specified event occurs. This Python function will do the data processing we need to perform on a user submitted review. In addition, we will give this function permission to send and recieve data from a SageMaker endpoint.\n",
    "\n",
    "Lastly, the method we will use to execute the Lambda function is a new endpoint that we will create using API Gateway. This endpoint will be a url that listens for data to be sent to it. Once it gets some data it will pass that data on to the Lambda function and then return whatever the Lambda function returns. Essentially it will act as an interface that lets our web app communicate with the Lambda function.\n",
    "\n",
    "### Processing a single review\n",
    "\n",
    "For now, suppose we are given a movie review by our user in the form of a string, like so:"
   ]
  },
  {
   "cell_type": "code",
   "execution_count": 35,
   "metadata": {},
   "outputs": [],
   "source": [
    "test_review = \"Nothing but a disgusting materialistic pageant of glistening abed remote control greed zombies, totally devoid of any heart or heat. A romantic comedy that has zero romantic chemestry and zero laughs!\""
   ]
  },
  {
   "cell_type": "markdown",
   "metadata": {},
   "source": [
    "How do we go from this string to the bag of words feature vector that is expected by our model?\n",
    "\n",
    "If we recall at the beginning of this notebook, the first step is to remove any unnecessary characters using the `review_to_words` method. Remember that we intentionally did this in a very simplistic way. This is because we are going to have to copy this method to our (eventual) Lambda function (we will go into more detail later) and this means it needs to be rather simplistic."
   ]
  },
  {
   "cell_type": "code",
   "execution_count": 36,
   "metadata": {},
   "outputs": [
    {
     "name": "stdout",
     "output_type": "stream",
     "text": [
      "nothing but a disgusting materialistic pageant of glistening abed remote control greed zombies totally devoid of any heart or heat a romantic comedy that has zero romantic chemestry and zero laughs\n"
     ]
    }
   ],
   "source": [
    "test_words = review_to_words(test_review)\n",
    "print(test_words)"
   ]
  },
  {
   "cell_type": "markdown",
   "metadata": {},
   "source": [
    "Next, we need to construct a bag of words embedding of the `test_words` string. To do this, remember that a bag of words embedding uses a `vocabulary` consisting of the most frequently appearing words in a set of documents. Then, for each word in the vocabulary we record the number of times that word appears in `test_words`. We constructed the `vocabulary` earlier using the training set for our problem so encoding `test_words` is relatively straightforward."
   ]
  },
  {
   "cell_type": "code",
   "execution_count": 37,
   "metadata": {},
   "outputs": [],
   "source": [
    "def bow_encoding(words, vocabulary):\n",
    "    bow = [0] * len(vocabulary) # Start by setting the count for each word in the vocabulary to zero.\n",
    "    for word in words.split():  # For each word in the string\n",
    "        if word in vocabulary:  # If the word is one that occurs in the vocabulary, increase its count.\n",
    "            bow[vocabulary[word]] += 1\n",
    "    return bow"
   ]
  },
  {
   "cell_type": "code",
   "execution_count": 38,
   "metadata": {},
   "outputs": [
    {
     "name": "stdout",
     "output_type": "stream",
     "text": [
      "[0, 0, 0, 0, 0, 0, 0, 0, 0, 0, 0, 0, 0, 0, 0, 0, 0, 0, 0, 0, 0, 0, 0, 0, 0, 0, 0, 0, 0, 0, 0, 0, 0, 0, 0, 0, 0, 0, 0, 0, 0, 0, 0, 0, 0, 0, 0, 0, 0, 0, 0, 0, 0, 0, 0, 0, 0, 0, 0, 0, 0, 0, 0, 0, 0, 0, 0, 0, 0, 0, 0, 0, 0, 0, 0, 0, 0, 0, 0, 0, 0, 0, 0, 0, 0, 0, 0, 0, 0, 0, 0, 0, 0, 0, 0, 0, 0, 0, 0, 0, 0, 0, 0, 0, 0, 0, 0, 0, 0, 0, 0, 0, 0, 0, 0, 0, 0, 0, 0, 0, 0, 0, 0, 0, 0, 0, 0, 0, 0, 0, 0, 0, 0, 0, 0, 0, 0, 0, 0, 0, 0, 0, 0, 0, 0, 0, 0, 0, 0, 0, 0, 0, 0, 0, 0, 0, 0, 0, 0, 0, 0, 0, 0, 0, 0, 0, 0, 0, 0, 0, 0, 0, 0, 0, 0, 0, 0, 0, 0, 0, 0, 0, 0, 0, 0, 0, 0, 0, 0, 0, 0, 0, 0, 0, 0, 0, 0, 0, 0, 0, 0, 0, 0, 0, 0, 0, 0, 0, 0, 0, 0, 0, 0, 0, 0, 0, 0, 0, 0, 0, 0, 0, 0, 0, 0, 0, 1, 0, 0, 0, 0, 0, 0, 0, 0, 0, 0, 0, 0, 0, 0, 0, 0, 0, 0, 0, 0, 0, 0, 0, 0, 0, 0, 0, 0, 0, 1, 0, 0, 0, 0, 0, 0, 0, 0, 0, 0, 0, 0, 0, 0, 0, 0, 0, 0, 0, 0, 0, 0, 0, 0, 0, 0, 0, 0, 0, 0, 0, 0, 0, 0, 0, 0, 0, 0, 0, 0, 0, 0, 0, 0, 0, 0, 0, 0, 0, 0, 0, 0, 0, 0, 0, 0, 0, 0, 0, 0, 0, 0, 0, 0, 0, 0, 0, 0, 0, 0, 0, 0, 0, 0, 0, 0, 0, 0, 0, 0, 0, 0, 0, 0, 0, 0, 0, 0, 0, 0, 0, 0, 0, 0, 0, 0, 0, 0, 0, 0, 0, 0, 0, 0, 0, 0, 0, 0, 0, 0, 0, 0, 0, 0, 0, 0, 0, 0, 0, 0, 0, 0, 0, 0, 0, 0, 0, 0, 0, 0, 0, 0, 0, 0, 0, 0, 0, 0, 0, 0, 0, 0, 0, 0, 0, 0, 0, 0, 0, 0, 0, 0, 0, 0, 0, 0, 0, 0, 0, 0, 0, 0, 0, 0, 0, 0, 0, 0, 0, 0, 0, 0, 0, 0, 0, 0, 0, 0, 0, 0, 0, 0, 0, 0, 0, 0, 0, 0, 0, 0, 0, 0, 0, 0, 0, 0, 0, 0, 0, 0, 0, 0, 0, 0, 0, 0, 0, 0, 0, 0, 0, 0, 0, 0, 0, 0, 0, 0, 0, 0, 0, 0, 0, 0, 0, 0, 0, 0, 0, 0, 0, 0, 0, 0, 0, 0, 0, 0, 0, 0, 0, 0, 0, 0, 0, 0, 0, 0, 0, 0, 0, 0, 0, 0, 0, 0, 0, 0, 0, 0, 0, 0, 0, 0, 0, 0, 0, 0, 0, 0, 0, 0, 0, 0, 0, 0, 0, 0, 0, 0, 0, 0, 0, 0, 0, 0, 0, 0, 0, 0, 0, 0, 0, 0, 0, 0, 0, 0, 0, 0, 0, 0, 0, 0, 0, 0, 0, 0, 0, 0, 0, 0, 0, 0, 0, 0, 0, 0, 0, 0, 0, 0, 0, 0, 0, 0, 0, 0, 0, 0, 0, 0, 0, 0, 0, 0, 0, 0, 0, 0, 0, 0, 0, 0, 0, 0, 0, 0, 0, 0, 0, 0, 0, 0, 0, 0, 0, 0, 0, 0, 0, 0, 0, 0, 0, 0, 0, 0, 0, 0, 0, 0, 0, 0, 0, 0, 0, 0, 0, 1, 0, 0, 0, 0, 0, 0, 0, 0, 0, 0, 0, 0, 0, 0, 0, 0, 0, 0, 0, 0, 0, 0, 0, 0, 0, 0, 0, 0, 0, 0, 0, 0, 0, 0, 0, 0, 0, 0, 0, 0, 0, 0, 0, 0, 0, 0, 0, 0, 0, 0, 0, 0, 0, 0, 0, 0, 0, 0, 0, 0, 0, 0, 0, 0, 0, 0, 0, 0, 0, 0, 0, 0, 0, 0, 0, 0, 0, 0, 0, 0, 0, 0, 0, 0, 0, 0, 0, 0, 0, 0, 0, 0, 0, 0, 0, 0, 0, 0, 0, 0, 0, 0, 0, 0, 0, 0, 0, 0, 0, 0, 0, 0, 0, 0, 0, 0, 0, 0, 0, 0, 0, 0, 0, 0, 0, 0, 0, 0, 0, 0, 0, 0, 0, 0, 0, 0, 0, 0, 0, 0, 0, 0, 0, 0, 0, 0, 0, 0, 0, 0, 0, 0, 0, 0, 0, 0, 0, 0, 0, 0, 0, 0, 0, 0, 0, 0, 0, 0, 0, 0, 0, 0, 0, 0, 0, 0, 0, 0, 0, 0, 0, 0, 0, 0, 0, 0, 0, 0, 0, 0, 0, 0, 0, 0, 0, 0, 0, 0, 0, 0, 0, 0, 0, 0, 0, 0, 0, 0, 0, 0, 0, 0, 0, 0, 0, 0, 0, 0, 0, 0, 0, 0, 0, 0, 0, 0, 0, 0, 0, 0, 0, 0, 0, 0, 0, 0, 0, 0, 0, 0, 0, 0, 0, 0, 0, 0, 0, 0, 0, 0, 0, 0, 0, 1, 0, 0, 0, 0, 0, 0, 0, 0, 0, 0, 0, 0, 0, 0, 0, 0, 0, 0, 0, 0, 0, 0, 0, 0, 0, 0, 0, 0, 0, 0, 0, 0, 0, 0, 0, 0, 0, 0, 0, 0, 0, 0, 0, 0, 0, 0, 0, 0, 0, 0, 0, 0, 0, 0, 0, 0, 0, 0, 0, 0, 0, 0, 0, 0, 0, 0, 0, 0, 0, 0, 0, 0, 0, 0, 0, 0, 0, 0, 0, 0, 0, 0, 0, 0, 0, 0, 1, 0, 0, 0, 0, 0, 0, 0, 0, 0, 0, 0, 0, 0, 0, 0, 0, 0, 0, 0, 0, 0, 0, 0, 0, 0, 0, 0, 0, 0, 0, 0, 0, 0, 0, 0, 0, 0, 0, 0, 0, 0, 0, 0, 0, 0, 0, 0, 0, 0, 0, 0, 0, 0, 0, 0, 0, 0, 0, 0, 0, 0, 0, 0, 0, 0, 0, 0, 0, 0, 0, 0, 0, 0, 0, 0, 0, 0, 0, 0, 0, 0, 0, 0, 0, 0, 0, 0, 0, 0, 0, 0, 0, 0, 0, 0, 0, 0, 0, 0, 0, 0, 0, 0, 0, 0, 0, 0, 0, 0, 0, 0, 0, 0, 0, 0, 0, 0, 0, 0, 0, 0, 0, 0, 0, 0, 0, 0, 0, 0, 0, 0, 0, 0, 0, 0, 0, 0, 0, 0, 0, 0, 0, 0, 0, 0, 0, 0, 0, 0, 0, 0, 0, 0, 0, 0, 0, 0, 0, 0, 0, 0, 0, 0, 0, 0, 0, 0, 0, 0, 0, 0, 0, 0, 0, 0, 0, 0, 0, 0, 0, 0, 0, 0, 0, 0, 0, 0, 0, 0, 0, 0, 0, 0, 0, 0, 0, 0, 0, 0, 0, 0, 0, 0, 0, 0, 0, 0, 0, 0, 0, 0, 0, 0, 0, 0, 0, 0, 0, 0, 0, 0, 0, 0, 0, 0, 0, 0, 0, 0, 0, 0, 0, 0, 0, 0, 0, 0, 0, 0, 0, 0, 0, 0, 0, 0, 0, 0, 0, 0, 0, 0, 0, 1, 0, 0, 0, 0, 0, 0, 0, 0, 0, 0, 0, 0, 0, 0, 0, 0, 0, 0, 0, 0, 0, 0, 0, 0, 0, 0, 0, 0, 0, 0, 0, 0, 0, 0, 0, 0, 0, 0, 0, 0, 0, 0, 0, 0, 0, 0, 0, 0, 0, 0, 0, 0, 0, 0, 0, 1, 0, 0, 0, 0, 0, 0, 0, 0, 0, 0, 0, 0, 0, 0, 0, 0, 0, 0, 0, 0, 0, 0, 0, 0, 0, 0, 0, 0, 0, 0, 0, 0, 0, 0, 0, 0, 0, 0, 0, 0, 0, 0, 0, 0, 0, 0, 0, 0, 0, 0, 0, 0, 0, 0, 0, 0, 0, 0, 0, 0, 0, 0, 0, 0, 0, 0, 0, 0, 0, 0, 0, 0, 0, 0, 0, 0, 0, 0, 0, 0, 0, 0, 0, 0, 0, 0, 0, 0, 0, 0, 0, 0, 0, 0, 0, 0, 0, 0, 0, 0, 0, 0, 0, 0, 0, 0, 0, 0, 0, 0, 0, 0, 0, 0, 0, 0, 0, 0, 0, 0, 0, 0, 0, 0, 0, 0, 0, 0, 0, 0, 0, 0, 0, 0, 0, 0, 0, 0, 0, 0, 0, 0, 0, 0, 0, 0, 0, 0, 0, 0, 0, 0, 0, 0, 0, 0, 0, 0, 0, 0, 0, 0, 0, 0, 0, 0, 0, 0, 0, 0, 0, 0, 0, 0, 0, 0, 0, 0, 0, 0, 0, 0, 0, 0, 0, 0, 0, 0, 0, 0, 0, 0, 0, 0, 0, 0, 0, 0, 0, 0, 0, 0, 0, 0, 0, 0, 0, 0, 0, 0, 0, 0, 0, 0, 0, 0, 0, 0, 0, 0, 0, 0, 0, 0, 0, 0, 0, 0, 0, 0, 0, 0, 0, 0, 0, 0, 0, 0, 0, 0, 0, 0, 0, 0, 0, 0, 0, 0, 0, 0, 0, 0, 0, 0, 0, 0, 0, 0, 0, 0, 0, 0, 0, 0, 0, 0, 0, 0, 0, 0, 0, 0, 0, 0, 0, 0, 0, 0, 0, 0, 0, 0, 0, 0, 0, 0, 0, 0, 0, 0, 0, 0, 0, 0, 0, 0, 0, 0, 0, 0, 0, 0, 0, 0, 0, 0, 0, 0, 0, 0, 0, 0, 0, 0, 0, 0, 0, 0, 0, 0, 0, 0, 0, 0, 0, 0, 0, 0, 0, 0, 0, 0, 0, 0, 0, 0, 0, 0, 0, 0, 0, 0, 0, 0, 0, 0, 0, 0, 0, 0, 0, 0, 0, 0, 0, 0, 0, 0, 0, 0, 0, 0, 0, 0, 0, 0, 0, 0, 0, 0, 0, 0, 0, 0, 0, 0, 0, 0, 0, 0, 0, 0, 0, 0, 0, 0, 0, 0, 0, 0, 0, 0, 0, 0, 0, 0, 0, 0, 0, 0, 0, 0, 0, 0, 0, 0, 0, 0, 0, 0, 0, 0, 0, 0, 0, 0, 0, 0, 0, 0, 0, 0, 0, 0, 0, 0, 0, 0, 0, 0, 0, 0, 0, 0, 0, 0, 0, 0, 0, 0, 0, 0, 0, 0, 0, 0, 0, 0, 0, 0, 0, 0, 0, 0, 0, 0, 0, 0, 0, 0, 0, 0, 0, 0, 0, 0, 0, 0, 0, 0, 0, 0, 0, 0, 0, 0, 0, 0, 0, 0, 0, 0, 0, 0, 0, 0, 0, 0, 0, 0, 0, 0, 0, 0, 0, 0, 0, 0, 0, 0, 0, 0, 0, 0, 0, 0, 0, 0, 0, 0, 0, 0, 0, 0, 0, 0, 0, 0, 0, 0, 0, 0, 0, 0, 0, 0, 0, 0, 0, 0, 0, 0, 0, 0, 0, 0, 0, 0, 0, 0, 0, 0, 0, 0, 0, 0, 0, 0, 0, 0, 0, 0, 0, 0, 0, 0, 0, 0, 0, 0, 0, 0, 0, 0, 0, 0, 0, 0, 0, 0, 0, 0, 0, 0, 0, 0, 0, 0, 0, 0, 0, 0, 0, 0, 0, 0, 0, 0, 0, 0, 0, 0, 0, 0, 0, 0, 0, 0, 0, 0, 0, 0, 0, 0, 0, 0, 0, 0, 0, 0, 0, 0, 0, 0, 0, 0, 0, 0, 0, 0, 0, 0, 0, 0, 0, 0, 0, 0, 0, 0, 0, 0, 0, 0, 0, 0, 0, 0, 0, 0, 0, 0, 0, 0, 0, 0, 0, 0, 0, 0, 0, 0, 0, 0, 0, 0, 0, 0, 0, 0, 0, 0, 0, 0, 0, 0, 0, 0, 0, 0, 0, 0, 0, 0, 0, 0, 0, 0, 0, 0, 0, 1, 0, 0, 0, 0, 0, 0, 0, 0, 0, 0, 0, 0, 0, 0, 0, 0, 0, 0, 0, 0, 0, 0, 0, 0, 0, 0, 0, 0, 0, 0, 0, 0, 0, 0, 0, 0, 0, 0, 0, 0, 0, 0, 0, 0, 0, 0, 0, 0, 0, 0, 0, 0, 0, 0, 0, 0, 0, 0, 0, 0, 0, 0, 0, 0, 0, 0, 0, 0, 0, 0, 0, 0, 0, 0, 1, 0, 0, 0, 0, 0, 0, 0, 0, 0, 0, 0, 0, 0, 0, 0, 0, 0, 0, 0, 0, 1, 0, 0, 1, 0, 0, 0, 0, 0, 0, 0, 0, 0, 0, 0, 0, 0, 0, 0, 0, 0, 0, 0, 0, 0, 0, 0, 0, 0, 0, 0, 0, 0, 0, 0, 0, 0, 0, 0, 0, 0, 0, 0, 0, 0, 0, 0, 0, 0, 0, 0, 0, 0, 0, 0, 0, 0, 0, 0, 0, 0, 0, 0, 0, 0, 0, 0, 0, 0, 0, 0, 0, 0, 0, 0, 0, 0, 0, 0, 0, 0, 0, 0, 0, 0, 0, 0, 0, 0, 0, 0, 0, 0, 0, 0, 0, 0, 0, 0, 0, 0, 0, 0, 0, 0, 0, 0, 0, 0, 0, 0, 0, 0, 0, 0, 0, 0, 0, 0, 0, 0, 0, 0, 0, 0, 0, 0, 0, 0, 0, 0, 0, 0, 0, 0, 0, 0, 0, 0, 0, 0, 0, 0, 0, 0, 0, 0, 0, 0, 0, 0, 0, 0, 0, 0, 0, 0, 0, 0, 0, 0, 0, 0, 0, 0, 0, 0, 0, 0, 0, 0, 0, 0, 0, 0, 0, 0, 0, 0, 0, 0, 0, 0, 0, 0, 0, 0, 0, 0, 0, 0, 0, 0, 0, 0, 0, 0, 0, 0, 0, 0, 0, 0, 0, 0, 0, 0, 0, 0, 0, 0, 0, 0, 0, 0, 0, 0, 0, 0, 0, 0, 0, 0, 0, 0, 0, 0, 0, 0, 0, 0, 0, 0, 0, 0, 0, 0, 0, 0, 0, 0, 0, 0, 0, 0, 0, 0, 0, 0, 0, 0, 0, 0, 0, 0, 0, 0, 0, 0, 0, 0, 0, 0, 0, 0, 0, 0, 0, 0, 0, 0, 0, 0, 0, 0, 0, 0, 0, 0, 0, 0, 0, 0, 0, 0, 0, 0, 0, 0, 0, 0, 0, 0, 0, 0, 0, 0, 0, 0, 0, 0, 0, 0, 0, 0, 0, 0, 0, 0, 0, 0, 0, 0, 0, 0, 0, 0, 0, 0, 0, 0, 0, 0, 0, 0, 0, 0, 0, 0, 0, 0, 0, 0, 0, 0, 0, 0, 0, 0, 0, 0, 0, 0, 0, 0, 0, 0, 0, 0, 0, 0, 0, 0, 0, 0, 0, 0, 0, 0, 0, 0, 0, 0, 0, 0, 0, 0, 0, 0, 0, 0, 0, 0, 0, 0, 0, 0, 0, 0, 0, 0, 0, 0, 0, 0, 0, 0, 0, 0, 0, 0, 0, 0, 0, 0, 0, 0, 0, 0, 0, 0, 0, 0, 0, 0, 0, 0, 0, 0, 0, 0, 0, 0, 0, 0, 0, 0, 0, 0, 0, 0, 0, 0, 0, 0, 0, 0, 0, 0, 0, 0, 0, 0, 0, 0, 0, 0, 0, 0, 0, 0, 0, 0, 0, 0, 0, 0, 0, 0, 0, 0, 0, 0, 0, 0, 0, 0, 0, 0, 0, 0, 0, 0, 0, 0, 0, 0, 0, 0, 0, 1, 0, 0, 0, 0, 0, 0, 0, 0, 0, 0, 0, 0, 0, 0, 0, 0, 0, 0, 0, 0, 0, 0, 0, 0, 0, 0, 0, 0, 0, 0, 0, 0, 0, 0, 0, 0, 0, 0, 0, 0, 0, 0, 0, 0, 0, 0, 0, 0, 0, 0, 0, 0, 0, 0, 0, 0, 0, 0, 0, 0, 0, 0, 0, 0, 0, 0, 0, 0, 0, 0, 0, 0, 0, 0, 0, 0, 0, 0, 0, 0, 0, 0, 0, 0, 0, 0, 0, 0, 0, 0, 0, 0, 0, 0, 0, 0, 0, 0, 0, 0, 0, 0, 0, 0, 0, 0, 0, 0, 0, 0, 0, 0, 0, 0, 0, 0, 0, 0, 0, 0, 0, 0, 0, 0, 0, 0, 0, 0, 0, 0, 0, 0, 0, 0, 0, 0, 0, 0, 0, 0, 0, 0, 0, 0, 0, 0, 0, 0, 0, 0, 0, 0, 0, 0, 0, 0, 0, 0, 0, 0, 0, 0, 0, 0, 0, 0, 0, 0, 0, 0, 0, 0, 0, 0, 0, 0, 0, 0, 0, 0, 0, 0, 0, 0, 0, 0, 0, 0, 0, 0, 0, 0, 0, 0, 0, 0, 0, 0, 0, 0, 0, 0, 0, 0, 0, 0, 0, 0, 0, 0, 0, 0, 0, 0, 0, 0, 0, 0, 0, 0, 0, 0, 0, 0, 0, 0, 0, 0, 0, 0, 0, 0, 0, 0, 0, 0, 0, 0, 0, 0, 0, 0, 0, 0, 0, 0, 0, 0, 0, 0, 0, 0, 0, 0, 0, 0, 0, 0, 0, 0, 0, 0, 0, 0, 0, 0, 0, 0, 0, 0, 0, 0, 0, 0, 0, 0, 0, 0, 0, 0, 0, 0, 0, 0, 0, 0, 0, 0, 0, 0, 0, 0, 0, 0, 0, 0, 0, 0, 0, 0, 0, 0, 0, 0, 0, 0, 0, 0, 0, 0, 0, 0, 0, 0, 0, 0, 0, 0, 0, 0, 0, 0, 0, 0, 0, 0, 0, 0, 0, 0, 0, 0, 0, 0, 0, 0, 0, 0, 0, 0, 0, 0, 0, 0, 0, 0, 0, 0, 0, 0, 0, 0, 0, 0, 0, 0, 0, 0, 0, 0, 0, 0, 0, 0, 0, 0, 0, 0, 0, 0, 0, 0, 0, 0, 0, 0, 0, 0, 0, 0, 0, 0, 0, 0, 0, 0, 0, 0, 0, 0, 0, 0, 0, 0, 0, 0, 0, 0, 0, 0, 0, 0, 0, 0, 0, 0, 0, 0, 0, 0, 0, 0, 0, 0, 0, 0, 0, 0, 0, 0, 0, 0, 0, 0, 0, 0, 0, 0, 0, 0, 0, 0, 0, 0, 0, 0, 0, 0, 0, 0, 0, 0, 0, 0, 0, 0, 0, 0, 0, 0, 0, 0, 0, 0, 0, 0, 0, 0, 0, 0, 0, 0, 0, 0, 0, 0, 0, 0, 0, 0, 0, 0, 0, 0, 0, 0, 0, 0, 0, 0, 0, 0, 0, 0, 0, 0, 0, 0, 0, 0, 0, 0, 0, 0, 0, 0, 0, 0, 0, 0, 0, 0, 0, 0, 0, 0, 0, 0, 0, 0, 0, 0, 1, 0, 0, 0, 0, 0, 0, 0, 0, 0, 0, 0, 0, 0, 0, 0, 0, 0, 0, 0, 0, 0, 0, 0, 0, 0, 0, 0, 0, 0, 0, 0, 0, 0, 0, 0, 2, 0, 0, 0, 0, 0, 0, 0, 0, 0, 0, 0, 0, 0, 0, 0, 0, 0, 0, 0, 0, 0, 0, 0, 0, 0, 0, 0, 0, 0, 0, 0, 0, 0, 0, 0, 0, 0, 0, 0, 0, 1, 0, 0, 0, 0, 0, 0, 0, 0, 0, 0, 0, 0, 0, 0, 0, 0, 0, 0, 0, 0, 0, 0, 0, 0, 0, 0, 0, 0, 0, 0, 0, 0, 0, 0, 0, 0, 0, 0, 0, 0, 0, 0, 0, 0, 0, 0, 0, 0, 0, 0, 0, 0, 0, 0, 0, 0, 0, 0, 0, 0, 0, 0, 0, 0, 0, 0, 0, 0, 0, 0, 0, 0, 0, 0, 0, 0, 0, 0, 0, 0, 0, 0, 0, 0, 0, 0, 0, 0, 0, 0, 0, 0, 0, 0, 0, 0, 0, 0, 0, 0, 0, 0, 0, 0, 0, 0, 0, 0, 0, 0, 0, 0, 0, 0, 0, 0, 0, 0, 0, 0, 0, 0, 0, 0, 0, 0, 0, 0, 0, 0, 0, 0, 0, 0, 0, 0, 0, 0, 0, 0, 0, 0, 0, 0, 0, 0, 0, 0, 0, 0, 0, 0, 0, 0, 0, 0, 0, 0, 0, 0, 0, 0, 0, 0, 0, 0, 0, 0, 0, 0, 0, 0, 0, 0, 0, 0, 0, 0, 0, 0, 0, 0, 0, 0, 0, 0, 0, 0, 0, 0, 0, 0, 0, 0, 0, 0, 0, 0, 0, 0, 0, 0, 0, 0, 0, 0, 0, 0, 0, 0, 0, 0, 0, 0, 0, 0, 0, 0, 0, 0, 0, 0, 0, 0, 0, 0, 0, 0, 0, 0, 0, 0, 0, 0, 0, 0, 0, 0, 0, 0, 0, 0, 0, 0, 0, 0, 0, 0, 0, 0, 0, 0, 0, 0, 0, 0, 0, 0, 0, 0, 0, 0, 0, 0, 0, 0, 0, 0, 0, 0, 0, 0, 0, 0, 0, 0, 0, 0, 0, 0, 0, 0, 0, 0, 0, 0, 0, 0, 0, 0, 0, 0, 0, 0, 0, 0, 0, 0, 0, 0, 0, 0, 0, 0, 0, 0, 0, 0, 0, 0, 0, 0, 0, 0, 0, 0, 0, 0, 0, 0, 0, 0, 0, 0, 0, 0, 0, 0, 0, 0, 0, 0, 0, 0, 0, 0, 0, 0, 0, 0, 0, 0, 0, 0, 0, 0, 0, 0, 0, 0, 0, 0, 0, 0, 0, 0, 0, 0, 0, 0, 0, 0, 0, 0, 0, 0, 0, 0, 0, 0, 0, 0, 0, 0, 0, 0, 0, 0, 0, 0, 0, 0, 0, 0, 0, 0, 0, 0, 0, 0, 0, 0, 0, 0, 0, 0, 0, 0, 0, 0, 0, 0, 0, 0, 0, 0, 0, 0, 0, 0, 0, 0, 0, 0, 0, 0, 0, 0, 0, 0, 0, 0, 0, 0, 0, 0, 0, 0, 0, 0, 0, 0, 0, 0, 0, 0, 0, 0, 0, 0, 0, 0, 0, 0, 0, 0, 0, 0, 0, 0, 0, 0, 0, 0, 0, 0, 0, 0, 0, 0, 0, 0, 0, 0, 0, 0, 0, 0, 0, 0, 0, 0, 0, 0, 0, 0, 0, 0, 0, 0, 0, 0, 0, 0, 0, 0, 0, 0, 0, 0, 0, 0, 0, 0, 0, 0, 0, 1, 0, 0, 0, 0, 0, 0, 0, 0, 0, 0, 0, 0, 0, 0, 0, 0, 0, 0, 0, 0, 0, 0, 0, 0, 0, 0, 0, 0, 0, 0, 0, 0, 0, 0, 0, 0, 0, 0, 0, 0, 0, 0, 0, 0, 0, 0, 0, 0, 0, 0, 0, 0, 0, 0, 0, 0, 0, 0, 0, 0, 0, 0, 0, 0, 0, 0, 0, 0, 0, 0, 0, 0, 0, 0, 0, 0, 0, 0, 0, 0, 0, 0, 0, 0, 0, 0, 0, 0, 0, 0, 0, 0, 0, 0, 0, 0, 0, 0, 0, 0, 0, 0, 0, 0, 0, 0, 0, 0, 0, 0, 2, 0, 0, 0, 0, 0, 0, 0, 0, 0, 0, 0, 0, 0, 0, 0, 0, 0, 0, 0, 0, 0, 0, 0, 0, 0, 0, 0, 0, 0, 0, 0, 0, 0, 0, 0, 0, 0, 0, 0, 0, 0, 0, 0, 0, 0, 0, 0, 0, 0, 0, 0, 0, 0, 0, 0, 0, 0, 0, 0, 0, 0, 0, 0, 0, 0, 0, 0, 0, 0, 0, 0, 0, 0, 0, 0, 0, 0, 0, 0, 0, 0, 0, 0, 0, 0, 0, 0, 0, 0, 0, 0, 0, 0, 0, 0, 0, 0, 0, 0, 0, 0, 0, 0, 0, 0, 0, 0, 0, 0, 0, 0, 0, 0, 0, 0, 0, 0, 0, 0, 0, 0, 0, 0, 0, 0, 0, 0, 0, 0, 0, 0, 0, 0, 0, 0, 0, 0, 0, 0, 0, 0, 0, 0, 0, 0, 0, 0, 0, 0, 0, 0, 0, 0, 0, 0, 0, 0, 0, 0, 0, 0, 0, 0, 0, 0, 0, 0, 0, 0, 0, 0, 0, 0, 0, 0, 0, 0, 0, 0, 0, 0, 0, 0, 0, 0, 0, 0, 0, 0, 0, 0, 0, 0, 0, 0, 0, 0, 0, 0, 0, 0, 0, 0, 0, 0, 0, 0, 0, 0, 0, 0, 0, 0, 0, 0, 0, 0, 0, 0, 0, 0, 0, 0, 0, 0, 0, 0, 0, 0, 0, 0, 0, 0, 0, 0, 0, 0, 0, 0, 0, 0, 0, 0, 0, 0, 0, 0, 0, 0, 0, 0, 0, 0, 0, 0, 0, 0, 0, 0, 0, 0, 0, 0, 0, 0, 0, 0, 0, 0, 0, 0, 0, 0, 0, 0, 0, 0, 0, 0, 0, 0, 0, 0, 0, 0, 0, 0, 0, 0, 0, 0, 0, 0, 0, 0, 0, 0, 0, 0, 0, 0, 0, 0, 0, 0, 0, 0, 0, 0, 0, 0, 0, 0, 0, 0, 0, 0, 0, 0, 0, 0, 0, 0, 0, 0, 0, 0, 0, 0, 0, 0, 0, 0, 0, 0, 0, 0, 0, 0, 0, 0, 0, 0, 0, 0, 0, 0, 0, 0, 0, 0, 0, 0, 0, 0, 0, 0, 0, 0, 0, 0, 0, 0, 0, 0, 0, 0, 0, 0, 0, 0, 0, 0, 0, 0, 0, 0, 0, 0, 0, 0, 0, 0, 0, 0, 0, 0, 0, 0, 0, 0, 0, 0, 0, 0, 0, 0, 0, 0, 0, 0, 0, 0, 0, 0, 0, 0, 0, 0, 0, 0, 0, 0, 0, 0, 0, 0, 0, 0, 0, 0, 0, 0, 0, 0, 0, 0, 0, 0, 0, 0, 0, 0, 0, 0, 0, 0, 0, 0, 0, 0, 0, 0, 0, 0, 0, 0, 0, 0, 0, 0, 0, 0, 0, 0, 0, 0, 0, 0, 0, 0, 0, 0, 0, 0, 0, 0, 0, 0, 0, 0, 0, 0, 0, 0, 0, 0, 0, 0, 0, 0, 0, 0, 0, 0, 0, 0, 0, 0, 0, 0, 0, 0, 0, 0, 0, 0, 0, 0, 0, 0, 0, 0, 0, 0, 0, 0, 0, 0, 0, 0, 0, 0, 0, 0, 0, 0, 0, 0, 0, 0, 0, 0, 0, 0, 0, 0, 0, 0, 0, 0, 0, 0, 0, 0, 0, 0, 0, 0, 0, 0, 0, 0, 0, 0, 0, 0, 0, 0, 0, 0, 0, 0, 0, 0, 0, 0, 0, 0, 0, 0, 0, 0, 0, 0, 0, 0, 0, 0, 0, 0, 0, 0, 0, 0, 0, 0, 0, 0, 0, 0, 0, 0, 0, 0, 0, 0, 0, 0, 0, 0, 0, 0, 0, 0, 0, 0, 0, 0, 0, 0, 0, 0, 0, 0, 0, 0, 0, 0, 0, 0, 0, 0, 0, 0, 0, 0, 0, 0, 0, 0, 0, 0, 0, 0, 0, 0, 0, 0, 0, 0, 0, 0, 0, 0, 0, 0, 0, 0, 0, 0, 0, 0, 0, 0, 0, 0, 0, 0, 0, 0, 0, 0, 0, 0, 0, 0, 0, 0, 0, 0, 0, 0, 0, 0, 0, 0, 0, 0, 0, 0, 0, 0, 0, 0, 0, 0, 0, 0, 0, 0, 0, 0, 0, 0, 0, 0, 0, 0, 0, 1, 0, 0, 0, 0, 0, 0, 0, 0, 0, 0, 0, 0, 0, 0, 0, 0, 0, 0, 0, 0, 0, 0, 0, 0, 0, 0, 0, 0, 0, 0, 0, 0, 0, 0, 0, 0, 0, 0, 0, 0, 0, 0, 0, 0, 0, 0, 0, 0, 0, 0, 0, 0, 0, 0, 0, 0, 0, 0, 0, 0, 0, 0, 0, 0, 0, 0, 0, 0, 0, 0, 0, 0, 0, 0, 0, 0, 0, 0, 0, 0, 0, 0, 0, 0, 0, 0, 0, 0, 0, 0, 0, 0, 0, 0, 0, 0, 0, 0, 0, 0, 0, 0, 0, 0, 0, 0, 0, 1, 0, 0, 0, 0, 0, 0, 0, 0, 0, 0, 0, 0, 0, 0, 0, 0, 0, 0, 0, 0, 0, 0, 0, 0, 0, 0, 0, 0, 0, 0, 0, 0, 0, 0, 0, 0, 0, 0, 0, 0, 0, 0, 0, 0, 0, 0, 0, 0, 0, 0, 0, 0, 0, 0, 0, 0, 0, 0, 0, 0, 0, 0, 0, 0, 0, 0, 0, 0, 0, 0, 0, 0, 0, 0, 0, 0, 0, 0, 0, 0, 0, 0, 0, 0, 0, 0, 0, 0, 0, 0, 0, 0, 0, 0, 0, 0, 0, 0, 0, 0, 0, 0, 0, 0, 0, 0, 0, 0, 0, 0, 0, 0, 0, 0, 0, 0, 0, 0, 0, 0, 0, 0, 0, 0, 0, 0, 0, 0, 0, 0, 0, 0, 0, 0, 0, 0, 0, 0, 0, 0, 0, 0, 0, 0, 0, 0, 0, 0, 0, 0, 0, 0, 0, 0, 0, 0, 0, 0, 0, 0, 0, 0, 0, 0, 0, 0, 0, 0, 0, 0, 0, 0, 0, 0, 0, 0, 0, 0, 0, 0, 0, 0, 0, 0, 0, 0, 0, 0, 0, 0, 0, 0, 0, 0, 0, 0, 0, 0, 0, 0, 0, 0, 0, 0, 0, 0, 0, 0, 0, 0, 0, 0, 0, 0, 0, 0, 0, 0, 0, 0, 0, 0, 0, 0, 0, 0, 0, 0, 0, 0, 0, 0, 0, 0, 0, 0, 0, 0, 0, 0, 0, 0, 0, 0, 0, 0, 0, 0, 0, 0, 0, 0, 0, 0, 0, 0, 0, 0, 0, 0, 0, 0, 0, 0, 0, 0, 0, 0, 0, 0, 0, 0, 0, 0, 0, 0, 0, 0, 0, 0, 0, 0, 0, 0, 0, 0, 0, 0, 0, 0, 0, 0, 0, 0, 0, 0, 0, 0, 0, 0, 0, 0, 0, 0, 0, 0, 0, 0, 0, 0, 0, 0, 0, 0, 0, 0, 0, 0, 0, 0, 0, 0, 0, 0, 0, 0, 0, 0, 0, 0, 0, 0, 0, 0, 0, 0, 0, 0, 0, 0, 0, 0, 0, 0, 0, 0, 0, 0, 0, 0, 0, 0, 0, 0, 0, 0, 0, 0, 0, 0, 0, 0, 0, 0, 0, 0, 0, 0, 0, 0, 0, 0, 0, 0, 0, 0, 0, 0, 0, 0, 0, 0, 0, 0, 0, 0, 0, 0, 0, 0, 0, 0, 0, 0, 0, 0, 0, 0, 0, 0, 0, 0, 0, 0, 0, 0, 0, 0, 0, 0, 0, 0, 0, 0, 0, 0, 0, 0, 0, 0, 0, 0, 0, 0, 0, 0, 0, 0, 0, 0, 0, 0, 0, 0, 0, 0, 0, 0, 0, 0, 0, 0, 0, 0, 0, 0, 0, 0, 0, 0, 0, 0, 0, 0, 0, 0, 0, 0, 0, 0, 0, 0, 0, 2, 0, 1, 0]\n"
     ]
    }
   ],
   "source": [
    "test_bow = bow_encoding(test_words, vocabulary)\n",
    "print(test_bow)"
   ]
  },
  {
   "cell_type": "code",
   "execution_count": 39,
   "metadata": {},
   "outputs": [
    {
     "data": {
      "text/plain": [
       "5000"
      ]
     },
     "execution_count": 39,
     "metadata": {},
     "output_type": "execute_result"
    }
   ],
   "source": [
    "len(test_bow)"
   ]
  },
  {
   "cell_type": "markdown",
   "metadata": {},
   "source": [
    "So now we know how to construct a bag of words encoding of a user provided review, how to we send it to our endpoint? First, we need to start the endpoint back up."
   ]
  },
  {
   "cell_type": "code",
   "execution_count": null,
   "metadata": {},
   "outputs": [],
   "source": [
    "xgb_predictor = xgb.deploy(initial_instance_count = 1, instance_type = 'ml.m4.xlarge')"
   ]
  },
  {
   "cell_type": "markdown",
   "metadata": {},
   "source": [
    "At this point we could just do the same thing that we did earlier when we tested our deployed model and send `test_bow` to our endpoint using the `xgb_predictor` object. However, when we eventually construct our Lambda function we won't have access to this object, so how do we call a SageMaker endpoint?\n",
    "\n",
    "It turns out that Python functions that are used in Lambda have access to another Amazon library called `boto3`. This library provides an API for working with Amazon services, including SageMaker. To start with, we need to get a handle to the SageMaker runtime."
   ]
  },
  {
   "cell_type": "code",
   "execution_count": 40,
   "metadata": {},
   "outputs": [],
   "source": [
    "import boto3\n",
    "\n",
    "runtime = boto3.Session().client('sagemaker-runtime')"
   ]
  },
  {
   "cell_type": "markdown",
   "metadata": {},
   "source": [
    "And now that we have access to the SageMaker runtime, we can ask it to make use of (invoke) an endpoint that has already been created. However, we need to provide SageMaker with the name of the deployed endpoint. To find this out we can print it out using the `xgb_predictor` object."
   ]
  },
  {
   "cell_type": "code",
   "execution_count": 41,
   "metadata": {},
   "outputs": [
    {
     "data": {
      "text/plain": [
       "'xgboost-2020-05-02-14-09-20-831'"
      ]
     },
     "execution_count": 41,
     "metadata": {},
     "output_type": "execute_result"
    }
   ],
   "source": [
    "xgb_predictor.endpoint"
   ]
  },
  {
   "cell_type": "markdown",
   "metadata": {},
   "source": [
    "Using the SageMaker runtime and the name of our endpoint, we can invoke the endpoint and send it the `test_bow` data."
   ]
  },
  {
   "cell_type": "code",
   "execution_count": 42,
   "metadata": {},
   "outputs": [
    {
     "ename": "ParamValidationError",
     "evalue": "Parameter validation failed:\nInvalid type for parameter Body, value: [0, 0, 0, 0, 0, 0, 0, 0, 0, 0, 0, 0, 0, 0, 0, 0, 0, 0, 0, 0, 0, 0, 0, 0, 0, 0, 0, 0, 0, 0, 0, 0, 0, 0, 0, 0, 0, 0, 0, 0, 0, 0, 0, 0, 0, 0, 0, 0, 0, 0, 0, 0, 0, 0, 0, 0, 0, 0, 0, 0, 0, 0, 0, 0, 0, 0, 0, 0, 0, 0, 0, 0, 0, 0, 0, 0, 0, 0, 0, 0, 0, 0, 0, 0, 0, 0, 0, 0, 0, 0, 0, 0, 0, 0, 0, 0, 0, 0, 0, 0, 0, 0, 0, 0, 0, 0, 0, 0, 0, 0, 0, 0, 0, 0, 0, 0, 0, 0, 0, 0, 0, 0, 0, 0, 0, 0, 0, 0, 0, 0, 0, 0, 0, 0, 0, 0, 0, 0, 0, 0, 0, 0, 0, 0, 0, 0, 0, 0, 0, 0, 0, 0, 0, 0, 0, 0, 0, 0, 0, 0, 0, 0, 0, 0, 0, 0, 0, 0, 0, 0, 0, 0, 0, 0, 0, 0, 0, 0, 0, 0, 0, 0, 0, 0, 0, 0, 0, 0, 0, 0, 0, 0, 0, 0, 0, 0, 0, 0, 0, 0, 0, 0, 0, 0, 0, 0, 0, 0, 0, 0, 0, 0, 0, 0, 0, 0, 0, 0, 0, 0, 0, 0, 0, 0, 0, 0, 1, 0, 0, 0, 0, 0, 0, 0, 0, 0, 0, 0, 0, 0, 0, 0, 0, 0, 0, 0, 0, 0, 0, 0, 0, 0, 0, 0, 0, 0, 1, 0, 0, 0, 0, 0, 0, 0, 0, 0, 0, 0, 0, 0, 0, 0, 0, 0, 0, 0, 0, 0, 0, 0, 0, 0, 0, 0, 0, 0, 0, 0, 0, 0, 0, 0, 0, 0, 0, 0, 0, 0, 0, 0, 0, 0, 0, 0, 0, 0, 0, 0, 0, 0, 0, 0, 0, 0, 0, 0, 0, 0, 0, 0, 0, 0, 0, 0, 0, 0, 0, 0, 0, 0, 0, 0, 0, 0, 0, 0, 0, 0, 0, 0, 0, 0, 0, 0, 0, 0, 0, 0, 0, 0, 0, 0, 0, 0, 0, 0, 0, 0, 0, 0, 0, 0, 0, 0, 0, 0, 0, 0, 0, 0, 0, 0, 0, 0, 0, 0, 0, 0, 0, 0, 0, 0, 0, 0, 0, 0, 0, 0, 0, 0, 0, 0, 0, 0, 0, 0, 0, 0, 0, 0, 0, 0, 0, 0, 0, 0, 0, 0, 0, 0, 0, 0, 0, 0, 0, 0, 0, 0, 0, 0, 0, 0, 0, 0, 0, 0, 0, 0, 0, 0, 0, 0, 0, 0, 0, 0, 0, 0, 0, 0, 0, 0, 0, 0, 0, 0, 0, 0, 0, 0, 0, 0, 0, 0, 0, 0, 0, 0, 0, 0, 0, 0, 0, 0, 0, 0, 0, 0, 0, 0, 0, 0, 0, 0, 0, 0, 0, 0, 0, 0, 0, 0, 0, 0, 0, 0, 0, 0, 0, 0, 0, 0, 0, 0, 0, 0, 0, 0, 0, 0, 0, 0, 0, 0, 0, 0, 0, 0, 0, 0, 0, 0, 0, 0, 0, 0, 0, 0, 0, 0, 0, 0, 0, 0, 0, 0, 0, 0, 0, 0, 0, 0, 0, 0, 0, 0, 0, 0, 0, 0, 0, 0, 0, 0, 0, 0, 0, 0, 0, 0, 0, 0, 0, 0, 0, 0, 0, 0, 0, 0, 0, 0, 0, 0, 0, 0, 0, 0, 0, 0, 0, 0, 0, 0, 0, 0, 0, 0, 0, 0, 0, 0, 0, 0, 0, 0, 0, 0, 0, 0, 0, 0, 0, 0, 0, 0, 0, 0, 0, 0, 0, 0, 0, 0, 0, 0, 0, 0, 0, 0, 0, 0, 0, 0, 0, 0, 0, 0, 0, 0, 0, 0, 0, 0, 0, 0, 0, 0, 0, 0, 0, 0, 0, 0, 0, 0, 1, 0, 0, 0, 0, 0, 0, 0, 0, 0, 0, 0, 0, 0, 0, 0, 0, 0, 0, 0, 0, 0, 0, 0, 0, 0, 0, 0, 0, 0, 0, 0, 0, 0, 0, 0, 0, 0, 0, 0, 0, 0, 0, 0, 0, 0, 0, 0, 0, 0, 0, 0, 0, 0, 0, 0, 0, 0, 0, 0, 0, 0, 0, 0, 0, 0, 0, 0, 0, 0, 0, 0, 0, 0, 0, 0, 0, 0, 0, 0, 0, 0, 0, 0, 0, 0, 0, 0, 0, 0, 0, 0, 0, 0, 0, 0, 0, 0, 0, 0, 0, 0, 0, 0, 0, 0, 0, 0, 0, 0, 0, 0, 0, 0, 0, 0, 0, 0, 0, 0, 0, 0, 0, 0, 0, 0, 0, 0, 0, 0, 0, 0, 0, 0, 0, 0, 0, 0, 0, 0, 0, 0, 0, 0, 0, 0, 0, 0, 0, 0, 0, 0, 0, 0, 0, 0, 0, 0, 0, 0, 0, 0, 0, 0, 0, 0, 0, 0, 0, 0, 0, 0, 0, 0, 0, 0, 0, 0, 0, 0, 0, 0, 0, 0, 0, 0, 0, 0, 0, 0, 0, 0, 0, 0, 0, 0, 0, 0, 0, 0, 0, 0, 0, 0, 0, 0, 0, 0, 0, 0, 0, 0, 0, 0, 0, 0, 0, 0, 0, 0, 0, 0, 0, 0, 0, 0, 0, 0, 0, 0, 0, 0, 0, 0, 0, 0, 0, 0, 0, 0, 0, 0, 0, 0, 0, 0, 0, 0, 0, 0, 0, 0, 0, 0, 1, 0, 0, 0, 0, 0, 0, 0, 0, 0, 0, 0, 0, 0, 0, 0, 0, 0, 0, 0, 0, 0, 0, 0, 0, 0, 0, 0, 0, 0, 0, 0, 0, 0, 0, 0, 0, 0, 0, 0, 0, 0, 0, 0, 0, 0, 0, 0, 0, 0, 0, 0, 0, 0, 0, 0, 0, 0, 0, 0, 0, 0, 0, 0, 0, 0, 0, 0, 0, 0, 0, 0, 0, 0, 0, 0, 0, 0, 0, 0, 0, 0, 0, 0, 0, 0, 0, 1, 0, 0, 0, 0, 0, 0, 0, 0, 0, 0, 0, 0, 0, 0, 0, 0, 0, 0, 0, 0, 0, 0, 0, 0, 0, 0, 0, 0, 0, 0, 0, 0, 0, 0, 0, 0, 0, 0, 0, 0, 0, 0, 0, 0, 0, 0, 0, 0, 0, 0, 0, 0, 0, 0, 0, 0, 0, 0, 0, 0, 0, 0, 0, 0, 0, 0, 0, 0, 0, 0, 0, 0, 0, 0, 0, 0, 0, 0, 0, 0, 0, 0, 0, 0, 0, 0, 0, 0, 0, 0, 0, 0, 0, 0, 0, 0, 0, 0, 0, 0, 0, 0, 0, 0, 0, 0, 0, 0, 0, 0, 0, 0, 0, 0, 0, 0, 0, 0, 0, 0, 0, 0, 0, 0, 0, 0, 0, 0, 0, 0, 0, 0, 0, 0, 0, 0, 0, 0, 0, 0, 0, 0, 0, 0, 0, 0, 0, 0, 0, 0, 0, 0, 0, 0, 0, 0, 0, 0, 0, 0, 0, 0, 0, 0, 0, 0, 0, 0, 0, 0, 0, 0, 0, 0, 0, 0, 0, 0, 0, 0, 0, 0, 0, 0, 0, 0, 0, 0, 0, 0, 0, 0, 0, 0, 0, 0, 0, 0, 0, 0, 0, 0, 0, 0, 0, 0, 0, 0, 0, 0, 0, 0, 0, 0, 0, 0, 0, 0, 0, 0, 0, 0, 0, 0, 0, 0, 0, 0, 0, 0, 0, 0, 0, 0, 0, 0, 0, 0, 0, 0, 0, 0, 0, 0, 0, 0, 0, 0, 0, 0, 0, 0, 1, 0, 0, 0, 0, 0, 0, 0, 0, 0, 0, 0, 0, 0, 0, 0, 0, 0, 0, 0, 0, 0, 0, 0, 0, 0, 0, 0, 0, 0, 0, 0, 0, 0, 0, 0, 0, 0, 0, 0, 0, 0, 0, 0, 0, 0, 0, 0, 0, 0, 0, 0, 0, 0, 0, 0, 1, 0, 0, 0, 0, 0, 0, 0, 0, 0, 0, 0, 0, 0, 0, 0, 0, 0, 0, 0, 0, 0, 0, 0, 0, 0, 0, 0, 0, 0, 0, 0, 0, 0, 0, 0, 0, 0, 0, 0, 0, 0, 0, 0, 0, 0, 0, 0, 0, 0, 0, 0, 0, 0, 0, 0, 0, 0, 0, 0, 0, 0, 0, 0, 0, 0, 0, 0, 0, 0, 0, 0, 0, 0, 0, 0, 0, 0, 0, 0, 0, 0, 0, 0, 0, 0, 0, 0, 0, 0, 0, 0, 0, 0, 0, 0, 0, 0, 0, 0, 0, 0, 0, 0, 0, 0, 0, 0, 0, 0, 0, 0, 0, 0, 0, 0, 0, 0, 0, 0, 0, 0, 0, 0, 0, 0, 0, 0, 0, 0, 0, 0, 0, 0, 0, 0, 0, 0, 0, 0, 0, 0, 0, 0, 0, 0, 0, 0, 0, 0, 0, 0, 0, 0, 0, 0, 0, 0, 0, 0, 0, 0, 0, 0, 0, 0, 0, 0, 0, 0, 0, 0, 0, 0, 0, 0, 0, 0, 0, 0, 0, 0, 0, 0, 0, 0, 0, 0, 0, 0, 0, 0, 0, 0, 0, 0, 0, 0, 0, 0, 0, 0, 0, 0, 0, 0, 0, 0, 0, 0, 0, 0, 0, 0, 0, 0, 0, 0, 0, 0, 0, 0, 0, 0, 0, 0, 0, 0, 0, 0, 0, 0, 0, 0, 0, 0, 0, 0, 0, 0, 0, 0, 0, 0, 0, 0, 0, 0, 0, 0, 0, 0, 0, 0, 0, 0, 0, 0, 0, 0, 0, 0, 0, 0, 0, 0, 0, 0, 0, 0, 0, 0, 0, 0, 0, 0, 0, 0, 0, 0, 0, 0, 0, 0, 0, 0, 0, 0, 0, 0, 0, 0, 0, 0, 0, 0, 0, 0, 0, 0, 0, 0, 0, 0, 0, 0, 0, 0, 0, 0, 0, 0, 0, 0, 0, 0, 0, 0, 0, 0, 0, 0, 0, 0, 0, 0, 0, 0, 0, 0, 0, 0, 0, 0, 0, 0, 0, 0, 0, 0, 0, 0, 0, 0, 0, 0, 0, 0, 0, 0, 0, 0, 0, 0, 0, 0, 0, 0, 0, 0, 0, 0, 0, 0, 0, 0, 0, 0, 0, 0, 0, 0, 0, 0, 0, 0, 0, 0, 0, 0, 0, 0, 0, 0, 0, 0, 0, 0, 0, 0, 0, 0, 0, 0, 0, 0, 0, 0, 0, 0, 0, 0, 0, 0, 0, 0, 0, 0, 0, 0, 0, 0, 0, 0, 0, 0, 0, 0, 0, 0, 0, 0, 0, 0, 0, 0, 0, 0, 0, 0, 0, 0, 0, 0, 0, 0, 0, 0, 0, 0, 0, 0, 0, 0, 0, 0, 0, 0, 0, 0, 0, 0, 0, 0, 0, 0, 0, 0, 0, 0, 0, 0, 0, 0, 0, 0, 0, 0, 0, 0, 0, 0, 0, 0, 0, 0, 0, 0, 0, 0, 0, 0, 0, 0, 0, 0, 0, 0, 0, 0, 0, 0, 0, 0, 0, 0, 0, 0, 0, 0, 0, 0, 0, 0, 0, 0, 0, 0, 0, 0, 0, 0, 0, 0, 0, 0, 0, 0, 0, 0, 0, 0, 0, 0, 0, 0, 0, 0, 0, 0, 0, 0, 0, 0, 0, 0, 0, 0, 0, 0, 0, 0, 0, 0, 0, 0, 0, 0, 0, 0, 0, 0, 0, 0, 0, 0, 0, 0, 0, 0, 0, 0, 0, 0, 0, 0, 0, 0, 0, 0, 0, 0, 0, 0, 0, 0, 0, 0, 0, 0, 0, 0, 0, 0, 0, 0, 0, 0, 0, 0, 0, 0, 0, 0, 0, 0, 0, 0, 0, 0, 0, 0, 0, 0, 0, 0, 0, 0, 0, 0, 0, 0, 0, 0, 0, 0, 0, 0, 0, 0, 0, 0, 0, 0, 0, 0, 0, 0, 0, 0, 0, 0, 0, 0, 0, 0, 0, 0, 0, 0, 0, 0, 0, 0, 0, 0, 0, 0, 0, 0, 0, 0, 0, 0, 0, 0, 0, 0, 0, 0, 0, 0, 0, 0, 0, 0, 0, 0, 0, 0, 0, 0, 0, 0, 0, 0, 0, 0, 0, 0, 0, 0, 1, 0, 0, 0, 0, 0, 0, 0, 0, 0, 0, 0, 0, 0, 0, 0, 0, 0, 0, 0, 0, 0, 0, 0, 0, 0, 0, 0, 0, 0, 0, 0, 0, 0, 0, 0, 0, 0, 0, 0, 0, 0, 0, 0, 0, 0, 0, 0, 0, 0, 0, 0, 0, 0, 0, 0, 0, 0, 0, 0, 0, 0, 0, 0, 0, 0, 0, 0, 0, 0, 0, 0, 0, 0, 0, 1, 0, 0, 0, 0, 0, 0, 0, 0, 0, 0, 0, 0, 0, 0, 0, 0, 0, 0, 0, 0, 1, 0, 0, 1, 0, 0, 0, 0, 0, 0, 0, 0, 0, 0, 0, 0, 0, 0, 0, 0, 0, 0, 0, 0, 0, 0, 0, 0, 0, 0, 0, 0, 0, 0, 0, 0, 0, 0, 0, 0, 0, 0, 0, 0, 0, 0, 0, 0, 0, 0, 0, 0, 0, 0, 0, 0, 0, 0, 0, 0, 0, 0, 0, 0, 0, 0, 0, 0, 0, 0, 0, 0, 0, 0, 0, 0, 0, 0, 0, 0, 0, 0, 0, 0, 0, 0, 0, 0, 0, 0, 0, 0, 0, 0, 0, 0, 0, 0, 0, 0, 0, 0, 0, 0, 0, 0, 0, 0, 0, 0, 0, 0, 0, 0, 0, 0, 0, 0, 0, 0, 0, 0, 0, 0, 0, 0, 0, 0, 0, 0, 0, 0, 0, 0, 0, 0, 0, 0, 0, 0, 0, 0, 0, 0, 0, 0, 0, 0, 0, 0, 0, 0, 0, 0, 0, 0, 0, 0, 0, 0, 0, 0, 0, 0, 0, 0, 0, 0, 0, 0, 0, 0, 0, 0, 0, 0, 0, 0, 0, 0, 0, 0, 0, 0, 0, 0, 0, 0, 0, 0, 0, 0, 0, 0, 0, 0, 0, 0, 0, 0, 0, 0, 0, 0, 0, 0, 0, 0, 0, 0, 0, 0, 0, 0, 0, 0, 0, 0, 0, 0, 0, 0, 0, 0, 0, 0, 0, 0, 0, 0, 0, 0, 0, 0, 0, 0, 0, 0, 0, 0, 0, 0, 0, 0, 0, 0, 0, 0, 0, 0, 0, 0, 0, 0, 0, 0, 0, 0, 0, 0, 0, 0, 0, 0, 0, 0, 0, 0, 0, 0, 0, 0, 0, 0, 0, 0, 0, 0, 0, 0, 0, 0, 0, 0, 0, 0, 0, 0, 0, 0, 0, 0, 0, 0, 0, 0, 0, 0, 0, 0, 0, 0, 0, 0, 0, 0, 0, 0, 0, 0, 0, 0, 0, 0, 0, 0, 0, 0, 0, 0, 0, 0, 0, 0, 0, 0, 0, 0, 0, 0, 0, 0, 0, 0, 0, 0, 0, 0, 0, 0, 0, 0, 0, 0, 0, 0, 0, 0, 0, 0, 0, 0, 0, 0, 0, 0, 0, 0, 0, 0, 0, 0, 0, 0, 0, 0, 0, 0, 0, 0, 0, 0, 0, 0, 0, 0, 0, 0, 0, 0, 0, 0, 0, 0, 0, 0, 0, 0, 0, 0, 0, 0, 0, 0, 0, 0, 0, 0, 0, 0, 0, 0, 0, 0, 0, 0, 0, 0, 0, 0, 0, 0, 0, 0, 0, 0, 0, 0, 0, 0, 0, 0, 0, 0, 0, 0, 0, 0, 0, 0, 0, 0, 0, 0, 0, 0, 0, 0, 0, 0, 0, 0, 0, 0, 0, 0, 0, 0, 0, 0, 0, 0, 0, 0, 0, 0, 0, 0, 0, 0, 0, 0, 0, 0, 0, 0, 0, 0, 0, 0, 1, 0, 0, 0, 0, 0, 0, 0, 0, 0, 0, 0, 0, 0, 0, 0, 0, 0, 0, 0, 0, 0, 0, 0, 0, 0, 0, 0, 0, 0, 0, 0, 0, 0, 0, 0, 0, 0, 0, 0, 0, 0, 0, 0, 0, 0, 0, 0, 0, 0, 0, 0, 0, 0, 0, 0, 0, 0, 0, 0, 0, 0, 0, 0, 0, 0, 0, 0, 0, 0, 0, 0, 0, 0, 0, 0, 0, 0, 0, 0, 0, 0, 0, 0, 0, 0, 0, 0, 0, 0, 0, 0, 0, 0, 0, 0, 0, 0, 0, 0, 0, 0, 0, 0, 0, 0, 0, 0, 0, 0, 0, 0, 0, 0, 0, 0, 0, 0, 0, 0, 0, 0, 0, 0, 0, 0, 0, 0, 0, 0, 0, 0, 0, 0, 0, 0, 0, 0, 0, 0, 0, 0, 0, 0, 0, 0, 0, 0, 0, 0, 0, 0, 0, 0, 0, 0, 0, 0, 0, 0, 0, 0, 0, 0, 0, 0, 0, 0, 0, 0, 0, 0, 0, 0, 0, 0, 0, 0, 0, 0, 0, 0, 0, 0, 0, 0, 0, 0, 0, 0, 0, 0, 0, 0, 0, 0, 0, 0, 0, 0, 0, 0, 0, 0, 0, 0, 0, 0, 0, 0, 0, 0, 0, 0, 0, 0, 0, 0, 0, 0, 0, 0, 0, 0, 0, 0, 0, 0, 0, 0, 0, 0, 0, 0, 0, 0, 0, 0, 0, 0, 0, 0, 0, 0, 0, 0, 0, 0, 0, 0, 0, 0, 0, 0, 0, 0, 0, 0, 0, 0, 0, 0, 0, 0, 0, 0, 0, 0, 0, 0, 0, 0, 0, 0, 0, 0, 0, 0, 0, 0, 0, 0, 0, 0, 0, 0, 0, 0, 0, 0, 0, 0, 0, 0, 0, 0, 0, 0, 0, 0, 0, 0, 0, 0, 0, 0, 0, 0, 0, 0, 0, 0, 0, 0, 0, 0, 0, 0, 0, 0, 0, 0, 0, 0, 0, 0, 0, 0, 0, 0, 0, 0, 0, 0, 0, 0, 0, 0, 0, 0, 0, 0, 0, 0, 0, 0, 0, 0, 0, 0, 0, 0, 0, 0, 0, 0, 0, 0, 0, 0, 0, 0, 0, 0, 0, 0, 0, 0, 0, 0, 0, 0, 0, 0, 0, 0, 0, 0, 0, 0, 0, 0, 0, 0, 0, 0, 0, 0, 0, 0, 0, 0, 0, 0, 0, 0, 0, 0, 0, 0, 0, 0, 0, 0, 0, 0, 0, 0, 0, 0, 0, 0, 0, 0, 0, 0, 0, 0, 0, 0, 0, 0, 0, 0, 0, 0, 0, 0, 0, 0, 0, 0, 0, 0, 0, 0, 0, 0, 0, 0, 0, 0, 0, 0, 0, 0, 0, 0, 0, 0, 0, 0, 0, 0, 0, 0, 0, 0, 0, 0, 0, 0, 0, 0, 0, 0, 0, 0, 0, 0, 0, 0, 0, 0, 0, 0, 0, 0, 0, 0, 0, 0, 0, 0, 0, 0, 0, 0, 0, 0, 0, 0, 0, 0, 0, 0, 0, 0, 0, 0, 0, 0, 0, 0, 0, 0, 0, 0, 0, 0, 0, 0, 0, 1, 0, 0, 0, 0, 0, 0, 0, 0, 0, 0, 0, 0, 0, 0, 0, 0, 0, 0, 0, 0, 0, 0, 0, 0, 0, 0, 0, 0, 0, 0, 0, 0, 0, 0, 0, 2, 0, 0, 0, 0, 0, 0, 0, 0, 0, 0, 0, 0, 0, 0, 0, 0, 0, 0, 0, 0, 0, 0, 0, 0, 0, 0, 0, 0, 0, 0, 0, 0, 0, 0, 0, 0, 0, 0, 0, 0, 1, 0, 0, 0, 0, 0, 0, 0, 0, 0, 0, 0, 0, 0, 0, 0, 0, 0, 0, 0, 0, 0, 0, 0, 0, 0, 0, 0, 0, 0, 0, 0, 0, 0, 0, 0, 0, 0, 0, 0, 0, 0, 0, 0, 0, 0, 0, 0, 0, 0, 0, 0, 0, 0, 0, 0, 0, 0, 0, 0, 0, 0, 0, 0, 0, 0, 0, 0, 0, 0, 0, 0, 0, 0, 0, 0, 0, 0, 0, 0, 0, 0, 0, 0, 0, 0, 0, 0, 0, 0, 0, 0, 0, 0, 0, 0, 0, 0, 0, 0, 0, 0, 0, 0, 0, 0, 0, 0, 0, 0, 0, 0, 0, 0, 0, 0, 0, 0, 0, 0, 0, 0, 0, 0, 0, 0, 0, 0, 0, 0, 0, 0, 0, 0, 0, 0, 0, 0, 0, 0, 0, 0, 0, 0, 0, 0, 0, 0, 0, 0, 0, 0, 0, 0, 0, 0, 0, 0, 0, 0, 0, 0, 0, 0, 0, 0, 0, 0, 0, 0, 0, 0, 0, 0, 0, 0, 0, 0, 0, 0, 0, 0, 0, 0, 0, 0, 0, 0, 0, 0, 0, 0, 0, 0, 0, 0, 0, 0, 0, 0, 0, 0, 0, 0, 0, 0, 0, 0, 0, 0, 0, 0, 0, 0, 0, 0, 0, 0, 0, 0, 0, 0, 0, 0, 0, 0, 0, 0, 0, 0, 0, 0, 0, 0, 0, 0, 0, 0, 0, 0, 0, 0, 0, 0, 0, 0, 0, 0, 0, 0, 0, 0, 0, 0, 0, 0, 0, 0, 0, 0, 0, 0, 0, 0, 0, 0, 0, 0, 0, 0, 0, 0, 0, 0, 0, 0, 0, 0, 0, 0, 0, 0, 0, 0, 0, 0, 0, 0, 0, 0, 0, 0, 0, 0, 0, 0, 0, 0, 0, 0, 0, 0, 0, 0, 0, 0, 0, 0, 0, 0, 0, 0, 0, 0, 0, 0, 0, 0, 0, 0, 0, 0, 0, 0, 0, 0, 0, 0, 0, 0, 0, 0, 0, 0, 0, 0, 0, 0, 0, 0, 0, 0, 0, 0, 0, 0, 0, 0, 0, 0, 0, 0, 0, 0, 0, 0, 0, 0, 0, 0, 0, 0, 0, 0, 0, 0, 0, 0, 0, 0, 0, 0, 0, 0, 0, 0, 0, 0, 0, 0, 0, 0, 0, 0, 0, 0, 0, 0, 0, 0, 0, 0, 0, 0, 0, 0, 0, 0, 0, 0, 0, 0, 0, 0, 0, 0, 0, 0, 0, 0, 0, 0, 0, 0, 0, 0, 0, 0, 0, 0, 0, 0, 0, 0, 0, 0, 0, 0, 0, 0, 0, 0, 0, 0, 0, 0, 0, 0, 0, 0, 0, 0, 0, 0, 0, 0, 0, 0, 0, 0, 0, 0, 0, 0, 0, 0, 0, 0, 0, 0, 0, 0, 0, 0, 0, 0, 0, 0, 0, 0, 0, 0, 0, 0, 0, 0, 0, 0, 0, 0, 0, 0, 0, 0, 0, 0, 0, 0, 0, 0, 0, 0, 0, 0, 0, 0, 0, 0, 1, 0, 0, 0, 0, 0, 0, 0, 0, 0, 0, 0, 0, 0, 0, 0, 0, 0, 0, 0, 0, 0, 0, 0, 0, 0, 0, 0, 0, 0, 0, 0, 0, 0, 0, 0, 0, 0, 0, 0, 0, 0, 0, 0, 0, 0, 0, 0, 0, 0, 0, 0, 0, 0, 0, 0, 0, 0, 0, 0, 0, 0, 0, 0, 0, 0, 0, 0, 0, 0, 0, 0, 0, 0, 0, 0, 0, 0, 0, 0, 0, 0, 0, 0, 0, 0, 0, 0, 0, 0, 0, 0, 0, 0, 0, 0, 0, 0, 0, 0, 0, 0, 0, 0, 0, 0, 0, 0, 0, 0, 0, 2, 0, 0, 0, 0, 0, 0, 0, 0, 0, 0, 0, 0, 0, 0, 0, 0, 0, 0, 0, 0, 0, 0, 0, 0, 0, 0, 0, 0, 0, 0, 0, 0, 0, 0, 0, 0, 0, 0, 0, 0, 0, 0, 0, 0, 0, 0, 0, 0, 0, 0, 0, 0, 0, 0, 0, 0, 0, 0, 0, 0, 0, 0, 0, 0, 0, 0, 0, 0, 0, 0, 0, 0, 0, 0, 0, 0, 0, 0, 0, 0, 0, 0, 0, 0, 0, 0, 0, 0, 0, 0, 0, 0, 0, 0, 0, 0, 0, 0, 0, 0, 0, 0, 0, 0, 0, 0, 0, 0, 0, 0, 0, 0, 0, 0, 0, 0, 0, 0, 0, 0, 0, 0, 0, 0, 0, 0, 0, 0, 0, 0, 0, 0, 0, 0, 0, 0, 0, 0, 0, 0, 0, 0, 0, 0, 0, 0, 0, 0, 0, 0, 0, 0, 0, 0, 0, 0, 0, 0, 0, 0, 0, 0, 0, 0, 0, 0, 0, 0, 0, 0, 0, 0, 0, 0, 0, 0, 0, 0, 0, 0, 0, 0, 0, 0, 0, 0, 0, 0, 0, 0, 0, 0, 0, 0, 0, 0, 0, 0, 0, 0, 0, 0, 0, 0, 0, 0, 0, 0, 0, 0, 0, 0, 0, 0, 0, 0, 0, 0, 0, 0, 0, 0, 0, 0, 0, 0, 0, 0, 0, 0, 0, 0, 0, 0, 0, 0, 0, 0, 0, 0, 0, 0, 0, 0, 0, 0, 0, 0, 0, 0, 0, 0, 0, 0, 0, 0, 0, 0, 0, 0, 0, 0, 0, 0, 0, 0, 0, 0, 0, 0, 0, 0, 0, 0, 0, 0, 0, 0, 0, 0, 0, 0, 0, 0, 0, 0, 0, 0, 0, 0, 0, 0, 0, 0, 0, 0, 0, 0, 0, 0, 0, 0, 0, 0, 0, 0, 0, 0, 0, 0, 0, 0, 0, 0, 0, 0, 0, 0, 0, 0, 0, 0, 0, 0, 0, 0, 0, 0, 0, 0, 0, 0, 0, 0, 0, 0, 0, 0, 0, 0, 0, 0, 0, 0, 0, 0, 0, 0, 0, 0, 0, 0, 0, 0, 0, 0, 0, 0, 0, 0, 0, 0, 0, 0, 0, 0, 0, 0, 0, 0, 0, 0, 0, 0, 0, 0, 0, 0, 0, 0, 0, 0, 0, 0, 0, 0, 0, 0, 0, 0, 0, 0, 0, 0, 0, 0, 0, 0, 0, 0, 0, 0, 0, 0, 0, 0, 0, 0, 0, 0, 0, 0, 0, 0, 0, 0, 0, 0, 0, 0, 0, 0, 0, 0, 0, 0, 0, 0, 0, 0, 0, 0, 0, 0, 0, 0, 0, 0, 0, 0, 0, 0, 0, 0, 0, 0, 0, 0, 0, 0, 0, 0, 0, 0, 0, 0, 0, 0, 0, 0, 0, 0, 0, 0, 0, 0, 0, 0, 0, 0, 0, 0, 0, 0, 0, 0, 0, 0, 0, 0, 0, 0, 0, 0, 0, 0, 0, 0, 0, 0, 0, 0, 0, 0, 0, 0, 0, 0, 0, 0, 0, 0, 0, 0, 0, 0, 0, 0, 0, 0, 0, 0, 0, 0, 0, 0, 0, 0, 0, 0, 0, 0, 0, 0, 0, 0, 0, 0, 0, 0, 0, 0, 0, 0, 0, 0, 0, 0, 0, 0, 0, 0, 0, 0, 0, 0, 0, 0, 0, 0, 0, 0, 0, 0, 0, 0, 0, 0, 0, 0, 0, 0, 0, 0, 0, 0, 0, 0, 0, 0, 0, 0, 0, 0, 0, 0, 0, 0, 0, 0, 0, 0, 0, 0, 0, 0, 0, 0, 0, 0, 0, 0, 0, 0, 0, 0, 0, 0, 0, 0, 0, 0, 0, 0, 0, 0, 0, 0, 0, 0, 0, 0, 0, 0, 0, 0, 0, 0, 0, 0, 0, 0, 0, 0, 0, 0, 0, 0, 0, 0, 0, 0, 0, 0, 0, 0, 0, 0, 0, 0, 0, 0, 0, 0, 0, 0, 0, 0, 0, 0, 0, 0, 0, 0, 0, 0, 0, 0, 0, 0, 0, 0, 0, 0, 0, 0, 0, 0, 0, 0, 0, 0, 0, 0, 0, 0, 0, 0, 0, 0, 0, 0, 0, 0, 0, 0, 0, 0, 0, 0, 1, 0, 0, 0, 0, 0, 0, 0, 0, 0, 0, 0, 0, 0, 0, 0, 0, 0, 0, 0, 0, 0, 0, 0, 0, 0, 0, 0, 0, 0, 0, 0, 0, 0, 0, 0, 0, 0, 0, 0, 0, 0, 0, 0, 0, 0, 0, 0, 0, 0, 0, 0, 0, 0, 0, 0, 0, 0, 0, 0, 0, 0, 0, 0, 0, 0, 0, 0, 0, 0, 0, 0, 0, 0, 0, 0, 0, 0, 0, 0, 0, 0, 0, 0, 0, 0, 0, 0, 0, 0, 0, 0, 0, 0, 0, 0, 0, 0, 0, 0, 0, 0, 0, 0, 0, 0, 0, 0, 1, 0, 0, 0, 0, 0, 0, 0, 0, 0, 0, 0, 0, 0, 0, 0, 0, 0, 0, 0, 0, 0, 0, 0, 0, 0, 0, 0, 0, 0, 0, 0, 0, 0, 0, 0, 0, 0, 0, 0, 0, 0, 0, 0, 0, 0, 0, 0, 0, 0, 0, 0, 0, 0, 0, 0, 0, 0, 0, 0, 0, 0, 0, 0, 0, 0, 0, 0, 0, 0, 0, 0, 0, 0, 0, 0, 0, 0, 0, 0, 0, 0, 0, 0, 0, 0, 0, 0, 0, 0, 0, 0, 0, 0, 0, 0, 0, 0, 0, 0, 0, 0, 0, 0, 0, 0, 0, 0, 0, 0, 0, 0, 0, 0, 0, 0, 0, 0, 0, 0, 0, 0, 0, 0, 0, 0, 0, 0, 0, 0, 0, 0, 0, 0, 0, 0, 0, 0, 0, 0, 0, 0, 0, 0, 0, 0, 0, 0, 0, 0, 0, 0, 0, 0, 0, 0, 0, 0, 0, 0, 0, 0, 0, 0, 0, 0, 0, 0, 0, 0, 0, 0, 0, 0, 0, 0, 0, 0, 0, 0, 0, 0, 0, 0, 0, 0, 0, 0, 0, 0, 0, 0, 0, 0, 0, 0, 0, 0, 0, 0, 0, 0, 0, 0, 0, 0, 0, 0, 0, 0, 0, 0, 0, 0, 0, 0, 0, 0, 0, 0, 0, 0, 0, 0, 0, 0, 0, 0, 0, 0, 0, 0, 0, 0, 0, 0, 0, 0, 0, 0, 0, 0, 0, 0, 0, 0, 0, 0, 0, 0, 0, 0, 0, 0, 0, 0, 0, 0, 0, 0, 0, 0, 0, 0, 0, 0, 0, 0, 0, 0, 0, 0, 0, 0, 0, 0, 0, 0, 0, 0, 0, 0, 0, 0, 0, 0, 0, 0, 0, 0, 0, 0, 0, 0, 0, 0, 0, 0, 0, 0, 0, 0, 0, 0, 0, 0, 0, 0, 0, 0, 0, 0, 0, 0, 0, 0, 0, 0, 0, 0, 0, 0, 0, 0, 0, 0, 0, 0, 0, 0, 0, 0, 0, 0, 0, 0, 0, 0, 0, 0, 0, 0, 0, 0, 0, 0, 0, 0, 0, 0, 0, 0, 0, 0, 0, 0, 0, 0, 0, 0, 0, 0, 0, 0, 0, 0, 0, 0, 0, 0, 0, 0, 0, 0, 0, 0, 0, 0, 0, 0, 0, 0, 0, 0, 0, 0, 0, 0, 0, 0, 0, 0, 0, 0, 0, 0, 0, 0, 0, 0, 0, 0, 0, 0, 0, 0, 0, 0, 0, 0, 0, 0, 0, 0, 0, 0, 0, 0, 0, 0, 0, 0, 0, 0, 0, 0, 0, 0, 0, 0, 0, 0, 0, 0, 0, 0, 0, 0, 0, 0, 0, 0, 0, 0, 0, 0, 0, 0, 0, 0, 0, 0, 0, 0, 0, 0, 0, 0, 0, 0, 0, 0, 0, 0, 2, 0, 1, 0], type: <class 'list'>, valid types: <class 'bytes'>, <class 'bytearray'>, file-like object",
     "output_type": "error",
     "traceback": [
      "\u001b[0;31m---------------------------------------------------------------------------\u001b[0m",
      "\u001b[0;31mParamValidationError\u001b[0m                      Traceback (most recent call last)",
      "\u001b[0;32m<ipython-input-42-c9ab54ae3a48>\u001b[0m in \u001b[0;36m<module>\u001b[0;34m()\u001b[0m\n\u001b[1;32m      1\u001b[0m response = runtime.invoke_endpoint(EndpointName = xgb_predictor.endpoint, # The name of the endpoint we created\n\u001b[1;32m      2\u001b[0m                                        \u001b[0mContentType\u001b[0m \u001b[0;34m=\u001b[0m \u001b[0;34m'text/csv'\u001b[0m\u001b[0;34m,\u001b[0m                     \u001b[0;31m# The data format that is expected\u001b[0m\u001b[0;34m\u001b[0m\u001b[0m\n\u001b[0;32m----> 3\u001b[0;31m                                        Body = test_bow)\n\u001b[0m",
      "\u001b[0;32m~/anaconda3/envs/python3/lib/python3.6/site-packages/botocore/client.py\u001b[0m in \u001b[0;36m_api_call\u001b[0;34m(self, *args, **kwargs)\u001b[0m\n\u001b[1;32m    314\u001b[0m                     \"%s() only accepts keyword arguments.\" % py_operation_name)\n\u001b[1;32m    315\u001b[0m             \u001b[0;31m# The \"self\" in this scope is referring to the BaseClient.\u001b[0m\u001b[0;34m\u001b[0m\u001b[0;34m\u001b[0m\u001b[0m\n\u001b[0;32m--> 316\u001b[0;31m             \u001b[0;32mreturn\u001b[0m \u001b[0mself\u001b[0m\u001b[0;34m.\u001b[0m\u001b[0m_make_api_call\u001b[0m\u001b[0;34m(\u001b[0m\u001b[0moperation_name\u001b[0m\u001b[0;34m,\u001b[0m \u001b[0mkwargs\u001b[0m\u001b[0;34m)\u001b[0m\u001b[0;34m\u001b[0m\u001b[0m\n\u001b[0m\u001b[1;32m    317\u001b[0m \u001b[0;34m\u001b[0m\u001b[0m\n\u001b[1;32m    318\u001b[0m         \u001b[0m_api_call\u001b[0m\u001b[0;34m.\u001b[0m\u001b[0m__name__\u001b[0m \u001b[0;34m=\u001b[0m \u001b[0mstr\u001b[0m\u001b[0;34m(\u001b[0m\u001b[0mpy_operation_name\u001b[0m\u001b[0;34m)\u001b[0m\u001b[0;34m\u001b[0m\u001b[0m\n",
      "\u001b[0;32m~/anaconda3/envs/python3/lib/python3.6/site-packages/botocore/client.py\u001b[0m in \u001b[0;36m_make_api_call\u001b[0;34m(self, operation_name, api_params)\u001b[0m\n\u001b[1;32m    597\u001b[0m         }\n\u001b[1;32m    598\u001b[0m         request_dict = self._convert_to_request_dict(\n\u001b[0;32m--> 599\u001b[0;31m             api_params, operation_model, context=request_context)\n\u001b[0m\u001b[1;32m    600\u001b[0m \u001b[0;34m\u001b[0m\u001b[0m\n\u001b[1;32m    601\u001b[0m         \u001b[0mservice_id\u001b[0m \u001b[0;34m=\u001b[0m \u001b[0mself\u001b[0m\u001b[0;34m.\u001b[0m\u001b[0m_service_model\u001b[0m\u001b[0;34m.\u001b[0m\u001b[0mservice_id\u001b[0m\u001b[0;34m.\u001b[0m\u001b[0mhyphenize\u001b[0m\u001b[0;34m(\u001b[0m\u001b[0;34m)\u001b[0m\u001b[0;34m\u001b[0m\u001b[0m\n",
      "\u001b[0;32m~/anaconda3/envs/python3/lib/python3.6/site-packages/botocore/client.py\u001b[0m in \u001b[0;36m_convert_to_request_dict\u001b[0;34m(self, api_params, operation_model, context)\u001b[0m\n\u001b[1;32m    645\u001b[0m             api_params, operation_model, context)\n\u001b[1;32m    646\u001b[0m         request_dict = self._serializer.serialize_to_request(\n\u001b[0;32m--> 647\u001b[0;31m             api_params, operation_model)\n\u001b[0m\u001b[1;32m    648\u001b[0m         \u001b[0;32mif\u001b[0m \u001b[0;32mnot\u001b[0m \u001b[0mself\u001b[0m\u001b[0;34m.\u001b[0m\u001b[0m_client_config\u001b[0m\u001b[0;34m.\u001b[0m\u001b[0minject_host_prefix\u001b[0m\u001b[0;34m:\u001b[0m\u001b[0;34m\u001b[0m\u001b[0m\n\u001b[1;32m    649\u001b[0m             \u001b[0mrequest_dict\u001b[0m\u001b[0;34m.\u001b[0m\u001b[0mpop\u001b[0m\u001b[0;34m(\u001b[0m\u001b[0;34m'host_prefix'\u001b[0m\u001b[0;34m,\u001b[0m \u001b[0;32mNone\u001b[0m\u001b[0;34m)\u001b[0m\u001b[0;34m\u001b[0m\u001b[0m\n",
      "\u001b[0;32m~/anaconda3/envs/python3/lib/python3.6/site-packages/botocore/validate.py\u001b[0m in \u001b[0;36mserialize_to_request\u001b[0;34m(self, parameters, operation_model)\u001b[0m\n\u001b[1;32m    295\u001b[0m                                                     operation_model.input_shape)\n\u001b[1;32m    296\u001b[0m             \u001b[0;32mif\u001b[0m \u001b[0mreport\u001b[0m\u001b[0;34m.\u001b[0m\u001b[0mhas_errors\u001b[0m\u001b[0;34m(\u001b[0m\u001b[0;34m)\u001b[0m\u001b[0;34m:\u001b[0m\u001b[0;34m\u001b[0m\u001b[0m\n\u001b[0;32m--> 297\u001b[0;31m                 \u001b[0;32mraise\u001b[0m \u001b[0mParamValidationError\u001b[0m\u001b[0;34m(\u001b[0m\u001b[0mreport\u001b[0m\u001b[0;34m=\u001b[0m\u001b[0mreport\u001b[0m\u001b[0;34m.\u001b[0m\u001b[0mgenerate_report\u001b[0m\u001b[0;34m(\u001b[0m\u001b[0;34m)\u001b[0m\u001b[0;34m)\u001b[0m\u001b[0;34m\u001b[0m\u001b[0m\n\u001b[0m\u001b[1;32m    298\u001b[0m         return self._serializer.serialize_to_request(parameters,\n\u001b[1;32m    299\u001b[0m                                                      operation_model)\n",
      "\u001b[0;31mParamValidationError\u001b[0m: Parameter validation failed:\nInvalid type for parameter Body, value: [0, 0, 0, 0, 0, 0, 0, 0, 0, 0, 0, 0, 0, 0, 0, 0, 0, 0, 0, 0, 0, 0, 0, 0, 0, 0, 0, 0, 0, 0, 0, 0, 0, 0, 0, 0, 0, 0, 0, 0, 0, 0, 0, 0, 0, 0, 0, 0, 0, 0, 0, 0, 0, 0, 0, 0, 0, 0, 0, 0, 0, 0, 0, 0, 0, 0, 0, 0, 0, 0, 0, 0, 0, 0, 0, 0, 0, 0, 0, 0, 0, 0, 0, 0, 0, 0, 0, 0, 0, 0, 0, 0, 0, 0, 0, 0, 0, 0, 0, 0, 0, 0, 0, 0, 0, 0, 0, 0, 0, 0, 0, 0, 0, 0, 0, 0, 0, 0, 0, 0, 0, 0, 0, 0, 0, 0, 0, 0, 0, 0, 0, 0, 0, 0, 0, 0, 0, 0, 0, 0, 0, 0, 0, 0, 0, 0, 0, 0, 0, 0, 0, 0, 0, 0, 0, 0, 0, 0, 0, 0, 0, 0, 0, 0, 0, 0, 0, 0, 0, 0, 0, 0, 0, 0, 0, 0, 0, 0, 0, 0, 0, 0, 0, 0, 0, 0, 0, 0, 0, 0, 0, 0, 0, 0, 0, 0, 0, 0, 0, 0, 0, 0, 0, 0, 0, 0, 0, 0, 0, 0, 0, 0, 0, 0, 0, 0, 0, 0, 0, 0, 0, 0, 0, 0, 0, 0, 1, 0, 0, 0, 0, 0, 0, 0, 0, 0, 0, 0, 0, 0, 0, 0, 0, 0, 0, 0, 0, 0, 0, 0, 0, 0, 0, 0, 0, 0, 1, 0, 0, 0, 0, 0, 0, 0, 0, 0, 0, 0, 0, 0, 0, 0, 0, 0, 0, 0, 0, 0, 0, 0, 0, 0, 0, 0, 0, 0, 0, 0, 0, 0, 0, 0, 0, 0, 0, 0, 0, 0, 0, 0, 0, 0, 0, 0, 0, 0, 0, 0, 0, 0, 0, 0, 0, 0, 0, 0, 0, 0, 0, 0, 0, 0, 0, 0, 0, 0, 0, 0, 0, 0, 0, 0, 0, 0, 0, 0, 0, 0, 0, 0, 0, 0, 0, 0, 0, 0, 0, 0, 0, 0, 0, 0, 0, 0, 0, 0, 0, 0, 0, 0, 0, 0, 0, 0, 0, 0, 0, 0, 0, 0, 0, 0, 0, 0, 0, 0, 0, 0, 0, 0, 0, 0, 0, 0, 0, 0, 0, 0, 0, 0, 0, 0, 0, 0, 0, 0, 0, 0, 0, 0, 0, 0, 0, 0, 0, 0, 0, 0, 0, 0, 0, 0, 0, 0, 0, 0, 0, 0, 0, 0, 0, 0, 0, 0, 0, 0, 0, 0, 0, 0, 0, 0, 0, 0, 0, 0, 0, 0, 0, 0, 0, 0, 0, 0, 0, 0, 0, 0, 0, 0, 0, 0, 0, 0, 0, 0, 0, 0, 0, 0, 0, 0, 0, 0, 0, 0, 0, 0, 0, 0, 0, 0, 0, 0, 0, 0, 0, 0, 0, 0, 0, 0, 0, 0, 0, 0, 0, 0, 0, 0, 0, 0, 0, 0, 0, 0, 0, 0, 0, 0, 0, 0, 0, 0, 0, 0, 0, 0, 0, 0, 0, 0, 0, 0, 0, 0, 0, 0, 0, 0, 0, 0, 0, 0, 0, 0, 0, 0, 0, 0, 0, 0, 0, 0, 0, 0, 0, 0, 0, 0, 0, 0, 0, 0, 0, 0, 0, 0, 0, 0, 0, 0, 0, 0, 0, 0, 0, 0, 0, 0, 0, 0, 0, 0, 0, 0, 0, 0, 0, 0, 0, 0, 0, 0, 0, 0, 0, 0, 0, 0, 0, 0, 0, 0, 0, 0, 0, 0, 0, 0, 0, 0, 0, 0, 0, 0, 0, 0, 0, 0, 0, 0, 0, 0, 0, 0, 0, 0, 0, 0, 0, 0, 0, 0, 0, 0, 0, 0, 0, 0, 0, 0, 0, 0, 0, 0, 0, 0, 0, 0, 0, 0, 0, 0, 0, 0, 1, 0, 0, 0, 0, 0, 0, 0, 0, 0, 0, 0, 0, 0, 0, 0, 0, 0, 0, 0, 0, 0, 0, 0, 0, 0, 0, 0, 0, 0, 0, 0, 0, 0, 0, 0, 0, 0, 0, 0, 0, 0, 0, 0, 0, 0, 0, 0, 0, 0, 0, 0, 0, 0, 0, 0, 0, 0, 0, 0, 0, 0, 0, 0, 0, 0, 0, 0, 0, 0, 0, 0, 0, 0, 0, 0, 0, 0, 0, 0, 0, 0, 0, 0, 0, 0, 0, 0, 0, 0, 0, 0, 0, 0, 0, 0, 0, 0, 0, 0, 0, 0, 0, 0, 0, 0, 0, 0, 0, 0, 0, 0, 0, 0, 0, 0, 0, 0, 0, 0, 0, 0, 0, 0, 0, 0, 0, 0, 0, 0, 0, 0, 0, 0, 0, 0, 0, 0, 0, 0, 0, 0, 0, 0, 0, 0, 0, 0, 0, 0, 0, 0, 0, 0, 0, 0, 0, 0, 0, 0, 0, 0, 0, 0, 0, 0, 0, 0, 0, 0, 0, 0, 0, 0, 0, 0, 0, 0, 0, 0, 0, 0, 0, 0, 0, 0, 0, 0, 0, 0, 0, 0, 0, 0, 0, 0, 0, 0, 0, 0, 0, 0, 0, 0, 0, 0, 0, 0, 0, 0, 0, 0, 0, 0, 0, 0, 0, 0, 0, 0, 0, 0, 0, 0, 0, 0, 0, 0, 0, 0, 0, 0, 0, 0, 0, 0, 0, 0, 0, 0, 0, 0, 0, 0, 0, 0, 0, 0, 0, 0, 0, 0, 0, 0, 1, 0, 0, 0, 0, 0, 0, 0, 0, 0, 0, 0, 0, 0, 0, 0, 0, 0, 0, 0, 0, 0, 0, 0, 0, 0, 0, 0, 0, 0, 0, 0, 0, 0, 0, 0, 0, 0, 0, 0, 0, 0, 0, 0, 0, 0, 0, 0, 0, 0, 0, 0, 0, 0, 0, 0, 0, 0, 0, 0, 0, 0, 0, 0, 0, 0, 0, 0, 0, 0, 0, 0, 0, 0, 0, 0, 0, 0, 0, 0, 0, 0, 0, 0, 0, 0, 0, 1, 0, 0, 0, 0, 0, 0, 0, 0, 0, 0, 0, 0, 0, 0, 0, 0, 0, 0, 0, 0, 0, 0, 0, 0, 0, 0, 0, 0, 0, 0, 0, 0, 0, 0, 0, 0, 0, 0, 0, 0, 0, 0, 0, 0, 0, 0, 0, 0, 0, 0, 0, 0, 0, 0, 0, 0, 0, 0, 0, 0, 0, 0, 0, 0, 0, 0, 0, 0, 0, 0, 0, 0, 0, 0, 0, 0, 0, 0, 0, 0, 0, 0, 0, 0, 0, 0, 0, 0, 0, 0, 0, 0, 0, 0, 0, 0, 0, 0, 0, 0, 0, 0, 0, 0, 0, 0, 0, 0, 0, 0, 0, 0, 0, 0, 0, 0, 0, 0, 0, 0, 0, 0, 0, 0, 0, 0, 0, 0, 0, 0, 0, 0, 0, 0, 0, 0, 0, 0, 0, 0, 0, 0, 0, 0, 0, 0, 0, 0, 0, 0, 0, 0, 0, 0, 0, 0, 0, 0, 0, 0, 0, 0, 0, 0, 0, 0, 0, 0, 0, 0, 0, 0, 0, 0, 0, 0, 0, 0, 0, 0, 0, 0, 0, 0, 0, 0, 0, 0, 0, 0, 0, 0, 0, 0, 0, 0, 0, 0, 0, 0, 0, 0, 0, 0, 0, 0, 0, 0, 0, 0, 0, 0, 0, 0, 0, 0, 0, 0, 0, 0, 0, 0, 0, 0, 0, 0, 0, 0, 0, 0, 0, 0, 0, 0, 0, 0, 0, 0, 0, 0, 0, 0, 0, 0, 0, 0, 0, 0, 0, 0, 0, 0, 1, 0, 0, 0, 0, 0, 0, 0, 0, 0, 0, 0, 0, 0, 0, 0, 0, 0, 0, 0, 0, 0, 0, 0, 0, 0, 0, 0, 0, 0, 0, 0, 0, 0, 0, 0, 0, 0, 0, 0, 0, 0, 0, 0, 0, 0, 0, 0, 0, 0, 0, 0, 0, 0, 0, 0, 1, 0, 0, 0, 0, 0, 0, 0, 0, 0, 0, 0, 0, 0, 0, 0, 0, 0, 0, 0, 0, 0, 0, 0, 0, 0, 0, 0, 0, 0, 0, 0, 0, 0, 0, 0, 0, 0, 0, 0, 0, 0, 0, 0, 0, 0, 0, 0, 0, 0, 0, 0, 0, 0, 0, 0, 0, 0, 0, 0, 0, 0, 0, 0, 0, 0, 0, 0, 0, 0, 0, 0, 0, 0, 0, 0, 0, 0, 0, 0, 0, 0, 0, 0, 0, 0, 0, 0, 0, 0, 0, 0, 0, 0, 0, 0, 0, 0, 0, 0, 0, 0, 0, 0, 0, 0, 0, 0, 0, 0, 0, 0, 0, 0, 0, 0, 0, 0, 0, 0, 0, 0, 0, 0, 0, 0, 0, 0, 0, 0, 0, 0, 0, 0, 0, 0, 0, 0, 0, 0, 0, 0, 0, 0, 0, 0, 0, 0, 0, 0, 0, 0, 0, 0, 0, 0, 0, 0, 0, 0, 0, 0, 0, 0, 0, 0, 0, 0, 0, 0, 0, 0, 0, 0, 0, 0, 0, 0, 0, 0, 0, 0, 0, 0, 0, 0, 0, 0, 0, 0, 0, 0, 0, 0, 0, 0, 0, 0, 0, 0, 0, 0, 0, 0, 0, 0, 0, 0, 0, 0, 0, 0, 0, 0, 0, 0, 0, 0, 0, 0, 0, 0, 0, 0, 0, 0, 0, 0, 0, 0, 0, 0, 0, 0, 0, 0, 0, 0, 0, 0, 0, 0, 0, 0, 0, 0, 0, 0, 0, 0, 0, 0, 0, 0, 0, 0, 0, 0, 0, 0, 0, 0, 0, 0, 0, 0, 0, 0, 0, 0, 0, 0, 0, 0, 0, 0, 0, 0, 0, 0, 0, 0, 0, 0, 0, 0, 0, 0, 0, 0, 0, 0, 0, 0, 0, 0, 0, 0, 0, 0, 0, 0, 0, 0, 0, 0, 0, 0, 0, 0, 0, 0, 0, 0, 0, 0, 0, 0, 0, 0, 0, 0, 0, 0, 0, 0, 0, 0, 0, 0, 0, 0, 0, 0, 0, 0, 0, 0, 0, 0, 0, 0, 0, 0, 0, 0, 0, 0, 0, 0, 0, 0, 0, 0, 0, 0, 0, 0, 0, 0, 0, 0, 0, 0, 0, 0, 0, 0, 0, 0, 0, 0, 0, 0, 0, 0, 0, 0, 0, 0, 0, 0, 0, 0, 0, 0, 0, 0, 0, 0, 0, 0, 0, 0, 0, 0, 0, 0, 0, 0, 0, 0, 0, 0, 0, 0, 0, 0, 0, 0, 0, 0, 0, 0, 0, 0, 0, 0, 0, 0, 0, 0, 0, 0, 0, 0, 0, 0, 0, 0, 0, 0, 0, 0, 0, 0, 0, 0, 0, 0, 0, 0, 0, 0, 0, 0, 0, 0, 0, 0, 0, 0, 0, 0, 0, 0, 0, 0, 0, 0, 0, 0, 0, 0, 0, 0, 0, 0, 0, 0, 0, 0, 0, 0, 0, 0, 0, 0, 0, 0, 0, 0, 0, 0, 0, 0, 0, 0, 0, 0, 0, 0, 0, 0, 0, 0, 0, 0, 0, 0, 0, 0, 0, 0, 0, 0, 0, 0, 0, 0, 0, 0, 0, 0, 0, 0, 0, 0, 0, 0, 0, 0, 0, 0, 0, 0, 0, 0, 0, 0, 0, 0, 0, 0, 0, 0, 0, 0, 0, 0, 0, 0, 0, 0, 0, 0, 0, 0, 0, 0, 0, 0, 0, 0, 0, 0, 0, 0, 0, 0, 0, 0, 0, 0, 0, 0, 0, 0, 0, 0, 0, 0, 0, 0, 0, 0, 0, 0, 0, 0, 0, 0, 0, 0, 0, 0, 0, 0, 0, 0, 0, 0, 0, 0, 0, 0, 0, 0, 0, 0, 0, 0, 0, 0, 0, 0, 0, 0, 0, 0, 0, 0, 0, 0, 0, 0, 0, 0, 0, 0, 0, 0, 0, 0, 0, 0, 0, 0, 0, 0, 0, 0, 0, 0, 0, 0, 0, 0, 0, 0, 0, 0, 0, 0, 0, 0, 0, 0, 0, 0, 0, 0, 0, 0, 0, 0, 0, 0, 0, 0, 0, 0, 0, 0, 0, 0, 0, 0, 0, 0, 0, 0, 0, 0, 0, 0, 0, 0, 0, 0, 0, 0, 1, 0, 0, 0, 0, 0, 0, 0, 0, 0, 0, 0, 0, 0, 0, 0, 0, 0, 0, 0, 0, 0, 0, 0, 0, 0, 0, 0, 0, 0, 0, 0, 0, 0, 0, 0, 0, 0, 0, 0, 0, 0, 0, 0, 0, 0, 0, 0, 0, 0, 0, 0, 0, 0, 0, 0, 0, 0, 0, 0, 0, 0, 0, 0, 0, 0, 0, 0, 0, 0, 0, 0, 0, 0, 0, 1, 0, 0, 0, 0, 0, 0, 0, 0, 0, 0, 0, 0, 0, 0, 0, 0, 0, 0, 0, 0, 1, 0, 0, 1, 0, 0, 0, 0, 0, 0, 0, 0, 0, 0, 0, 0, 0, 0, 0, 0, 0, 0, 0, 0, 0, 0, 0, 0, 0, 0, 0, 0, 0, 0, 0, 0, 0, 0, 0, 0, 0, 0, 0, 0, 0, 0, 0, 0, 0, 0, 0, 0, 0, 0, 0, 0, 0, 0, 0, 0, 0, 0, 0, 0, 0, 0, 0, 0, 0, 0, 0, 0, 0, 0, 0, 0, 0, 0, 0, 0, 0, 0, 0, 0, 0, 0, 0, 0, 0, 0, 0, 0, 0, 0, 0, 0, 0, 0, 0, 0, 0, 0, 0, 0, 0, 0, 0, 0, 0, 0, 0, 0, 0, 0, 0, 0, 0, 0, 0, 0, 0, 0, 0, 0, 0, 0, 0, 0, 0, 0, 0, 0, 0, 0, 0, 0, 0, 0, 0, 0, 0, 0, 0, 0, 0, 0, 0, 0, 0, 0, 0, 0, 0, 0, 0, 0, 0, 0, 0, 0, 0, 0, 0, 0, 0, 0, 0, 0, 0, 0, 0, 0, 0, 0, 0, 0, 0, 0, 0, 0, 0, 0, 0, 0, 0, 0, 0, 0, 0, 0, 0, 0, 0, 0, 0, 0, 0, 0, 0, 0, 0, 0, 0, 0, 0, 0, 0, 0, 0, 0, 0, 0, 0, 0, 0, 0, 0, 0, 0, 0, 0, 0, 0, 0, 0, 0, 0, 0, 0, 0, 0, 0, 0, 0, 0, 0, 0, 0, 0, 0, 0, 0, 0, 0, 0, 0, 0, 0, 0, 0, 0, 0, 0, 0, 0, 0, 0, 0, 0, 0, 0, 0, 0, 0, 0, 0, 0, 0, 0, 0, 0, 0, 0, 0, 0, 0, 0, 0, 0, 0, 0, 0, 0, 0, 0, 0, 0, 0, 0, 0, 0, 0, 0, 0, 0, 0, 0, 0, 0, 0, 0, 0, 0, 0, 0, 0, 0, 0, 0, 0, 0, 0, 0, 0, 0, 0, 0, 0, 0, 0, 0, 0, 0, 0, 0, 0, 0, 0, 0, 0, 0, 0, 0, 0, 0, 0, 0, 0, 0, 0, 0, 0, 0, 0, 0, 0, 0, 0, 0, 0, 0, 0, 0, 0, 0, 0, 0, 0, 0, 0, 0, 0, 0, 0, 0, 0, 0, 0, 0, 0, 0, 0, 0, 0, 0, 0, 0, 0, 0, 0, 0, 0, 0, 0, 0, 0, 0, 0, 0, 0, 0, 0, 0, 0, 0, 0, 0, 0, 0, 0, 0, 0, 0, 0, 0, 0, 0, 0, 0, 0, 0, 0, 0, 0, 0, 0, 0, 0, 0, 0, 0, 0, 0, 0, 0, 0, 0, 0, 0, 0, 0, 0, 0, 0, 0, 0, 0, 0, 0, 0, 0, 0, 0, 0, 0, 0, 0, 0, 0, 0, 0, 0, 0, 0, 0, 0, 0, 0, 0, 0, 0, 0, 0, 0, 0, 0, 0, 0, 0, 0, 1, 0, 0, 0, 0, 0, 0, 0, 0, 0, 0, 0, 0, 0, 0, 0, 0, 0, 0, 0, 0, 0, 0, 0, 0, 0, 0, 0, 0, 0, 0, 0, 0, 0, 0, 0, 0, 0, 0, 0, 0, 0, 0, 0, 0, 0, 0, 0, 0, 0, 0, 0, 0, 0, 0, 0, 0, 0, 0, 0, 0, 0, 0, 0, 0, 0, 0, 0, 0, 0, 0, 0, 0, 0, 0, 0, 0, 0, 0, 0, 0, 0, 0, 0, 0, 0, 0, 0, 0, 0, 0, 0, 0, 0, 0, 0, 0, 0, 0, 0, 0, 0, 0, 0, 0, 0, 0, 0, 0, 0, 0, 0, 0, 0, 0, 0, 0, 0, 0, 0, 0, 0, 0, 0, 0, 0, 0, 0, 0, 0, 0, 0, 0, 0, 0, 0, 0, 0, 0, 0, 0, 0, 0, 0, 0, 0, 0, 0, 0, 0, 0, 0, 0, 0, 0, 0, 0, 0, 0, 0, 0, 0, 0, 0, 0, 0, 0, 0, 0, 0, 0, 0, 0, 0, 0, 0, 0, 0, 0, 0, 0, 0, 0, 0, 0, 0, 0, 0, 0, 0, 0, 0, 0, 0, 0, 0, 0, 0, 0, 0, 0, 0, 0, 0, 0, 0, 0, 0, 0, 0, 0, 0, 0, 0, 0, 0, 0, 0, 0, 0, 0, 0, 0, 0, 0, 0, 0, 0, 0, 0, 0, 0, 0, 0, 0, 0, 0, 0, 0, 0, 0, 0, 0, 0, 0, 0, 0, 0, 0, 0, 0, 0, 0, 0, 0, 0, 0, 0, 0, 0, 0, 0, 0, 0, 0, 0, 0, 0, 0, 0, 0, 0, 0, 0, 0, 0, 0, 0, 0, 0, 0, 0, 0, 0, 0, 0, 0, 0, 0, 0, 0, 0, 0, 0, 0, 0, 0, 0, 0, 0, 0, 0, 0, 0, 0, 0, 0, 0, 0, 0, 0, 0, 0, 0, 0, 0, 0, 0, 0, 0, 0, 0, 0, 0, 0, 0, 0, 0, 0, 0, 0, 0, 0, 0, 0, 0, 0, 0, 0, 0, 0, 0, 0, 0, 0, 0, 0, 0, 0, 0, 0, 0, 0, 0, 0, 0, 0, 0, 0, 0, 0, 0, 0, 0, 0, 0, 0, 0, 0, 0, 0, 0, 0, 0, 0, 0, 0, 0, 0, 0, 0, 0, 0, 0, 0, 0, 0, 0, 0, 0, 0, 0, 0, 0, 0, 0, 0, 0, 0, 0, 0, 0, 0, 0, 0, 0, 0, 0, 0, 0, 0, 0, 0, 0, 0, 0, 0, 0, 0, 0, 0, 0, 0, 0, 0, 0, 0, 0, 0, 0, 0, 0, 0, 0, 0, 0, 0, 0, 0, 0, 0, 0, 0, 0, 0, 0, 0, 0, 0, 0, 0, 0, 0, 0, 0, 0, 0, 0, 0, 0, 0, 0, 0, 0, 0, 0, 0, 0, 0, 0, 0, 0, 0, 0, 0, 0, 0, 0, 0, 0, 0, 0, 0, 0, 0, 0, 0, 0, 0, 0, 0, 0, 0, 0, 0, 0, 0, 0, 0, 0, 0, 0, 0, 0, 0, 0, 0, 0, 0, 0, 0, 0, 0, 1, 0, 0, 0, 0, 0, 0, 0, 0, 0, 0, 0, 0, 0, 0, 0, 0, 0, 0, 0, 0, 0, 0, 0, 0, 0, 0, 0, 0, 0, 0, 0, 0, 0, 0, 0, 2, 0, 0, 0, 0, 0, 0, 0, 0, 0, 0, 0, 0, 0, 0, 0, 0, 0, 0, 0, 0, 0, 0, 0, 0, 0, 0, 0, 0, 0, 0, 0, 0, 0, 0, 0, 0, 0, 0, 0, 0, 1, 0, 0, 0, 0, 0, 0, 0, 0, 0, 0, 0, 0, 0, 0, 0, 0, 0, 0, 0, 0, 0, 0, 0, 0, 0, 0, 0, 0, 0, 0, 0, 0, 0, 0, 0, 0, 0, 0, 0, 0, 0, 0, 0, 0, 0, 0, 0, 0, 0, 0, 0, 0, 0, 0, 0, 0, 0, 0, 0, 0, 0, 0, 0, 0, 0, 0, 0, 0, 0, 0, 0, 0, 0, 0, 0, 0, 0, 0, 0, 0, 0, 0, 0, 0, 0, 0, 0, 0, 0, 0, 0, 0, 0, 0, 0, 0, 0, 0, 0, 0, 0, 0, 0, 0, 0, 0, 0, 0, 0, 0, 0, 0, 0, 0, 0, 0, 0, 0, 0, 0, 0, 0, 0, 0, 0, 0, 0, 0, 0, 0, 0, 0, 0, 0, 0, 0, 0, 0, 0, 0, 0, 0, 0, 0, 0, 0, 0, 0, 0, 0, 0, 0, 0, 0, 0, 0, 0, 0, 0, 0, 0, 0, 0, 0, 0, 0, 0, 0, 0, 0, 0, 0, 0, 0, 0, 0, 0, 0, 0, 0, 0, 0, 0, 0, 0, 0, 0, 0, 0, 0, 0, 0, 0, 0, 0, 0, 0, 0, 0, 0, 0, 0, 0, 0, 0, 0, 0, 0, 0, 0, 0, 0, 0, 0, 0, 0, 0, 0, 0, 0, 0, 0, 0, 0, 0, 0, 0, 0, 0, 0, 0, 0, 0, 0, 0, 0, 0, 0, 0, 0, 0, 0, 0, 0, 0, 0, 0, 0, 0, 0, 0, 0, 0, 0, 0, 0, 0, 0, 0, 0, 0, 0, 0, 0, 0, 0, 0, 0, 0, 0, 0, 0, 0, 0, 0, 0, 0, 0, 0, 0, 0, 0, 0, 0, 0, 0, 0, 0, 0, 0, 0, 0, 0, 0, 0, 0, 0, 0, 0, 0, 0, 0, 0, 0, 0, 0, 0, 0, 0, 0, 0, 0, 0, 0, 0, 0, 0, 0, 0, 0, 0, 0, 0, 0, 0, 0, 0, 0, 0, 0, 0, 0, 0, 0, 0, 0, 0, 0, 0, 0, 0, 0, 0, 0, 0, 0, 0, 0, 0, 0, 0, 0, 0, 0, 0, 0, 0, 0, 0, 0, 0, 0, 0, 0, 0, 0, 0, 0, 0, 0, 0, 0, 0, 0, 0, 0, 0, 0, 0, 0, 0, 0, 0, 0, 0, 0, 0, 0, 0, 0, 0, 0, 0, 0, 0, 0, 0, 0, 0, 0, 0, 0, 0, 0, 0, 0, 0, 0, 0, 0, 0, 0, 0, 0, 0, 0, 0, 0, 0, 0, 0, 0, 0, 0, 0, 0, 0, 0, 0, 0, 0, 0, 0, 0, 0, 0, 0, 0, 0, 0, 0, 0, 0, 0, 0, 0, 0, 0, 0, 0, 0, 0, 0, 0, 0, 0, 0, 0, 0, 0, 0, 0, 0, 0, 0, 0, 0, 0, 0, 0, 0, 0, 0, 0, 0, 0, 0, 0, 0, 0, 0, 0, 0, 0, 0, 0, 0, 0, 0, 0, 0, 0, 0, 0, 0, 0, 0, 1, 0, 0, 0, 0, 0, 0, 0, 0, 0, 0, 0, 0, 0, 0, 0, 0, 0, 0, 0, 0, 0, 0, 0, 0, 0, 0, 0, 0, 0, 0, 0, 0, 0, 0, 0, 0, 0, 0, 0, 0, 0, 0, 0, 0, 0, 0, 0, 0, 0, 0, 0, 0, 0, 0, 0, 0, 0, 0, 0, 0, 0, 0, 0, 0, 0, 0, 0, 0, 0, 0, 0, 0, 0, 0, 0, 0, 0, 0, 0, 0, 0, 0, 0, 0, 0, 0, 0, 0, 0, 0, 0, 0, 0, 0, 0, 0, 0, 0, 0, 0, 0, 0, 0, 0, 0, 0, 0, 0, 0, 0, 2, 0, 0, 0, 0, 0, 0, 0, 0, 0, 0, 0, 0, 0, 0, 0, 0, 0, 0, 0, 0, 0, 0, 0, 0, 0, 0, 0, 0, 0, 0, 0, 0, 0, 0, 0, 0, 0, 0, 0, 0, 0, 0, 0, 0, 0, 0, 0, 0, 0, 0, 0, 0, 0, 0, 0, 0, 0, 0, 0, 0, 0, 0, 0, 0, 0, 0, 0, 0, 0, 0, 0, 0, 0, 0, 0, 0, 0, 0, 0, 0, 0, 0, 0, 0, 0, 0, 0, 0, 0, 0, 0, 0, 0, 0, 0, 0, 0, 0, 0, 0, 0, 0, 0, 0, 0, 0, 0, 0, 0, 0, 0, 0, 0, 0, 0, 0, 0, 0, 0, 0, 0, 0, 0, 0, 0, 0, 0, 0, 0, 0, 0, 0, 0, 0, 0, 0, 0, 0, 0, 0, 0, 0, 0, 0, 0, 0, 0, 0, 0, 0, 0, 0, 0, 0, 0, 0, 0, 0, 0, 0, 0, 0, 0, 0, 0, 0, 0, 0, 0, 0, 0, 0, 0, 0, 0, 0, 0, 0, 0, 0, 0, 0, 0, 0, 0, 0, 0, 0, 0, 0, 0, 0, 0, 0, 0, 0, 0, 0, 0, 0, 0, 0, 0, 0, 0, 0, 0, 0, 0, 0, 0, 0, 0, 0, 0, 0, 0, 0, 0, 0, 0, 0, 0, 0, 0, 0, 0, 0, 0, 0, 0, 0, 0, 0, 0, 0, 0, 0, 0, 0, 0, 0, 0, 0, 0, 0, 0, 0, 0, 0, 0, 0, 0, 0, 0, 0, 0, 0, 0, 0, 0, 0, 0, 0, 0, 0, 0, 0, 0, 0, 0, 0, 0, 0, 0, 0, 0, 0, 0, 0, 0, 0, 0, 0, 0, 0, 0, 0, 0, 0, 0, 0, 0, 0, 0, 0, 0, 0, 0, 0, 0, 0, 0, 0, 0, 0, 0, 0, 0, 0, 0, 0, 0, 0, 0, 0, 0, 0, 0, 0, 0, 0, 0, 0, 0, 0, 0, 0, 0, 0, 0, 0, 0, 0, 0, 0, 0, 0, 0, 0, 0, 0, 0, 0, 0, 0, 0, 0, 0, 0, 0, 0, 0, 0, 0, 0, 0, 0, 0, 0, 0, 0, 0, 0, 0, 0, 0, 0, 0, 0, 0, 0, 0, 0, 0, 0, 0, 0, 0, 0, 0, 0, 0, 0, 0, 0, 0, 0, 0, 0, 0, 0, 0, 0, 0, 0, 0, 0, 0, 0, 0, 0, 0, 0, 0, 0, 0, 0, 0, 0, 0, 0, 0, 0, 0, 0, 0, 0, 0, 0, 0, 0, 0, 0, 0, 0, 0, 0, 0, 0, 0, 0, 0, 0, 0, 0, 0, 0, 0, 0, 0, 0, 0, 0, 0, 0, 0, 0, 0, 0, 0, 0, 0, 0, 0, 0, 0, 0, 0, 0, 0, 0, 0, 0, 0, 0, 0, 0, 0, 0, 0, 0, 0, 0, 0, 0, 0, 0, 0, 0, 0, 0, 0, 0, 0, 0, 0, 0, 0, 0, 0, 0, 0, 0, 0, 0, 0, 0, 0, 0, 0, 0, 0, 0, 0, 0, 0, 0, 0, 0, 0, 0, 0, 0, 0, 0, 0, 0, 0, 0, 0, 0, 0, 0, 0, 0, 0, 0, 0, 0, 0, 0, 0, 0, 0, 0, 0, 0, 0, 0, 0, 0, 0, 0, 0, 0, 0, 0, 0, 0, 0, 0, 0, 0, 0, 0, 0, 0, 0, 0, 0, 0, 0, 0, 0, 0, 0, 0, 0, 0, 0, 0, 0, 0, 0, 0, 0, 0, 0, 0, 0, 0, 0, 0, 0, 0, 0, 0, 0, 0, 0, 0, 0, 0, 0, 0, 0, 0, 0, 0, 0, 0, 0, 0, 0, 0, 0, 0, 0, 0, 0, 0, 0, 0, 0, 0, 0, 0, 0, 0, 0, 0, 0, 0, 0, 0, 0, 0, 0, 0, 0, 0, 0, 0, 0, 0, 0, 0, 0, 0, 0, 0, 0, 0, 0, 0, 0, 0, 0, 0, 0, 0, 0, 0, 0, 0, 0, 0, 0, 0, 0, 0, 0, 0, 0, 0, 0, 0, 0, 0, 0, 0, 0, 0, 0, 0, 0, 0, 0, 0, 0, 0, 0, 0, 0, 0, 0, 0, 0, 0, 1, 0, 0, 0, 0, 0, 0, 0, 0, 0, 0, 0, 0, 0, 0, 0, 0, 0, 0, 0, 0, 0, 0, 0, 0, 0, 0, 0, 0, 0, 0, 0, 0, 0, 0, 0, 0, 0, 0, 0, 0, 0, 0, 0, 0, 0, 0, 0, 0, 0, 0, 0, 0, 0, 0, 0, 0, 0, 0, 0, 0, 0, 0, 0, 0, 0, 0, 0, 0, 0, 0, 0, 0, 0, 0, 0, 0, 0, 0, 0, 0, 0, 0, 0, 0, 0, 0, 0, 0, 0, 0, 0, 0, 0, 0, 0, 0, 0, 0, 0, 0, 0, 0, 0, 0, 0, 0, 0, 1, 0, 0, 0, 0, 0, 0, 0, 0, 0, 0, 0, 0, 0, 0, 0, 0, 0, 0, 0, 0, 0, 0, 0, 0, 0, 0, 0, 0, 0, 0, 0, 0, 0, 0, 0, 0, 0, 0, 0, 0, 0, 0, 0, 0, 0, 0, 0, 0, 0, 0, 0, 0, 0, 0, 0, 0, 0, 0, 0, 0, 0, 0, 0, 0, 0, 0, 0, 0, 0, 0, 0, 0, 0, 0, 0, 0, 0, 0, 0, 0, 0, 0, 0, 0, 0, 0, 0, 0, 0, 0, 0, 0, 0, 0, 0, 0, 0, 0, 0, 0, 0, 0, 0, 0, 0, 0, 0, 0, 0, 0, 0, 0, 0, 0, 0, 0, 0, 0, 0, 0, 0, 0, 0, 0, 0, 0, 0, 0, 0, 0, 0, 0, 0, 0, 0, 0, 0, 0, 0, 0, 0, 0, 0, 0, 0, 0, 0, 0, 0, 0, 0, 0, 0, 0, 0, 0, 0, 0, 0, 0, 0, 0, 0, 0, 0, 0, 0, 0, 0, 0, 0, 0, 0, 0, 0, 0, 0, 0, 0, 0, 0, 0, 0, 0, 0, 0, 0, 0, 0, 0, 0, 0, 0, 0, 0, 0, 0, 0, 0, 0, 0, 0, 0, 0, 0, 0, 0, 0, 0, 0, 0, 0, 0, 0, 0, 0, 0, 0, 0, 0, 0, 0, 0, 0, 0, 0, 0, 0, 0, 0, 0, 0, 0, 0, 0, 0, 0, 0, 0, 0, 0, 0, 0, 0, 0, 0, 0, 0, 0, 0, 0, 0, 0, 0, 0, 0, 0, 0, 0, 0, 0, 0, 0, 0, 0, 0, 0, 0, 0, 0, 0, 0, 0, 0, 0, 0, 0, 0, 0, 0, 0, 0, 0, 0, 0, 0, 0, 0, 0, 0, 0, 0, 0, 0, 0, 0, 0, 0, 0, 0, 0, 0, 0, 0, 0, 0, 0, 0, 0, 0, 0, 0, 0, 0, 0, 0, 0, 0, 0, 0, 0, 0, 0, 0, 0, 0, 0, 0, 0, 0, 0, 0, 0, 0, 0, 0, 0, 0, 0, 0, 0, 0, 0, 0, 0, 0, 0, 0, 0, 0, 0, 0, 0, 0, 0, 0, 0, 0, 0, 0, 0, 0, 0, 0, 0, 0, 0, 0, 0, 0, 0, 0, 0, 0, 0, 0, 0, 0, 0, 0, 0, 0, 0, 0, 0, 0, 0, 0, 0, 0, 0, 0, 0, 0, 0, 0, 0, 0, 0, 0, 0, 0, 0, 0, 0, 0, 0, 0, 0, 0, 0, 0, 0, 0, 0, 0, 0, 0, 0, 0, 0, 0, 0, 0, 0, 0, 0, 0, 0, 0, 0, 0, 0, 0, 0, 0, 0, 0, 0, 0, 0, 0, 0, 0, 0, 0, 0, 0, 0, 0, 0, 0, 0, 0, 0, 0, 0, 0, 0, 0, 0, 0, 0, 2, 0, 1, 0], type: <class 'list'>, valid types: <class 'bytes'>, <class 'bytearray'>, file-like object"
     ]
    }
   ],
   "source": [
    "response = runtime.invoke_endpoint(EndpointName = xgb_predictor.endpoint, # The name of the endpoint we created\n",
    "                                       ContentType = 'text/csv',                     # The data format that is expected\n",
    "                                       Body = test_bow)"
   ]
  },
  {
   "cell_type": "markdown",
   "metadata": {},
   "source": [
    "So why did we get an error?\n",
    "\n",
    "Because we tried to send the endpoint a list of integers but it expected us to send data of type `text/csv`. So, we need to convert it."
   ]
  },
  {
   "cell_type": "code",
   "execution_count": 48,
   "metadata": {},
   "outputs": [],
   "source": [
    "response = runtime.invoke_endpoint(EndpointName = xgb_predictor.endpoint, # The name of the endpoint we created\n",
    "                                       ContentType = 'text/csv',                     # The data format that is expected\n",
    "                                       Body = ','.join([str(val) for val in test_bow]).encode('utf-8'))"
   ]
  },
  {
   "cell_type": "code",
   "execution_count": 49,
   "metadata": {},
   "outputs": [
    {
     "name": "stdout",
     "output_type": "stream",
     "text": [
      "{'ResponseMetadata': {'RequestId': 'b8a95b5f-57e2-47bc-ac27-0164634cac83', 'HTTPStatusCode': 200, 'HTTPHeaders': {'x-amzn-requestid': 'b8a95b5f-57e2-47bc-ac27-0164634cac83', 'x-amzn-invoked-production-variant': 'AllTraffic', 'date': 'Sat, 2 May 2020 15:07:31 GMT', 'content-type': 'text/csv; charset=utf-8', 'content-length': '14'}, 'RetryAttempts': 0}, 'ContentType': 'text/csv; charset=utf-8', 'InvokedProductionVariant': 'AllTraffic', 'Body': <botocore.response.StreamingBody object at 0x7f9dc822b2b0>}\n"
     ]
    }
   ],
   "source": [
    "print(response)"
   ]
  },
  {
   "cell_type": "markdown",
   "metadata": {},
   "source": [
    "As we can see, the response from our model is a somewhat complicated looking dict that contains a bunch of information. The bit that we are most interested in is `'Body'` object which is a streaming object that we need to `read` in order to make use of."
   ]
  },
  {
   "cell_type": "code",
   "execution_count": 50,
   "metadata": {},
   "outputs": [
    {
     "name": "stdout",
     "output_type": "stream",
     "text": [
      "0.486769229174\n"
     ]
    }
   ],
   "source": [
    "response = response['Body'].read().decode('utf-8')\n",
    "print(response)"
   ]
  },
  {
   "cell_type": "markdown",
   "metadata": {},
   "source": [
    "Now that we know how to process the incoming user data we can start setting up the infrastructure to make our simple web app work. To do this we will make use of two different services. Amazon's Lambda and API Gateway services.\n",
    "\n",
    "Lambda is a service which allows someone to write some relatively simple code and have it executed whenever a chosen trigger occurs. For example, you may want to update a database whenever new data is uploaded to a folder stored on S3.\n",
    "\n",
    "API Gateway is a service that allows you to create HTTP endpoints (url addresses) which are connected to other AWS services. One of the benefits to this is that you get to decide what credentials, if any, are required to access these endpoints.\n",
    "\n",
    "In our case we are going to set up an HTTP endpoint through API Gateway which is open to the public. Then, whenever anyone sends data to our public endpoint we will trigger a Lambda function which will send the input (in our case a review) to our model's endpoint and then return the result."
   ]
  },
  {
   "cell_type": "markdown",
   "metadata": {},
   "source": [
    "### Setting up a Lambda function\n",
    "\n",
    "The first thing we are going to do is set up a Lambda function. This Lambda function will be executed whenever our public API has data sent to it. When it is executed it will receive the data, perform any sort of processing that is required, send the data (the review) to the SageMaker endpoint we've created and then return the result.\n",
    "\n",
    "#### Part A: Create an IAM Role for the Lambda function\n",
    "\n",
    "Since we want the Lambda function to call a SageMaker endpoint, we need to make sure that it has permission to do so. To do this, we will construct a role that we can later give the Lambda function.\n",
    "\n",
    "Using the AWS Console, navigate to the **IAM** page and click on **Roles**. Then, click on **Create role**. Make sure that the **AWS service** is the type of trusted entity selected and choose **Lambda** as the service that will use this role, then click **Next: Permissions**.\n",
    "\n",
    "In the search box type `sagemaker` and select the check box next to the **AmazonSageMakerFullAccess** policy. Then, click on **Next: Review**.\n",
    "\n",
    "Lastly, give this role a name. Make sure you use a name that you will remember later on, for example `LambdaSageMakerRole`. Then, click on **Create role**."
   ]
  },
  {
   "cell_type": "markdown",
   "metadata": {},
   "source": [
    "#### Part B: Create a Lambda function\n",
    "\n",
    "Now it is time to actually create the Lambda function. Remember from earlier that in order to process the user provided input and send it to our endpoint we need to gather two pieces of information:\n",
    "\n",
    " - The name of the endpoint, and\n",
    " - the vocabulary object.\n",
    "\n",
    "We will copy these pieces of information to our Lambda function after we create it.\n",
    "\n",
    "To start, using the AWS Console, navigate to the AWS Lambda page and click on **Create a function**. When you get to the next page, make sure that **Author from scratch** is selected. Now, name your Lambda function, using a name that you will remember later on, for example `sentiment_analysis_xgboost_func`. Make sure that the **Python 3.6** runtime is selected and then choose the role that you created in the previous part. Then, click on **Create Function**.\n",
    "\n",
    "On the next page you will see some information about the Lambda function you've just created. If you scroll down you should see an editor in which you can write the code that will be executed when your Lambda function is triggered. Collecting the code we wrote above to process a single review and adding it to the provided example `lambda_handler` we arrive at the following.\n",
    "\n",
    "```python\n",
    "# We need to use the low-level library to interact with SageMaker since the SageMaker API\n",
    "# is not available natively through Lambda.\n",
    "import boto3\n",
    "\n",
    "# And we need the regular expression library to do some of the data processing\n",
    "import re\n",
    "\n",
    "REPLACE_NO_SPACE = re.compile(\"(\\.)|(\\;)|(\\:)|(\\!)|(\\')|(\\?)|(\\,)|(\\\")|(\\()|(\\))|(\\[)|(\\])\")\n",
    "REPLACE_WITH_SPACE = re.compile(\"(<br\\s*/><br\\s*/>)|(\\-)|(\\/)\")\n",
    "\n",
    "def review_to_words(review):\n",
    "    words = REPLACE_NO_SPACE.sub(\"\", review.lower())\n",
    "    words = REPLACE_WITH_SPACE.sub(\" \", words)\n",
    "    return words\n",
    "    \n",
    "def bow_encoding(words, vocabulary):\n",
    "    bow = [0] * len(vocabulary) # Start by setting the count for each word in the vocabulary to zero.\n",
    "    for word in words.split():  # For each word in the string\n",
    "        if word in vocabulary:  # If the word is one that occurs in the vocabulary, increase its count.\n",
    "            bow[vocabulary[word]] += 1\n",
    "    return bow\n",
    "\n",
    "\n",
    "def lambda_handler(event, context):\n",
    "    \n",
    "    vocab = \"*** ACTUAL VOCABULARY GOES HERE ***\"\n",
    "    \n",
    "    words = review_to_words(event['body'])\n",
    "    bow = bow_encoding(words, vocab)\n",
    "\n",
    "    # The SageMaker runtime is what allows us to invoke the endpoint that we've created.\n",
    "    runtime = boto3.Session().client('sagemaker-runtime')\n",
    "\n",
    "    # Now we use the SageMaker runtime to invoke our endpoint, sending the review we were given\n",
    "    response = runtime.invoke_endpoint(EndpointName = '***ENDPOINT NAME HERE***',# The name of the endpoint we created\n",
    "                                       ContentType = 'text/csv',                 # The data format that is expected\n",
    "                                       Body = ','.join([str(val) for val in bow]).encode('utf-8')) # The actual review\n",
    "\n",
    "    # The response is an HTTP response whose body contains the result of our inference\n",
    "    result = response['Body'].read().decode('utf-8')\n",
    "    \n",
    "    # Round the result so that our web app only gets '1' or '0' as a response.\n",
    "    result = round(float(result))\n",
    "\n",
    "    return {\n",
    "        'statusCode' : 200,\n",
    "        'headers' : { 'Content-Type' : 'text/plain', 'Access-Control-Allow-Origin' : '*' },\n",
    "        'body' : str(result)\n",
    "    }\n",
    "```"
   ]
  },
  {
   "cell_type": "markdown",
   "metadata": {},
   "source": [
    "Once you have copy and pasted the code above into the Lambda code editor, replace the `**ENDPOINT NAME HERE**` portion with the name of the endpoint that we deployed earlier. You can determine the name of the endpoint using the code cell below."
   ]
  },
  {
   "cell_type": "code",
   "execution_count": 46,
   "metadata": {},
   "outputs": [
    {
     "data": {
      "text/plain": [
       "'xgboost-2020-05-02-14-09-20-831'"
      ]
     },
     "execution_count": 46,
     "metadata": {},
     "output_type": "execute_result"
    }
   ],
   "source": [
    "xgb_predictor.endpoint"
   ]
  },
  {
   "cell_type": "markdown",
   "metadata": {},
   "source": [
    "In addition, you will need to copy the vocabulary dict to the appropriate place in the code at the beginning of the `lambda_handler` method. The cell below prints out the vocabulary dict in a way that is easy to copy and paste."
   ]
  },
  {
   "cell_type": "code",
   "execution_count": 47,
   "metadata": {},
   "outputs": [
    {
     "name": "stdout",
     "output_type": "stream",
     "text": [
      "{'really': 3556, 'wanted': 4789, 'to': 4507, 'like': 2599, 'think': 4452, 'that': 4424, 'is': 2360, 'underrated': 4642, 'as': 311, 'an': 223, 'actor': 103, 'and': 226, 'many': 2732, 'of': 3083, 'the': 4426, 'supporting': 4304, 'players': 3299, 'here': 2086, 'are': 285, 'better': 472, 'than': 4420, 'they': 4442, 'given': 1913, 'chance': 747, 'in': 2257, 'this': 4457, 'film': 1716, 'realize': 3552, 'based': 404, 'on': 3105, 'short': 3946, 'story': 4207, 'which': 4867, 'have': 2052, 'not': 3040, 'read': 3543, 'so': 4046, 'do': 1302, 'know': 2489, 'if': 2222, 'what': 4858, 'see': 3855, 'films': 1721, 'faults': 1669, 'with': 4911, 'or': 3124, 'were': 4848, 'it': 2366, 'by': 642, 'director': 1264, 'screenwriter': 3833, 'premise': 3370, 'wonderful': 4928, 'loved': 2670, 'tone': 4517, 'opening': 3114, 'narration': 2965, 'strikes': 4225, 'but': 636, 'then': 4436, 'nothing': 3047, 'several': 3905, 'local': 2634, 'characters': 760, 'ask': 316, 'explain': 1586, 'his': 2118, 'intention': 2319, 'commit': 904, 'suicide': 4283, 'one': 3107, 'could': 1007, 'argue': 290, 'he': 2056, 'doesnt': 1309, 'answer': 251, 'because': 432, 'its': 2370, 'none': 3028, 'their': 4431, 'business': 633, 'who': 4871, 'under': 4639, 'only': 3110, 'out': 3141, 'intentions': 2321, 'public': 3460, 'neither': 2996, 'nor': 3032, 'writer': 4968, 'despite': 1211, 'fact': 1621, 'character': 758, 'keeping': 2450, 'tape': 4365, 'recorded': 3574, 'for': 1784, 'gods': 1928, 'sake': 3775, 'seem': 3861, 'provide': 3448, 'anything': 260, 'beyond': 476, 'initial': 2290, 'information': 2288, 'life': 2592, 'says': 3801, 'was': 4805, 'family': 1645, 'moved': 2922, 'around': 297, 'when': 4862, 'child': 789, 'due': 1382, 'fathers': 1667, 'job': 2405, 'there': 4438, 'designed': 1203, 'purpose': 3474, 'them': 4432, 'go': 1924, 'anywhere': 263, 'seems': 3864, 'regard': 3588, 'all': 187, 'these': 4441, 'aliens': 184, 'from': 1840, 'another': 250, 'planet': 3289, 'ultimate': 4627, 'among': 217, 'might': 2835, 'work': 4940, 'had': 2003, 'any': 256, 'wisdom': 4902, 'closest': 857, 'comes': 891, 'revealing': 3672, 'about': 67, 'himself': 2111, 'scene': 3809, 'naive': 2958, 'religious': 3608, 'wife': 4884, 'reveals': 3673, 'would': 4957, 'empathy': 1462, 'can': 665, 'selfish': 3870, 'petty': 3249, 'totally': 4532, 'sort': 4077, 'matches': 2764, 'attitude': 346, 'half': 2007, 'contrived': 976, 'poor': 3328, 'michael': 2829, 'once': 3106, 'much': 2934, 'promise': 3430, 'rock': 3720, 'roll': 3728, 'high': 2100, 'school': 3813, 'will': 4886, 'probably': 3407, 'down': 1335, 'history': 2121, 'party': 3200, 'flick': 1754, 'portraying': 3343, 'bunch': 623, 'students': 4239, 'using': 4698, 'ramones': 3512, 'music': 2946, 'inspiration': 2300, 'rise': 3702, 'up': 4683, 'against': 147, 'principal': 3398, 'mary': 2751, 'eating': 1413, 'fame': 1642, 'whole': 4873, 'movie': 2926, 'mile': 2842, 'minute': 2858, 'basically': 407, 'big': 478, 'excuse': 1564, 'fun': 1848, 'im': 2232, 'sure': 4308, 'you': 4986, 'check': 777, 'teacher': 4375, 'paul': 3214, 'also': 199, 'anyway': 261, 'stuff': 4243, 'makes': 2716, 'worth': 4953, 'living': 2629, 'even': 1533, 'someone': 4064, 'me': 2778, 'pure': 3471, 'pleasure': 3306, 'roger': 3724, 'executive': 1567, 'producing': 3417, 'joe': 2407, 'co': 867, 'directing': 1260, 'how': 2181, 'we': 4823, 'expect': 1575, 'less': 2575, 'too': 4522, 'bad': 382, 'later': 2525, 'into': 2332, 'fare': 1655, 'such': 4268, 'ii': 2226, 'starring': 4154, 'vincent': 4746, 'van': 4713, 'clint': 850, 'howard': 2182, 'young': 4989, 'dick': 1239, 'miller': 2846, 'has': 2043, 'appeared': 276, 'every': 1539, 'movies': 2927, 'don': 1320, 'course': 1019, 'real': 3547, 'treat': 4572, 'always': 203, 'starred': 4153, 'hollywood': 2137, 'slasher': 4020, 'mall': 2720, 'roles': 3727, 'elephant': 1444, 'walk': 4775, 'may': 2775, 'be': 418, 'literature': 2623, 'great': 1964, 'entertainment': 1500, 'melodramatic': 2798, 'love': 2669, 'both': 547, 'genuine': 1891, 'well': 4843, 'personal': 3240, 'previous': 3387, 'reviewer': 3677, 'john': 2409, 'questions': 3489, 'why': 4878, 'central': 735, 'focus': 1766, 'mansion': 2731, 'called': 652, 'should': 3951, 'been': 438, 'built': 618, 'former': 1800, 'owner': 3159, 'late': 2523, 'tom': 4514, 'right': 3696, 'across': 96, 'traditional': 4550, 'path': 3209, 'major': 2711, 'source': 4086, 'water': 4816, 'river': 3707, 'miss': 2866, 'point': 3316, 'essentially': 1523, 'center': 732, 'man': 2721, 'son': 4070, 'played': 3297, 'peter': 3247, 'become': 433, 'super': 4295, 'image': 2233, 'father': 1666, 'unexpected': 4650, 'since': 3990, 'without': 4913, 'mother': 2911, 'growing': 1983, 'foreign': 1790, 'jungle': 2434, 'boys': 559, 'club': 863, 'role': 3726, 'models': 2881, 'self': 3869, 'made': 2697, 'tame': 4363, 'nature': 2975, 'liking': 2604, 'just': 2437, 'tea': 4373, 'upon': 4684, 'large': 2517, 'bull': 619, 'led': 2558, 'thus': 4486, 'him': 2110, 'join': 2412, 'tale': 4353, 'after': 143, 'crucial': 1068, 'dry': 1377, 'season': 3843, 'access': 83, 'last': 2521, 'long': 2644, 'desperation': 1210, 'get': 1899, 'animals': 240, 'humans': 2190, 'power': 3359, 'todays': 4509, 'huge': 2185, 'island': 2361, 'off': 3084, 'india': 2273, 'where': 4864, 'quickly': 3491, 'learns': 2553, 'scenery': 3810, 'taylor': 4372, 'exotic': 1574, 'location': 2635, 'shot': 3949, 'magnificent': 2705, 'must': 2950, 'recognize': 3569, 'atmosphere': 333, 'created': 1037, 'time': 4495, 'place': 3282, 'latter': 2528, 'day': 1129, 'wealth': 4826, 'english': 1483, 'part': 3193, 'british': 589, 'use': 4692, 'slave': 4022, 'build': 614, 'overlooked': 3154, 'wonderfully': 4929, 'window': 4894, 'art': 304, 'directors': 1266, 'johnson': 2411, 'hal': 2006, 'obviously': 3072, 'careful': 688, 'attention': 345, 'detail': 1217, 'men': 2805, 'those': 4460, 'she': 3923, 'background': 380, 'described': 1195, 'deceased': 1146, 'said': 3774, 'before': 440, 'term': 4405, 'special': 4097, 'effects': 1431, 'today': 4508, 'seen': 3865, 'giant': 1905, 'screen': 3829, 'drive': 1363, 'home': 2142, 'tv': 4610, 'fully': 1847, 'appreciate': 279, 'fine': 1729, 'camera': 659, 'scope': 3821, 'jim': 2402, 'carrey': 696, 'keep': 2449, 'getting': 1901, 'stuck': 4237, 'my': 2951, 'head': 2057, 'grinch': 1975, 'very': 4723, 'annoying': 249, 'her': 2085, 'sweet': 4336, 'innocence': 2293, 'tries': 4585, 'christmas': 810, 'spirit': 4113, 'childhood': 790, 'funny': 1852, 'weak': 4824, 'obvious': 3071, 'ending': 1471, 'isnt': 2362, 'presents': 3377, 'say': 3799, 'felt': 1692, 'stupid': 4247, 'walking': 4779, 'theater': 4427, 'laughing': 2533, 'forth': 1804, 'good': 1937, 'full': 1846, 'ages': 152, 'lively': 2627, 'predictable': 3367, 'bank': 394, 'set': 3898, 'straight': 4210, 'continues': 971, 'sink': 3999, 'deals': 1137, 'nasty': 2968, 'stereotypes': 4179, 'instead': 2307, 'coherent': 871, 'hideous': 2098, 'gratuitous': 1961, 'violence': 4747, 'thought': 4462, 'wit': 4908, 'feeling': 1685, 'no': 3020, 'different': 1248, '90': 60, 'product': 3418, 'racial': 3501, 'angle': 236, 'particularly': 3195, 'example': 1553, 'contemporary': 965, 'making': 2718, 'actually': 109, 'most': 2909, 'forms': 1801, 'american': 213, 'stereotype': 4178, 'wearing': 4831, 'drag': 1342, 'does': 1308, 'suggest': 4280, 'identity': 2217, 'african': 142, 'americans': 214, 'cash': 709, 'bit': 488, 'shallow': 3917, 'prize': 3405, 'money': 2888, 'above': 68, 'else': 1448, 'worse': 4951, 'theme': 4433, 'simply': 3986, 'device': 1227, 'plot': 3309, 'structure': 4233, 'serious': 3891, 'race': 3499, 'related': 3594, 'social': 4049, 'issues': 2365, 'fashion': 1659, 'order': 3126, 'justify': 2439, 'armed': 293, 'robbery': 3711, 'theyre': 4445, 'soon': 4074, 'produce': 3413, 'inevitably': 2283, 'conventional': 979, 'crime': 1055, 'turns': 4609, 'caring': 691, 'guilt': 1994, 'ridden': 3691, 'tell': 4395, 'king': 2479, 'smith': 4038, 'follows': 1775, 'hood': 2151, 'world': 4946, 'middle': 2833, 'class': 833, 'opened': 3113, 'manager': 2724, 'boyfriend': 558, 'abysmal': 76, 'state': 4160, 'mindless': 2851, 'pretending': 3382, 'while': 4868, 'likes': 2602, '1970s': 17, 'worn': 4948, 'plots': 3310, 'energy': 1478, 'struck': 4232, 'audiences': 353, 'still': 4188, 'watch': 4811, 'wouldnt': 4958, 'angry': 238, 'over': 3148, 'wasnt': 4807, 'tragic': 4552, 'promising': 3433, 'days': 1130, 'early': 1400, '1990s': 25, 'happy': 2032, 'main': 2707, 'pretty': 3384, 'tight': 4492, 'blows': 517, 'acting': 99, 'list': 2617, 'shown': 3959, 'mention': 2810, 'low': 2676, 'budget': 610, 'charlie': 765, 'same': 3778, 'person': 3238, 'looks': 2649, 'way': 4820, 'decent': 1147, 'other': 3135, 'reason': 3557, 'liked': 2600, 'doctor': 1304, 'things': 4451, 'laugh': 2529, 'at': 331, 'blockbuster': 509, 'everyone': 1542, 'favor': 1670, 'hide': 2097, 'behind': 447, 'anybody': 257, 'thinks': 4454, 'mentally': 2809, 'believe': 454, 'lot': 2661, 'people': 3221, 'rated': 3527, 'lack': 2502, 'quality': 3484, 'did': 1241, 'follow': 1772, 'standard': 4144, 'formula': 1802, 'some': 4061, 'conflicts': 940, 'little': 2624, 'others': 3136, 'journey': 2421, 'rich': 3685, 'provoking': 3452, 'entertaining': 1499, 'cinematography': 820, 'excellent': 1555, 'urban': 4688, 'setting': 3900, 'innovative': 2295, '10': 0, 'book': 535, 'take': 4349, 'places': 3284, 'normal': 3033, 'expected': 1577, 'script': 3834, 'took': 4523, 'few': 1700, 'worked': 4941, 'am': 204, 'trying': 4601, 'avoid': 363, 'direct': 1258, 'references': 3583, 'seeing': 3857, 'yourself': 4993, 'best': 469, 'interpretation': 2328, 'saying': 3800, 'play': 3296, 'important': 2247, 'thing': 4450, 'something': 4066, 'old': 3100, 'william': 4887, 'our': 3139, 'own': 3158, 'veteran': 4724, 'mr': 2929, 'number': 3060, 'support': 4303, 'more': 2904, 'appropriate': 283, 'brothers': 599, 'award': 366, 'being': 448, 'named': 2961, 'favourite': 1673, 'clearly': 840, 'gives': 1914, 'evidence': 1546, 'easily': 1406, 'lead': 2545, 'viewers': 4739, 'sitting': 4007, 'theatre': 4429, 'viewing': 4740, 'dvd': 1391, 'semi': 3874, 'takes': 4351, 'portion': 3338, 'material': 2766, 'liberal': 2588, 'imagination': 2236, 'bring': 585, 'us': 4690, 'satisfying': 3791, 'albeit': 173, 'somewhat': 4068, 'casting': 711, 'natural': 2973, 'flynn': 1765, 'though': 4461, 'western': 4853, 'war': 4792, 'picture': 3269, 'perhaps': 3235, 'fit': 1740, 'australian': 357, 'member': 2800, 'boxing': 556, 'team': 4378, 'either': 1438, 'training': 4558, 'skills': 4014, 'throughout': 4478, 'especially': 1520, 'fight': 1707, 'worlds': 4947, 'championship': 745, 'expert': 1585, 'ward': 4793, 'bond': 532, 'cast': 710, 'reads': 3545, 'duty': 1390, 'warner': 4799, 'resident': 3647, 'features': 1680, 'alan': 171, 'two': 4620, 'harry': 2039, 'george': 1893, 'pat': 3208, 'james': 2378, 'blue': 518, 'stated': 4161, 'jack': 2373, 'usual': 4699, 'masterful': 2758, 'comic': 893, 'performance': 3228, 'friend': 1835, 'fellow': 1691, 'rest': 3657, 'remember': 3616, 'minor': 2857, 'name': 2960, 'used': 4693, 'pro': 3406, 'various': 4715, 'hence': 2083, 'ed': 1415, 'lewis': 2586, 'unknown': 4668, 'featured': 1679, 'scenes': 3811, 'mike': 2838, 'hear': 2061, 'davis': 1126, 'guys': 2001, 'look': 2646, 'possessed': 3347, 'havent': 2053, 'forgotten': 1797, 'leading': 2547, 'lady': 2507, 'powerful': 3360, 'characterization': 759, 'independent': 2272, 'woman': 4921, 'yet': 4984, 'enough': 1491, 'true': 4596, 'ability': 65, 'player': 3298, 'displays': 1293, 'quite': 3495, 'range': 3516, 'girl': 1909, 'victoria': 4732, 'ingredients': 2289, 'hand': 2015, 'trick': 4582, 'mix': 2876, 'elements': 1443, 'proper': 3436, 'give': 1912, 'blend': 504, 'looking': 2648, 'treatment': 4574, 'shows': 3960, 'starting': 4158, 'period': 3236, 'direction': 1261, 'moves': 2925, 'through': 4477, 'fairly': 1631, 'fast': 1661, 'clip': 851, 'breaking': 570, 'humorous': 2193, 'punch': 3466, 'line': 2610, 'again': 146, 'able': 66, 'maintain': 2710, 'light': 2595, 'touch': 4533, 'furthermore': 1854, 'almost': 193, 'element': 1442, 'brother': 598, 'authentic': 358, 'san': 3780, 'francisco': 1819, 'further': 1853, 'creates': 1038, 'wide': 4880, 'dynamic': 1394, 'images': 2235, 'fights': 1710, 'mood': 2898, 'glory': 1922, 'gave': 1875, 'police': 3322, 'covered': 1023, 'events': 1536, 'theres': 4440, 'first': 1736, 'your': 4991, 'humble': 2191, 'opinion': 3118, 'wrestling': 4966, 'years': 4979, 'woods': 4935, 'vehicle': 4718, 'hire': 2116, 'city': 825, 'portray': 3340, 'birth': 486, 'born': 544, 'memories': 2803, 'sullivan': 4288, 'meant': 2784, 'america': 212, 'nice': 3008, 'star': 4150, 'return': 3665, 'duo': 1386, 'akshay': 169, 'done': 1322, 'wrote': 4974, 'franchise': 1817, 'hated': 2047, 'compared': 912, 'realistic': 3550, 'saw': 3798, 'credits': 1050, 'beginning': 443, 'put': 3480, 'itself': 2371, 'action': 100, 'sequences': 3888, 'friends': 1837, 'guts': 1999, 'watching': 4815, 'crappy': 1032, '30': 42, 'thugs': 4484, 'got': 1944, 'machine': 2693, 'guns': 1998, 'understand': 4643, 'far': 1653, 'reminded': 3619, '80s': 59, 'sexy': 3911, 'looked': 2647, 'hot': 2174, 'rating': 3529, 'thinking': 4453, 'gangster': 1868, 'laughs': 2534, 'terrible': 4407, 'thats': 4425, 'yes': 4982, 'desire': 1205, 'christian': 808, 'bother': 548, 'already': 197, 'saved': 3795, 'found': 1811, 'moving': 2928, 'now': 3054, 'taken': 4350, 'level': 2584, 'left': 2561, 'run': 3755, 'close': 853, 'comparison': 914, 'definitely': 1162, 'modern': 2882, 'reach': 3536, 'judge': 2424, 'series': 3890, 'comments': 901, 'god': 1926, 'ever': 1538, 'come': 886, 'existence': 1571, 'generally': 1881, 'sci': 3815, 'whatever': 4859, 'etc': 1527, 'written': 4972, 'cheese': 780, 'sad': 3767, 'lines': 2612, 'costs': 1004, 'ended': 1470, 'renting': 3629, 'wrong': 4973, 'case': 707, 'idea': 2213, 'potential': 3355, 'make': 2713, 'dont': 1324, 'ends': 1474, 'speak': 4094, 'arts': 310, 'interested': 2324, 'youll': 4988, 'find': 1726, 'write': 4967, 'told': 4513, 'hour': 2176, '20': 29, 'minutes': 2859, 'oh': 3096, 'editor': 1423, 'apparently': 270, 'previously': 3388, 'shorts': 3948, 'okay': 3099, 'dialogue': 1234, 'starts': 4159, 'twenty': 4612, 'talking': 4360, 'helicopter': 2076, 'worst': 4952, 'failure': 1629, 'precious': 3366, 'nearly': 2981, 'amazing': 209, 'daily': 1097, 'show': 3953, 'parts': 3199, 'report': 3635, 'ready': 3546, 'audience': 352, 'trapped': 4564, 'vision': 4754, 'share': 3920, 'whilst': 4869, 'haunted': 2050, 'house': 2178, 'susan': 4326, 'hills': 2109, 'horrors': 2169, 'brilliant': 583, 'dramas': 1347, 'fantastic': 1651, 'portrays': 3344, 'convincingly': 986, 'viewer': 4738, 'ghost': 1902, 'wise': 4903, 'need': 2987, 'blood': 512, 'gore': 1941, 'send': 3875, 'black': 493, 'figure': 1711, 'fear': 1676, 'whose': 4877, 'presence': 3373, 'never': 3001, 'appears': 278, 'arthur': 305, 'unseen': 4678, 'mission': 2870, 'settle': 3902, 'estate': 1525, 'widow': 4883, 'dies': 1245, 'spends': 4107, 'nights': 3016, 'inside': 2297, 'dreary': 1356, 'unsettling': 4679, 'locked': 2637, 'room': 3735, 'opens': 3115, 'darkness': 1117, 'becomes': 434, 'shoes': 3941, 'efforts': 1433, 'shake': 3914, 'puts': 3481, 'chilling': 794, 'soldiers': 4054, 're': 3535, 'appearance': 274, 'eager': 1396, 'learn': 2550, 'meaning': 2780, 'leaves': 2556, 'vicious': 4728, 'sent': 3880, 'nowhere': 3056, 'isolated': 2363, 'land': 2511, 'wind': 4893, 'having': 2054, 'myself': 2953, 'horrible': 2163, 'ive': 2372, 'wish': 4904, 'elderly': 1440, 'relatives': 3601, 'often': 3095, 'night': 3013, 'sleep': 4024, 'lost': 2660, 'gem': 1877, 'agree': 155, 'extent': 1605, 'internet': 2327, 'hype': 2207, 'disappointed': 1273, 'spending': 4106, '50': 51, 'hidden': 2096, 'exposed': 1598, 'acted': 98, 'consider': 949, 'greatest': 1966, 'century': 736, 'watched': 4813, 'twice': 4613, 'times': 4497, 'didnt': 1242, 'fail': 1625, 'impress': 2250, 'unique': 4662, 'depiction': 1185, 'reality': 3551, 'topic': 4526, 'sticks': 4186, 'closely': 855, 'southern': 4088, 'question': 3487, 'end': 1468, 'sentence': 3881, 'passed': 3202, 'matter': 2769, 'common': 906, 'outstanding': 3147, 'nowadays': 3055, 'truly': 4597, 'apart': 264, 'mainstream': 2709, 'enjoyable': 1485, 'expectations': 1576, 'terribly': 4408, 'spirited': 4114, 'masterpiece': 2759, 'wanting': 4790, 'effect': 1428, 'emotion': 1458, 'intelligence': 2313, 'cool': 989, 'handed': 2016, 'flaws': 1752, 'situation': 4008, 'logical': 2639, 'somehow': 4063, 'back': 378, 'taking': 4352, 'each': 1395, 'next': 3007, 'guy': 2000, 'shes': 3930, 'stronger': 4230, 'control': 977, 'relationships': 3598, 'death': 1141, 'die': 1243, 'dying': 1393, 'surely': 4309, 'causing': 726, 'ones': 3108, 'intelligent': 2314, 'want': 4788, 'non': 3027, 'stop': 4201, 'heart': 2064, 'barbara': 397, 'stanwyck': 4149, 'plays': 3301, 'lily': 2605, 'powers': 3361, 'waitress': 4773, 'town': 4541, 'escapes': 1519, 'new': 3003, 'york': 4985, 'literally': 2622, 'top': 4525, 'originally': 3131, 'version': 4720, 'extreme': 1609, 'tons': 4520, 'sexual': 3908, 'silly': 3976, 'ignore': 2224, 'happen': 2026, '1933': 12, 'classic': 835, 'quick': 3490, 'dirty': 1268, 'lots': 2662, 'falls': 1640, 'moral': 2902, 'unbelievable': 4634, 'laughed': 2532, '75': 57, 'until': 4680, '2004': 34, 'discovered': 1280, 'mistake': 2871, 'release': 3602, 'aware': 368, 'jumps': 2432, 'enjoys': 1489, 'cruel': 1070, 'sleeping': 4025, 'strong': 4229, 'performances': 3229, 'handsome': 2021, 'donald': 1321, 'cook': 988, 'pre': 3365, 'wayne': 4821, 'hilarious': 2106, 'mild': 2839, 'office': 3091, 'worker': 4942, 'prior': 3400, 'certainly': 738, 'basic': 406, 'themes': 4434, 'effort': 1432, 'together': 4511, 'talent': 4354, 'dramatic': 1348, 'keeps': 2451, 'gets': 1900, 'smile': 4036, 'stood': 4199, 'test': 4416, 'definite': 1161, 'saturday': 3792, 'afternoon': 144, 'heavy': 2070, 'popcorn': 3331, 'user': 4696, 'wanna': 4786, 'jokes': 2415, 'lame': 2510, 'ridiculous': 3693, 'actors': 104, 'struggling': 4236, 'hit': 2122, 'awful': 372, 'call': 651, 'commented': 900, 'least': 2554, 'reasons': 3560, 'doing': 1312, 'sense': 3877, 'clear': 839, 'absolutely': 72, 'stand': 4143, 'rain': 3506, 'channels': 754, 'makeup': 2717, 'standing': 4146, 'front': 1841, 'hbo': 2055, 'naturally': 2974, 'double': 1331, 'decided': 1149, 'id': 2212, 'change': 749, 'channel': 753, 'finished': 1733, 'incredibly': 2270, 'favorite': 1671, 'during': 1387, 'couple': 1016, 'wins': 4899, 'incredible': 2269, 'humor': 2192, 'brain': 562, 'eddie': 1416, 'stands': 4147, 'style': 4249, 'refreshing': 3586, 'stick': 4185, 'current': 1084, 'stayed': 4167, 'afterwards': 145, 'went': 4847, 'italy': 2368, 'summer': 4291, 'going': 1931, 'wont': 4932, 'regret': 3591, 'murder': 2939, 'numbers': 3061, 'considering': 952, 'note': 3044, 'although': 201, 'pitt': 3280, 'onto': 3111, 'bigger': 479, 'surprise': 4312, 'away': 369, 'memory': 2804, 'replaced': 3634, 'door': 1328, 'putting': 3482, 'clothes': 860, 'shower': 3957, 'cop': 991, 'partner': 3198, 'wet': 4855, 'ben': 463, 'chaplin': 756, 'investigate': 2342, 'unusual': 4681, 'except': 1556, 'teenage': 4389, 'theyve': 4446, 'planned': 3290, 'executed': 1565, 'perfect': 3224, 'investigation': 2343, 'battle': 414, 'between': 475, 'suspect': 4327, 'ryan': 3765, 'issue': 2364, 'leads': 2548, 'hopeless': 2158, 'believable': 453, 'cynical': 1093, 'hed': 2072, 'complete': 921, 'feel': 1684, 'sorry': 4076, 'attempt': 340, 'break': 569, 'suspects': 4328, 'themselves': 4435, 'werent': 4849, 'highly': 2105, 'illogical': 2231, 'shoot': 3942, 'pointless': 3318, 'nude': 3058, 'save': 3794, 'forgettable': 1794, 'move': 2921, 'genre': 1888, 'forward': 1808, 'along': 195, 'stars': 4155, 'heroes': 2089, 'villains': 4745, 'lets': 2580, 'compare': 911, 'freddy': 1826, 'seasons': 3844, '40': 48, 'episodes': 1508, 'extra': 1606, 'vs': 4767, 'jason': 2383, 'prime': 3395, 'dark': 1115, 'justice': 2438, 'burn': 625, 'whos': 4876, 'thanks': 4423, 'fan': 1648, '17': 9, '18': 10, 'comment': 898, 'nightmares': 3015, 'personally': 3243, 'choose': 799, 'managed': 2723, 'titanic': 4503, 'rented': 3628, 'car': 680, 'belief': 451, 'tied': 4489, 'killer': 2470, 'blow': 514, 'chinese': 796, 'blonde': 511, 'shirt': 3937, 'changes': 751, 'driving': 1368, 'ensemble': 1492, 'killed': 2469, 'worry': 4950, 'surprises': 4314, 'finds': 1728, 'necessary': 2984, 'mental': 2808, 'patient': 3211, 'convincing': 985, 'insane': 2296, 'eyes': 1613, 'chase': 769, 'involving': 2349, 'priest': 3392, 'writing': 4971, 'bathroom': 412, 'wall': 4781, 'heaven': 2068, 'help': 2079, 'noise': 3024, 'enjoy': 1484, 'disappointment': 1275, 'waiting': 4772, 'faithful': 1634, 'chaos': 755, 'comics': 895, 'cut': 1089, 'statement': 4162, 'hopes': 2159, 'corrupt': 1001, 'voices': 4763, 'suit': 4284, 'voice': 4761, 'beloved': 461, 'heard': 2062, 'mind': 2849, 'returned': 3666, 'everything': 1544, 'bottom': 551, 'touching': 4536, 'beautiful': 428, 'strongly': 4231, 'recommend': 3571, 'pg': 3250, '13': 4, 'nudity': 3059, 'sexuality': 3909, 'language': 2516, 'past': 3207, 'title': 4504, 'waters': 4817, 'headed': 2058, 'edward': 1426, 'shocking': 3940, 'suitable': 4285, 'children': 792, 'unfortunately': 4654, 'mass': 2753, 'produced': 3414, 'opportunity': 3121, 'view': 4736, 'five': 1743, 'fell': 1690, 'game': 1864, 'mario': 2738, 'graphics': 1959, 'princess': 3397, 'kidnapped': 2466, 'rescue': 3643, 'object': 3066, 'six': 4010, 'beat': 423, 'three': 4469, 'levels': 2585, 'start': 4156, 'advice': 133, 'towards': 4540, 'villain': 4744, 'games': 1865, 'awesome': 371, 'sound': 4081, 'leave': 2555, 'favorites': 1672, 'developing': 1224, 'norman': 3035, 'problems': 3409, '1960s': 15, 'husband': 2204, 'chicago': 785, 'project': 3427, 'neighborhood': 2993, 'depicted': 1183, 'agent': 150, 'face': 1616, 'comical': 894, 'ralph': 3510, 'carter': 703, 'daughter': 1121, 'success': 4265, 'description': 1197, 'mean': 2779, 'doc': 1303, 'savage': 3793, 'group': 1980, 'bored': 541, 'production': 3419, '60s': 54, 'batman': 413, 'accidentally': 85, 'youre': 4992, 'typical': 4623, 'hell': 2077, 'murphy': 2944, 'brown': 601, 'moon': 2900, 'concept': 930, 'familiar': 1643, 'likable': 2598, 'kind': 2476, 'wives': 4918, 'live': 2625, 'horror': 2168, 'fans': 1650, 'likely': 2601, 'step': 4175, 'decision': 1151, 'buy': 640, 'restaurant': 3658, 'fall': 1637, 'ex': 1549, 'lawyer': 2541, 'finally': 1724, 'marry': 2745, 'happens': 2029, 'desperately': 1209, 'involved': 2346, 'sexually': 3910, 'equally': 1510, 'odd': 3080, 'whom': 4875, 'loses': 2657, 'allowed': 190, 'stories': 4205, 'maybe': 2776, 'equal': 1509, 'result': 3660, 'developed': 1223, 'instance': 2304, 'parents': 3188, 'creepy': 1052, 'alcoholic': 177, 'depressed': 1187, 'desperate': 1208, 'jerk': 2395, 'manages': 2725, 'kick': 2460, 'drawn': 1351, 'women': 4923, 'overwhelming': 3157, 'exception': 1557, 'eccentric': 1414, 'side': 3965, 'recent': 3566, 'development': 1225, 'spend': 4105, 'prison': 3401, 'stealing': 4171, 'relatively': 3600, 'manage': 2722, 'giving': 1915, 'baby': 376, 'sex': 3907, 'screenplay': 3831, 'sadly': 3769, 'assume': 328, 'original': 3129, 'novel': 3052, 'include': 2261, 'losing': 2658, 'subplots': 4256, 'adds': 119, 'overall': 3150, 'develop': 1222, 'underlying': 4641, 'anyone': 259, 'add': 115, 'outside': 3146, 'average': 362, 'soap': 4047, 'opera': 3116, 'missed': 2867, 'including': 2264, 'fox': 1814, 'surprised': 4313, 'visual': 4757, 'fantasy': 1652, 'evil': 1548, 'everybody': 1540, 'lives': 2628, 'happily': 2030, 'dated': 1119, 'foot': 1781, 'piece': 3272, 'cinematic': 818, 'intellectual': 2312, 'thriller': 4472, 'grand': 1953, 'pace': 3161, 'moody': 2899, 'within': 4912, 'genius': 1887, 'includes': 2263, 'eye': 1611, 'ice': 2210, 'cold': 872, 'soundtrack': 4085, 'cuts': 1091, 'red': 3576, 'human': 2188, 'allows': 192, 'protagonist': 3441, 'seed': 3856, 'winter': 4900, 'moment': 2886, 'devils': 1229, 'minds': 2852, 'circumstances': 822, 'needed': 2988, 'wake': 4774, 'violent': 4748, 'ass': 323, 'victims': 4730, 'subtle': 4260, 'touches': 4535, 'riding': 3695, 'empty': 1465, 'hotel': 2175, 'garden': 1872, 'editing': 1421, 'continuity': 972, 'errors': 1516, 'discover': 1279, 'proud': 3444, 'terrifying': 4410, 'couldve': 1009, 'superb': 4296, 'captures': 678, 'form': 1798, 'terror': 4412, 'ties': 4490, 'eyed': 1612, 'mans': 2730, 'gone': 1935, 'loss': 2659, 'humanity': 2189, 'offensive': 3086, 'somebody': 4062, 'general': 1880, 'homage': 2141, 'facts': 1624, 'happened': 2027, 'terrorist': 4413, 'attack': 337, 'political': 3324, 'country': 1014, 'september': 3884, '11': 2, 'shame': 3918, 'doubt': 1332, 'jackie': 2374, 'chan': 746, 'porn': 3336, 'era': 1513, 'smart': 4035, 'critic': 1061, 'rate': 3526, 'entertained': 1498, 'boring': 543, 'stunts': 4246, 'pay': 3216, 'hes': 2093, 'park': 3190, 'safety': 3772, 'stunt': 4245, 'pieces': 3273, 'goes': 1930, 'talented': 4355, 'achievement': 94, 'hilariously': 2107, 'cage': 645, 'category': 718, 'hair': 2005, 'ears': 1402, 'sick': 3963, 'hero': 2088, 'interest': 2323, 'neil': 2995, 'female': 1693, 'females': 1694, 'pays': 3218, 'directly': 1263, 'enjoyed': 1486, 'strange': 4211, 'solely': 4056, 'ellen': 1446, 'visible': 4753, 'hope': 2155, 'deserves': 1201, 'oscar': 3133, 'white': 4870, 'gold': 1932, 'paint': 3173, 'working': 4944, 'believed': 455, 'highlights': 2104, 'nicholas': 3010, 'running': 3756, 'falling': 1639, 'hill': 2108, 'ms': 2931, 'wizard': 4919, 'oz': 3160, 'kicking': 2462, 'doors': 1329, 'missing': 2869, 'career': 686, 'dancing': 1107, 'screaming': 3827, 'burned': 626, 'bear': 420, 'costume': 1005, 'kidding': 2465, 'leaving': 2557, 'feet': 1688, 'lived': 2626, 'final': 1722, '15': 7, 'dreadful': 1353, 'yesterday': 4983, 'basement': 405, 'needless': 2989, 'loud': 2664, 'deserve': 1199, 'stopped': 4202, 'wonder': 4926, 'elaborate': 1439, 'scream': 3826, 'seriously': 3892, 'cult': 1077, 'hard': 2033, 'painfully': 3172, 'sit': 4003, 'european': 1530, 'producers': 3416, 'boy': 557, 'appreciated': 280, 'captain': 674, 'poorly': 3329, 'adapted': 114, 'similar': 3978, 'raised': 3508, 'honestly': 2147, 'cant': 671, 'cared': 685, 'situations': 4009, 'sequence': 3887, 'kept': 2456, 'walked': 4776, 'score': 3822, 'second': 3846, 'naked': 2959, 'positive': 3346, 'dust': 1388, 'talk': 4358, 'sea': 3838, 'crap': 1031, 'continue': 969, 'rough': 3741, 'small': 4033, 'simple': 3983, 'waste': 4808, 'ashley': 313, 'noticed': 3049, 'convinced': 984, 'extremely': 1610, 'college': 875, 'care': 684, 'dumb': 1385, 'feminist': 1695, 'male': 2719, 'indie': 2276, 'pleasantly': 3303, 'relevant': 3604, 'ill': 2228, 'sometimes': 4067, 'earth': 1403, 'youve': 4995, 'sun': 4292, 'killing': 2472, 'snow': 4045, 'cave': 727, 'cutting': 1092, 'somewhere': 4069, 'shooting': 3943, 'couldnt': 1008, 'bruce': 602, 'visually': 4758, 'stunning': 4244, 'cares': 690, 'act': 97, 'composed': 926, 'captured': 677, 'derek': 1192, 'locations': 2636, 'designs': 1204, 'costumes': 1006, 'perfectly': 3226, 'convey': 982, 'beauty': 430, 'youth': 4994, 'ways': 4822, 'tribute': 4581, 'bo': 521, 'commentary': 899, 'mentioning': 2812, 'anthony': 253, 'lover': 2672, 'portrayal': 3341, 'value': 4709, 'strength': 4219, 'wrapped': 4964, 'confidence': 938, 'security': 3854, 'anymore': 258, 'kill': 2468, 'virtually': 4751, 'wants': 4791, 'spoiler': 4123, 'needs': 2990, 'aint': 163, 'scary': 3807, 'works': 4945, 'comedy': 890, 'truth': 4599, 'arent': 288, 'interesting': 2325, 'robert': 3713, 'finale': 1723, 'ok': 3098, 'adding': 117, 'twist': 4617, 'dream': 1354, 'killers': 2471, 'provides': 3450, 'cameos': 658, 'cameo': 657, 'arnold': 296, 'devoid': 1230, 'shock': 3938, 'alice': 182, 'cooper': 990, 'johnny': 2410, 'pop': 3330, 'icon': 2211, 'debut': 1143, 'key': 2458, 'earlier': 1399, 'closing': 859, 'thirty': 4456, 'third': 4455, 'please': 3304, 'devoted': 1231, 'streisand': 4218, 'concert': 935, 'singing': 3995, 'easy': 1410, 'pile': 3275, 'clichés': 846, 'exist': 1569, 'deep': 1154, 'descent': 1193, 'meets': 2795, 'singer': 3993, 'hoffman': 2128, 'troubles': 4594, 'dog': 1310, 'names': 2963, 'random': 3514, 'acts': 107, 'represents': 3639, 'happiness': 2031, 'turn': 4605, 'creative': 1041, 'benefit': 465, 'handle': 2018, 'directed': 1259, 'frank': 1821, 'directorial': 1265, 'talents': 4356, 'display': 1291, 'draw': 1349, 'manipulative': 2727, 'certain': 737, 'emotional': 1459, 'numerous': 3062, 'ideal': 2214, 'choice': 797, 'rising': 3703, 'persona': 3239, 'performing': 3233, 'adult': 125, 'accepted': 82, 'otherwise': 3137, 'pops': 3332, 'established': 1524, 'forgive': 1795, 'poignant': 3315, 'oddly': 3081, 'caused': 724, 'climactic': 848, 'event': 1535, 'response': 3654, 'eight': 1436, 'toward': 4539, 'honesty': 2148, 'feelings': 1686, 'pride': 3391, 'context': 968, 'unless': 4669, 'brian': 576, 'gary': 1873, 'band': 391, 'print': 3399, 'styles': 4250, 'songs': 4072, 'queen': 3485, 'transfer': 4559, '2006': 36, 'clean': 838, 'digital': 1251, 'chief': 788, 'extras': 1608, 'feature': 1678, 'length': 2569, 'troubled': 4593, 'jon': 2416, 'peters': 3248, 'became': 431, 'producer': 3415, 'provided': 3449, 'specific': 4099, 'relate': 3593, 'tends': 4402, 'repeat': 3630, 'eg': 1434, 'playing': 3300, 'reel': 3581, 'amusing': 221, 'mixed': 2877, 'orange': 3125, 'twelve': 4611, 'included': 2262, 'comedies': 889, 'extended': 1604, 'asleep': 320, 'alternate': 200, 'musical': 2947, 'theatrical': 4430, 'trailers': 4555, 'versions': 4721, 'cinema': 816, 'stage': 4139, 'imagine': 2238, 'thousands': 4466, 'chemistry': 782, 'paper': 3183, 'revolves': 3682, 'unable': 4631, 'fault': 1668, 'decide': 1148, 'whether': 4866, 'importance': 2246, 'shines': 3932, 'bizarre': 492, 'conversation': 980, 'translation': 4562, 'silver': 3977, '12': 3, 'gorgeous': 1942, 'jane': 2380, 'aside': 315, 'tarzan': 4367, 'saga': 3773, 'hunters': 2200, 'search': 3841, 'defined': 1160, 'uncomfortable': 4637, 'racism': 3502, 'however': 2183, 'individuals': 2278, 'heroic': 2090, 'sympathy': 4343, 'lion': 2614, 'reactions': 3542, 'graphic': 1958, 'engaging': 1481, 'presentation': 3375, 'appealing': 272, 'necessarily': 2983, 'spy': 4135, 'carry': 700, 'single': 3996, 'offer': 3087, 'hook': 2152, 'loads': 2633, 'rip': 3700, 'weapon': 4828, 'feels': 1687, 'aspect': 321, 'deadly': 1133, 'ruthless': 3764, 'excited': 1561, 'satisfied': 3789, 'standards': 4145, 'ho': 2127, 'danger': 1109, 'hands': 2020, 'enter': 1494, 'cia': 814, 'cat': 713, 'mouse': 2919, 'chases': 771, 'begins': 444, 'aging': 153, 'moore': 2901, 'mess': 2818, 'perry': 3237, 'aspects': 322, 'taste': 4369, 'inner': 2292, 'conflict': 939, 'television': 4394, 'train': 4556, 'station': 4164, 'chosen': 805, 'pregnant': 3369, 'forced': 1787, 'protagonists': 3442, 'expressions': 1603, 'cannot': 670, 'entire': 1502, 'lazy': 2543, 'lyrics': 2692, 'song': 4071, 'heat': 2067, 'originality': 3130, 'create': 1036, 'sunshine': 4294, 'animation': 242, 'passion': 3205, 'crafted': 1029, 'charm': 767, 'curious': 1083, 'knows': 2493, 'sky': 4017, 'telling': 4396, 'embarrassing': 1454, 'moments': 2887, 'returning': 3667, 'smoking': 4040, 'anti': 254, 'commercial': 902, 'ad': 110, 'mark': 2739, 'admit': 122, 'practically': 3362, 'damn': 1100, 'holds': 2131, 'respect': 3652, 'review': 3676, 'loves': 2674, 'completely': 922, 'kid': 2464, 'involve': 2345, 'account': 89, 'synopsis': 4344, 'program': 3424, 'behavior': 446, 'met': 2822, 'kids': 2467, 'obsession': 3070, 'freak': 1824, 'connected': 945, 'model': 2880, 'serve': 3893, 'gang': 1867, 'alright': 198, 'type': 4621, 'brought': 600, 'sucks': 4271, 'horrendous': 2162, 'total': 4531, 'elizabeth': 1445, 'topless': 4527, '35': 45, 'grade': 1951, 'dolph': 1317, 'guess': 1989, 'succeed': 4262, 'regardless': 3590, 'reviews': 3679, 'teenager': 4390, 'teens': 4392, 'stereotypical': 4180, 'nobody': 3022, 'friendly': 1836, 'disturbed': 1299, 'broken': 594, 'agrees': 157, 'laid': 2508, 'tune': 4602, 'universe': 4666, 'trust': 4598, 'generic': 1885, 'color': 877, 'gotten': 1947, 'writers': 4969, 'drugs': 1374, 'schools': 3814, 'shop': 3945, 'painting': 3175, 'easier': 1405, 'cars': 702, 'truck': 4595, 'sell': 3871, 'remotely': 3623, 'hours': 2177, 'handful': 2017, 'finding': 1727, 'chair': 742, 'hundreds': 2196, 'bullets': 621, 'usually': 4700, 'hundred': 2195, 'fired': 1735, 'million': 2847, 'amazed': 208, 'figured': 1712, 'year': 4978, 'adorable': 124, 'domestic': 1318, 'cute': 1090, 'wait': 4770, 'generations': 1884, 'embarrassed': 1453, 'fat': 1663, 'greek': 1970, 'wedding': 4836, 'notice': 3048, 'prove': 3445, 'win': 4892, 'green': 1971, 'kevin': 2457, 'vhs': 4725, 'edition': 1422, 'abc': 63, 'edited': 1420, 'inane': 2258, 'listen': 2619, 'max': 2774, 'artists': 309, 'vast': 4716, 'majority': 2712, 'site': 4005, 'conclusion': 936, 'besides': 468, 'bourne': 554, 'ride': 3692, 'whats': 4860, 'changing': 752, 'shots': 3950, 'wishing': 4907, 'attempts': 343, 'introduced': 2337, 'installment': 2303, 'suspense': 4330, '2007': 37, 'quit': 3494, 'entirely': 1503, 'matt': 2768, 'damon': 1101, 'kinds': 2478, 'barely': 399, 'chooses': 800, 'types': 4622, 'anyways': 262, 'reading': 3544, 'books': 536, 'videos': 4734, 'corporate': 998, 'tedious': 4387, 'cheesy': 781, 'twilight': 4614, 'zone': 4999, 'episode': 1507, 'turned': 4606, 'seemingly': 3863, 'endless': 1473, 'swimming': 4338, 'pool': 3327, 'phone': 3255, 'matrix': 2767, 'yellow': 4981, 'exciting': 1563, 'famous': 1647, 'personalities': 3241, 'started': 4157, 'finish': 1732, 'cure': 1081, 'raw': 3532, 'honest': 2146, 'painted': 3174, 'below': 462, 'escape': 1517, 'grave': 1962, 'friday': 1834, '13th': 5, 'legend': 2564, 'followed': 1773, 'stay': 4166, 'joke': 2414, 'politics': 3326, 'mask': 2752, 'rather': 3528, 'slightly': 4029, 'attractive': 351, 'girls': 1911, 'successful': 4266, 'wing': 4896, 'message': 2819, 'spiritual': 4116, 'artistic': 308, 'bar': 396, 'states': 4163, 'allow': 189, 'drug': 1373, 'neck': 2985, 'staff': 4138, 'dangerous': 1110, 'illegal': 2229, 'legs': 2566, 'frankly': 1823, 'disturbing': 1300, 'jerry': 2396, 'discussion': 1284, 'filmmakers': 1720, 'thoughts': 4464, 'wasted': 4809, 'documentary': 1307, 'futuristic': 1857, 'served': 3894, 'supposed': 4306, 'thoughtful': 4463, 'problem': 3408, 'try': 4600, 'views': 4742, 'maria': 2736, 'married': 2744, 'combat': 882, 'explosion': 1596, 'ripped': 3701, 'building': 615, 'begin': 442, 'sign': 3970, 'street': 4216, 'strike': 4224, 'marriage': 2743, 'rocks': 3722, 'held': 2074, 'russian': 3762, 'camp': 662, 'depressing': 1188, 'trouble': 4592, 'shell': 3927, 'means': 2783, 'soldier': 4053, 'died': 1244, 'occurs': 3078, 'rap': 3520, 'safe': 3771, 'german': 1896, 'businessman': 634, 'effectively': 1430, 'sympathetic': 4342, 'becoming': 435, 'mistress': 2874, 'company': 910, 'fascinating': 1658, 'cake': 648, 'ten': 4399, 'whenever': 4863, 'expensive': 1579, 'secretary': 3850, 'position': 3345, 'alone': 194, 'fond': 1776, 'confused': 941, 'soul': 4079, 'searching': 3842, 'sends': 3876, 'canada': 666, 'released': 3603, 'coming': 896, 'appear': 273, 'melodrama': 2797, 'reaction': 3541, 'let': 2579, 'alive': 186, 'minded': 2850, 'technique': 4383, 'storyline': 4208, 'radio': 3504, 'speaks': 4096, 'germany': 1898, 'streets': 4217, 'sees': 3866, 'dress': 1357, 'essence': 1521, 'loving': 2675, 'trilogy': 4586, 'prefer': 3368, 'study': 4242, 'lose': 2654, 'personality': 3242, 'seemed': 3862, 'animal': 239, 'frequent': 1831, 'cinematographer': 819, 'sid': 3964, 'knew': 2486, 'listed': 2618, 'racist': 3503, 'exists': 1573, 'educational': 1425, 'system': 4345, 'failed': 1626, 'responsible': 3656, 'touched': 4534, 'spoke': 4125, 'thomas': 4458, 'al': 170, 'theory': 4437, 'global': 1920, 'warming': 4795, 'oil': 3097, 'professional': 3421, 'science': 3816, 'ideas': 2215, 'risk': 3704, 'according': 88, 'decides': 1150, 'psychiatrist': 3455, 'unnecessary': 4672, 'wild': 4885, 'bill': 481, 'viewed': 4737, 'incomprehensible': 2267, 'garbage': 1870, 'rarely': 3524, 'showed': 3956, 'magic': 2703, 'witch': 4909, 'miles': 2843, 'disappear': 1270, 'harvey': 2042, 'picks': 3268, 'joan': 2404, 'hart': 2041, 'bands': 392, 'listening': 2620, 'plus': 3311, 'continued': 970, 'began': 441, 'audio': 354, 'kudos': 2497, 'horrid': 2165, 'actress': 105, 'recently': 3567, 'resembles': 3646, 'blame': 499, 'gay': 1876, 'rape': 3521, 'apparent': 269, 'clumsy': 866, 'covers': 1024, 'sensitive': 3879, 'cover': 1022, 'difficult': 1249, 'heres': 2087, 'huh': 2187, 'road': 3709, 'doll': 1313, 'shouldnt': 3952, 'yeah': 4977, 'crash': 1033, 'boom': 537, 'tears': 4380, 'open': 3112, 'letter': 2581, 'wow': 4962, 'improved': 2255, 'kinda': 2477, 'torture': 4529, 'tree': 4576, 'plant': 3293, 'forgot': 1796, 'awake': 365, 'anime': 243, 'kiss': 2483, 'ya': 4976, 'yelling': 4980, 'lips': 2615, 'hurt': 2202, 'rose': 3739, 'twins': 4616, 'twin': 4615, 'sister': 4001, 'tried': 4584, 'jenny': 2393, 'craig': 1030, 'south': 4087, 'size': 4012, 'dear': 1140, 'broke': 593, 'cases': 708, 'attacked': 338, 'kicks': 2463, 'cartoon': 704, 'forget': 1793, 'cell': 730, 'rings': 3699, 'dropped': 1370, 'kate': 2446, 'gun': 1996, 'nick': 3012, 'choices': 798, 'gonna': 1936, 'flashbacks': 1747, 'seventies': 3904, 'months': 2897, 'innocent': 2294, 'contract': 973, 'sequel': 3885, 'thoroughly': 4459, 'comedian': 887, 'recall': 3562, 'worthy': 4956, 'charisma': 762, 'speaking': 4095, 'technical': 4381, 'experience': 1580, 'adam': 111, 'sandler': 3781, 'popular': 3333, 'survive': 4321, 'exposure': 1599, 'proves': 3447, 'effective': 1429, 'parker': 3191, 'richard': 3686, 'harris': 2038, 'africa': 141, 'tracks': 4545, 'tells': 4397, 'monster': 2892, 'ape': 266, 'monkey': 2890, 'normally': 3034, 'opinions': 3119, 'sole': 4055, 'notes': 3046, 'word': 4937, 'summary': 4290, 'guide': 1993, 'lower': 2677, 'bomb': 531, 'meet': 2793, 'points': 3319, 'cgi': 740, 'hadnt': 2004, 'superman': 4301, 'kills': 2474, 'spent': 4108, 'hospital': 2172, 'doctors': 1305, 'alien': 183, 'cause': 723, 'technology': 4385, 'advance': 127, 'wondering': 4930, 'till': 4493, 'therefore': 4439, 'known': 2492, 'slowly': 4032, 'hearing': 2063, 'mixture': 2878, 'unfunny': 4655, 'toilet': 4512, 'drama': 1346, 'witty': 4917, 'secondly': 3847, 'hysterical': 2208, 'came': 656, 'kapoor': 2443, 'idiots': 2220, 'mentioned': 2811, 'flaw': 1749, 'firstly': 1737, 'four': 1812, 'twists': 4619, 'responsibility': 3655, 'repeated': 3631, 'law': 2538, 'arrived': 301, 'italian': 2367, 'sadness': 3770, 'ordinary': 3128, 'dimensional': 1253, 'storytelling': 4209, 'motivations': 2915, 'madness': 2698, 'trip': 4588, 'condition': 937, 'granted': 1957, 'impressive': 2253, 'near': 2979, 'explaining': 1588, 'subject': 4253, 'enjoyment': 1488, 'offered': 3088, 'drink': 1361, 'accent': 78, 'spoken': 4126, 'lucky': 2683, 'spot': 4131, 'barry': 401, 'actual': 108, 'inappropriate': 2259, 'pit': 3278, 'visits': 4756, '70s': 56, 'allen': 188, 'joined': 2413, 'absolute': 71, 'disaster': 1276, 'threw': 4470, 'hoping': 2160, 'bet': 470, 'teachers': 4376, 'embarrassment': 1455, 'thank': 4421, 'destroy': 1213, 'morgan': 2905, 'laura': 2536, 'careers': 687, 'atrocious': 335, 'demented': 1176, 'aged': 149, 'involves': 2348, 'dad': 1095, 'suggests': 4282, 'understandable': 4644, 'steve': 4181, 'resist': 3648, 'gandhi': 1866, 'cry': 1073, 'freedom': 1828, 'newspaper': 3006, 'switch': 4339, 'friendship': 1838, 'border': 539, 'nominated': 3025, 'denzel': 1181, 'washington': 4806, 'fourth': 1813, 'struggles': 4235, 'focusing': 1769, 'exactly': 1551, 'box': 555, 'tremendous': 4579, 'flop': 1760, 'vote': 4766, 'rare': 3523, 'pity': 3281, 'laughter': 2535, 'track': 4544, 'drew': 1360, 'weird': 4841, 'following': 1774, 'ps': 3453, 'sarah': 3785, 'pretentious': 3383, 'hardly': 2036, 'claim': 828, 'cable': 644, 'sight': 3969, 'treated': 4573, 'pink': 3277, 'crying': 1074, 'matters': 2770, 'difference': 1246, 'actresses': 106, 'explicit': 1591, 'admittedly': 123, 'terms': 4406, 'womens': 4924, 'bodies': 526, 'ran': 3513, 'ago': 154, 'silent': 3975, 'shirley': 3936, 'deal': 1135, 'longer': 2645, 'possible': 3350, 'prostitute': 3440, 'eric': 1514, 'roberts': 3714, 'impossible': 2249, 'dean': 1139, 'utterly': 4702, 'sounds': 4084, 'frame': 1815, 'caught': 722, 'edge': 1418, 'robbins': 3712, 'blues': 519, 'ultimately': 4628, 'content': 966, 'unfolds': 4651, 'makers': 2715, 'actions': 101, 'manner': 2729, 'presented': 3376, 'symbolism': 4341, 'visuals': 4759, 'dozens': 1339, 'perfection': 3225, 'delivers': 1172, 'warm': 4794, 'affected': 137, 'page': 3167, 'flawed': 1750, 'dead': 1132, 'admire': 121, 'parallel': 3185, 'accident': 84, 'blacks': 494, 'stylish': 4251, 'masses': 2755, 'amateur': 206, 'appearing': 277, 'bland': 500, 'thumbs': 4485, 'saving': 3797, 'grace': 1950, 'khan': 2459, 'tim': 4494, 'thin': 4449, 'air': 164, 'stinker': 4191, 'honor': 2150, 'hat': 2045, 'available': 361, 'free': 1827, 'overcome': 3151, '80': 58, 'banned': 395, 'bush': 632, '2002': 32, 'irish': 2353, 'kim': 2475, 'cameras': 660, 'rolling': 3730, 'national': 2970, 'media': 2789, 'millions': 2848, 'military': 2844, 'tend': 4400, 'ranks': 3519, 'vegas': 4717, 'stupidity': 4248, 'cringe': 1059, 'pain': 3170, 'constantly': 958, 'remote': 3622, 'terrorists': 4414, 'ensues': 1493, 'unpleasant': 4674, 'hoped': 2156, 'nail': 2957, 'bird': 484, 'providing': 3451, 'relief': 3605, 'alex': 179, 'judging': 2425, 'picked': 3266, 'monsters': 2893, 'toy': 4542, 'scooby': 3820, 'doo': 1325, 'suck': 4269, 'hired': 2117, 'bought': 552, 'georges': 1894, 'grown': 1984, 'wouldve': 4959, 'online': 3109, 'wood': 4933, 'bloody': 513, 'existent': 1572, 'advise': 134, 'spoil': 4121, 'inventive': 2341, 'reviewers': 3678, 'claimed': 829, 'worthless': 4954, 'sat': 3786, 'copy': 994, 'attempting': 342, 'genuinely': 1892, 'sum': 4289, 'gags': 1862, 'humour': 2194, 'fails': 1628, 'miserably': 2864, 'meaningful': 2781, 'connection': 946, 'quirky': 3493, 'vengeance': 4719, 'showcase': 3954, 'area': 286, 'evident': 1547, 'measure': 2786, 'generous': 1886, 'muslim': 2949, 'french': 1830, 'attitudes': 347, 'values': 4710, 'discuss': 1283, 'ironic': 2355, 'talks': 4361, 'grew': 1972, 'understanding': 4645, 'resolution': 3649, 'phony': 3256, 'insight': 2298, 'younger': 4990, 'generation': 1883, 'slow': 4031, 'relationship': 3597, 'intense': 2316, 'realism': 3549, 'bore': 540, 'misses': 2868, 'beats': 426, 'watchable': 4812, 'badly': 383, 'concerns': 934, 'computer': 927, 'credibility': 1047, 'maggie': 2702, 'flat': 1748, 'bob': 524, 'ahead': 159, 'fly': 1763, 'brazil': 568, 'fish': 1738, 'laughable': 2530, 'drivel': 1364, 'paced': 3162, 'bedroom': 437, 'solid': 4057, 'couples': 1017, 'julia': 2427, 'chris': 806, 'attorney': 348, 'plastic': 3294, 'beautifully': 429, 'herself': 2092, 'engaged': 1480, 'girlfriend': 1910, 'alexander': 180, 'secretly': 3851, 'lifestyle': 2593, 'pass': 3201, 'plan': 3287, 'motion': 2913, 'asking': 318, 'quote': 3496, 'stays': 4169, 'piano': 3264, 'silence': 3974, 'ruin': 3750, 'practice': 3363, 'jealous': 2388, 'lengthy': 2570, 'suppose': 4305, 'surrounded': 4318, 'experienced': 1581, 'hardcore': 2034, 'wrap': 4963, 'fred': 1825, 'impressed': 2251, 'glad': 1916, 'shed': 3924, 'welcome': 4842, 'mel': 2796, 'dollar': 1314, 'burt': 629, 'reynolds': 3684, 'messed': 2821, 'remind': 3618, 'pulp': 3465, 'fiction': 1702, 'thief': 4448, 'delivery': 1173, 'stolen': 4195, 'retired': 3664, 'routine': 3743, 'fancy': 1649, 'unrealistic': 4677, 'hey': 2095, 'combination': 883, 'jobs': 2406, 'mrs': 2930, 'describe': 1194, 'con': 928, 'snake': 4042, 'thrillers': 4473, 'bringing': 586, 'asked': 317, 'sean': 3840, 'outfit': 3144, 'charles': 764, 'hunter': 2199, 'spooky': 4128, 'gothic': 1945, 'serial': 3889, 'consists': 955, 'seven': 3903, 'protect': 3443, 'likewise': 2603, 'folks': 1771, 'boat': 523, 'martin': 2748, 'purely': 3472, 'spread': 4133, 'showdown': 3955, 'ship': 3934, 'via': 4726, 'testament': 4417, 'remake': 3612, 'kenneth': 2455, 'branagh': 564, 'chasing': 772, 'familys': 1646, 'hunting': 2201, 'board': 522, 'similarly': 3980, 'murderous': 2942, 'pulling': 3463, 'space': 4090, 'driven': 1365, 'movement': 2923, 'bound': 553, 'format': 1799, 'damage': 1099, 'tension': 4404, 'junior': 2435, 'contains': 964, 'amounts': 220, '90s': 61, 'fortune': 1806, 'unlike': 4670, 'comfortable': 892, 'claims': 830, '1972': 18, 'warning': 4800, 'substance': 4258, 'celluloid': 731, 'insult': 2309, 'filled': 1715, 'jr': 2423, 'painful': 3171, 'gangsters': 1869, 'steal': 4170, 'amount': 219, 'treasure': 4571, 'belongs': 460, 'eastern': 1408, 'countries': 1013, 'soviet': 4089, 'union': 4661, 'nations': 2971, 'corruption': 1002, 'tired': 4501, 'essential': 1522, 'imdb': 2240, 'credit': 1049, 'artificial': 306, 'latest': 2526, 'curtis': 1087, 'childish': 791, 'sentimental': 3882, 'behave': 445, 'rental': 3627, 'minimum': 2856, 'trashy': 4566, 'lessons': 2578, 'paid': 3169, 'supernatural': 4302, 'tales': 4357, 'bbc': 417, 'lighting': 2596, 'virus': 4752, 'zombies': 4998, 'week': 4837, 'photo': 3257, 'ring': 3698, '45': 50, 'hold': 2129, 'seat': 3845, 'future': 1856, 'thrilling': 4474, 'fears': 1677, 'nicholson': 3011, 'danny': 1112, 'lloyd': 2630, 'talked': 4359, 'mini': 2854, 'stanley': 4148, 'shining': 3933, 'count': 1010, 'weeks': 4839, 'degree': 1164, 'returns': 3668, 'unit': 4663, 'murdered': 2940, 'tongue': 4518, 'cheek': 779, 'dislike': 1288, 'challenging': 744, 'overacting': 3149, 'satire': 3788, 'andrew': 228, 'victim': 4729, 'nelson': 2997, 'psycho': 3457, 'clever': 841, 'brains': 563, 'whoever': 4872, 'letting': 2583, 'realizes': 3554, 'ambitious': 211, 'capture': 676, 'inevitable': 2282, 'regarding': 3589, 'photographed': 3258, 'sophisticated': 4075, 'uses': 4697, 'techniques': 4384, 'angles': 237, 'target': 4366, 'suddenly': 4273, 'uninteresting': 4660, 'bears': 421, 'nostalgia': 3038, 'deliberately': 1166, 'seek': 3858, 'compelling': 916, 'europe': 1529, 'obsessed': 3069, 'paying': 3217, 'eventually': 1537, 'territory': 4411, 'narrative': 2966, 'vaguely': 4706, 'consistent': 953, 'abandoned': 62, 'happening': 2028, 'screening': 3830, 'particular': 3194, 'remarkably': 3614, 'bed': 436, 'merit': 2816, 'bothered': 549, 'gray': 1963, 'mad': 2696, 'receive': 3563, 'ignored': 2225, 'received': 3564, 'market': 2740, 'novels': 3053, 'expecting': 1578, 'nostalgic': 3039, 'pot': 3354, 'communist': 907, 'theyll': 4444, 'creating': 1039, 'meaningless': 2782, 'connect': 944, 'projects': 3428, 'defend': 1158, 'unwatchable': 4682, 'classes': 834, 'tough': 4537, 'weve': 4856, 'tony': 4521, 'blair': 497, 'ashamed': 312, 'fi': 1701, 'sixties': 4011, 'candy': 668, 'filmmaker': 1719, 'jeremy': 2394, 'davies': 1125, 'roman': 3731, 'gerard': 1895, 'boss': 546, 'rival': 3706, 'inept': 2281, 'details': 1219, 'paris': 3189, 'faster': 1662, 'understated': 4646, 'dialog': 1232, 'examples': 1554, 'ah': 158, 'le': 2544, 'annie': 247, 'signs': 3973, 'lay': 2542, 'montage': 2894, 'scheme': 3812, 'decisions': 1152, 'glass': 1917, 'limited': 2606, 'brief': 579, 'false': 1641, 'president': 3378, 'delightful': 1168, 'quiet': 3492, '14': 6, 'wished': 4905, 'kung': 2498, 'fu': 1844, 'date': 1118, 'pick': 3265, 'rent': 3626, 'lake': 2509, 'pleasant': 3302, 'academy': 77, 'freeman': 1829, 'timing': 4498, 'mom': 2885, 'steven': 4182, 'funniest': 1851, 'harder': 2035, 'nuts': 3064, 'arms': 294, 'beliefs': 452, 'complain': 919, 'watches': 4814, 'sunday': 4293, 'morning': 2906, 'selling': 3873, 'spare': 4093, 'bitter': 491, 'von': 4765, 'parody': 3192, 'elvira': 1450, 'core': 995, 'broadway': 592, 'sisters': 4002, 'age': 148, '100': 1, 'ruby': 3749, 'amy': 222, 'reporter': 3636, 'flashback': 1746, 'present': 3374, 'combined': 885, 'performed': 3230, 'fighting': 1709, 'constant': 957, 'boot': 538, 'matthew': 2772, 'helping': 2081, 'filming': 1718, 'confusion': 943, 'increasingly': 2268, 'tad': 4347, 'added': 116, 'gritty': 1977, '1968': 16, 'flicks': 1755, 'subsequent': 4257, 'proved': 3446, 'skill': 4013, 'sandra': 3782, 'drags': 1345, 'finger': 1731, 'button': 639, 'notch': 3043, 'curiosity': 1082, 'jean': 2389, 'ritter': 3705, 'deserved': 1200, 'nomination': 3026, 'photography': 3260, 'widmark': 4882, 'romance': 3732, 'recommended': 3572, 'possibly': 3351, 'reached': 3537, 'uk': 4626, 'dinosaurs': 1256, 'rubber': 3747, 'sneak': 4043, 'preview': 3386, 'cities': 823, 'robin': 3715, 'football': 1783, 'sports': 4130, 'express': 1600, 'differences': 1247, 'asks': 319, 'throw': 4479, 'nose': 3037, 'refuses': 3587, 'remains': 3611, 'winds': 4895, 'crazy': 1035, 'raising': 3509, 'saves': 3796, 'tragedy': 4551, 'falk': 1636, 'clue': 864, 'warren': 4801, 'deliver': 1169, 'sleazy': 4023, 'columbo': 881, 'reminds': 3620, 'causes': 725, 'spoiled': 4122, 'drunk': 1375, 'linda': 2609, 'pull': 3461, 'soft': 4051, 'lovely': 2671, 'brosnan': 597, 'mexico': 2827, 'ironically': 2356, 'noble': 3021, 'surface': 4310, 'birthday': 487, 'reaches': 3538, 'rules': 3754, 'strangely': 4212, 'intrigued': 2334, 'reminiscent': 3621, 'midnight': 2834, 'fresh': 1833, 'nevertheless': 3002, 'complexity': 924, 'teeth': 4393, 'balance': 387, 'stale': 4141, 'regular': 3592, 'pulled': 3462, 'loyal': 2679, 'mysterious': 2955, 'ourselves': 3140, 'holding': 2130, 'impact': 2244, 'hasnt': 2044, 'pacing': 3163, 'focused': 1767, 'figures': 1713, 'trite': 4589, 'hopefully': 2157, 'decade': 1144, 'thru': 4483, 'entertain': 1497, 'fire': 1734, 'gene': 1879, 'simmons': 3981, 'recording': 3575, 'halloween': 2010, 'brings': 587, 'helps': 2082, 'holmes': 2139, 'guarantee': 1987, 'cox': 1026, 'murders': 2943, 'variety': 4714, 'mostly': 2910, 'pathetic': 3210, 'jump': 2429, 'cards': 683, 'fallen': 1638, 'wicked': 4879, 'heavily': 2069, 'walls': 4783, 'photos': 3261, 'wreck': 4965, 'ted': 4386, 'lisa': 2616, 'trio': 4587, 'criminals': 1058, 'lucas': 2680, 'timothy': 4499, 'blake': 498, 'surrounding': 4319, 'collection': 874, 'disappoint': 1272, 'mine': 2853, 'segment': 3867, 'vampire': 4711, 'wes': 4851, 'section': 3853, 'bits': 490, 'la': 2500, 'showing': 3958, 'redeeming': 3577, 'qualities': 3483, 'service': 3896, 'distracting': 1297, 'infamous': 2284, 'cg': 739, 'reasonable': 3558, 'spin': 4112, 'elsewhere': 1449, 'cried': 1054, 'fabulous': 1615, 'mickey': 2831, 'recognized': 3570, 'historically': 2120, 'accurate': 90, 'jumped': 2430, 'shut': 3961, 'disgusting': 1286, 'fortunately': 1805, 'ladies': 2506, 'studio': 4240, 'cops': 993, 'france': 1816, 'march': 2734, 'de': 1131, 'mexican': 2826, 'crude': 1069, 'portrait': 3339, 'redemption': 3578, 'brave': 567, 'hits': 2125, 'press': 3379, 'timeless': 4496, 'arrogant': 303, 'serving': 3897, 'members': 2801, 'irrelevant': 2358, 'abilities': 64, 'berlin': 467, 'festival': 1697, 'sue': 4274, 'anna': 245, 'convince': 983, 'destroyed': 1214, 'rotten': 3740, 'society': 4050, 'deeper': 1155, 'gender': 1878, 'relations': 3596, 'reflection': 3585, 'fate': 1665, 'store': 4204, 'buying': 641, 'broad': 590, 'believes': 456, 'dull': 1384, 'complex': 923, 'murderer': 2941, 'messages': 2820, 'vampires': 4712, 'portrayed': 3342, 'creatures': 1046, 'body': 527, 'sword': 4340, 'respected': 3653, 'arm': 292, 'plain': 3286, 'adaptation': 113, 'oliver': 3102, 'reed': 3580, 'christopher': 811, 'hugh': 2186, 'grant': 1956, 'hearts': 2066, 'link': 2613, 'diana': 1237, 'noted': 3045, 'depression': 1189, 'oscars': 3134, 'realized': 3553, 'community': 908, 'groups': 1981, 'primary': 3394, 'contrast': 975, 'physically': 3263, 'survival': 4320, 'raise': 3507, 'dignity': 1252, 'crew': 1053, 'flying': 1764, 'private': 3404, 'dvds': 1392, 'adults': 126, 'gotta': 1946, 'gory': 1943, 'corny': 997, 'intended': 2315, 'liners': 2611, 'scarecrow': 3804, 'emily': 1456, 'heck': 2071, 'definition': 1163, 'physical': 3262, 'captivating': 675, 'opposed': 3122, 'insulting': 2310, 'competent': 917, 'mid': 2832, 'leg': 2562, 'simplistic': 3985, 'struggle': 4234, 'block': 508, 'analysis': 224, 'west': 4852, 'ken': 2453, 'complicated': 925, 'realise': 3548, 'michelle': 2830, 'answers': 252, 'task': 4368, 'california': 650, 'ford': 1789, 'borrowed': 545, 'jake': 2377, 'spectacular': 4101, 'catch': 714, 'twisted': 4618, 'unfortunate': 4653, 'mouth': 2920, '16': 8, 'higher': 2101, 'primarily': 3393, 'hang': 2022, 'molly': 2884, 'scott': 3824, 'daniel': 1111, 'vivid': 4760, 'colors': 879, 'shadows': 3913, 'wendy': 4846, 'delivered': 1170, 'circle': 821, 'knowing': 2490, 'dialogs': 1233, 'wed': 4835, 'official': 3094, 'tunes': 4603, 'interview': 2329, '1996': 26, 'army': 295, 'similarities': 3979, 'opposite': 3123, 'thrown': 4481, 'fill': 1714, 'addition': 118, 'culture': 1079, 'whereas': 4865, 'church': 813, 'robots': 3718, 'afford': 138, 'battles': 415, 'cowboy': 1025, 'exercise': 1568, 'mst3k': 2932, 'plenty': 3307, 'cube': 1076, 'plausible': 3295, 'jet': 2400, 'li': 2587, 'spider': 4109, 'words': 4938, 'lasted': 2522, 'tonight': 4519, 'match': 2762, 'amitabh': 216, 'smooth': 4041, 'gifted': 1907, 'challenge': 743, 'sub': 4252, 'dude': 1381, 'nine': 3017, 'outer': 3143, 'lena': 2568, 'texas': 4418, 'understood': 4647, 'boredom': 542, 'remembered': 3617, '2nd': 41, '3rd': 47, 'romantic': 3733, 'royal': 3746, 'household': 2179, 'sets': 3899, 'imaginative': 2237, 'stretch': 4221, 'remarkable': 3613, 'won': 4925, 'awards': 367, 'haunting': 2051, 'overdone': 3152, 'whatsoever': 4861, 'da': 1094, 'magazine': 2701, 'delivering': 1171, 'ghosts': 1903, 'dressed': 1358, 'grim': 1974, 'smoke': 4039, 'creature': 1045, 'rooms': 3736, 'purple': 3473, 'unintentionally': 4659, 'brutal': 603, 'wasting': 4810, 'price': 3389, 'luckily': 2682, 'scripts': 3836, 'overrated': 3156, 'pie': 3271, 'buck': 605, 'spring': 4134, 'bucks': 606, 'nyc': 3065, 'frustration': 1843, 'artist': 307, 'pair': 3176, 'cultural': 1078, '1950s': 14, 'dorothy': 1330, 'holy': 2140, 'childrens': 793, 'ruined': 3751, 'lesser': 2576, 'leo': 2571, 'outrageous': 3145, 'repetitive': 3633, 'cousin': 1021, 'knock': 2488, 'smiling': 4037, 'donna': 1323, 'dragged': 1343, 'placed': 3283, 'guessing': 1991, 'fair': 1630, 'criticism': 1063, 'scared': 3805, 'broadcast': 591, 'impression': 2252, 'explored': 1595, 'dialogues': 1235, 'invisible': 2344, 'trained': 4557, 'buried': 624, 'mirror': 2861, 'coffee': 870, 'aid': 160, 'perspective': 3245, 'vacation': 4704, 'critical': 1062, 'assistant': 326, 'wishes': 4906, 'grows': 1985, 'transition': 4561, 'draws': 1352, 'intrigue': 2333, 'noir': 3023, 'older': 3101, 'progresses': 3426, 'resources': 3651, 'remain': 3609, 'awkward': 374, 'distinct': 1296, 'apartment': 265, 'aunt': 355, 'revolution': 3680, 'kingdom': 2480, 'promised': 3431, 'greatly': 1967, 'kings': 2481, 'golden': 1934, '1940s': 13, 'appreciation': 281, 'appeal': 271, 'goofy': 1939, 'comedic': 888, 'lacked': 2503, 'frustrated': 1842, 'par': 3184, 'mildly': 2840, 'justin': 2440, 'uninspired': 4657, 'inspired': 2301, 'exaggerated': 1552, 'currently': 1085, 'stewart': 4184, 'nearby': 2980, 'bat': 410, 'medical': 2790, 'immediately': 2242, 'seeking': 3859, 'attacks': 339, 'steals': 4172, 'runs': 3757, 'develops': 1226, 'sheriff': 3929, 'mystery': 2956, 'reasonably': 3559, 'relies': 3606, 'sequels': 3886, 'web': 4833, 'packed': 3166, 'henry': 2084, 'field': 1704, 'trademark': 4548, 'glenn': 1918, 'brilliantly': 584, 'someones': 4065, 'flash': 1745, 'surprising': 4315, 'nicely': 3009, 'buffs': 612, 'attracted': 349, 'flight': 1757, 'rachel': 3500, 'rush': 3759, 'cliche': 843, 'bite': 489, 'cost': 1003, 'determined': 1221, 'orders': 3127, 'combine': 884, 'execution': 1566, 'capable': 672, 'larger': 2519, 'sloppy': 4030, 'stilted': 4190, 'biggest': 480, 'horses': 2171, 'sudden': 4272, 'corner': 996, 'horse': 2170, 'ireland': 2352, 'turning': 4608, 'footage': 1782, 'stomach': 4196, 'intent': 2318, 'bargain': 400, 'bin': 483, 'uwe': 4703, 'heston': 2094, 'settings': 3901, 'explanation': 1590, 'surprisingly': 4316, 'faces': 1618, 'obscure': 3068, 'dubbed': 1379, 'cheap': 774, 'willing': 4889, 'accompanied': 86, 'technically': 4382, 'inferior': 2285, 'deeply': 1156, '60': 53, 'changed': 750, 'brenda': 575, 'julie': 2428, 'guest': 1992, 'appearances': 275, 'reunion': 3669, 'network': 3000, 'carried': 698, 'myers': 2952, 'chicks': 787, 'succeeds': 4264, 'jamie': 2379, 'lee': 2559, 'paranoia': 3186, 'zero': 4996, 'suggested': 4281, 'diane': 1238, 'keaton': 2448, 'chain': 741, 'irritating': 2359, 'suffers': 4278, 'briefly': 580, 'string': 4227, 'distant': 1295, 'relative': 3599, 'industry': 2280, 'suffering': 4277, 'lovable': 2668, 'dogs': 1311, 'pictures': 3270, 'slap': 4018, 'subtitles': 4259, 'distribution': 1298, 'merits': 2817, 'parties': 3196, 'mothers': 2912, 'elegant': 1441, 'breaks': 571, 'inspector': 2299, 'victor': 4731, 'epic': 1506, 'virgin': 4749, 'bare': 398, 'eat': 1411, 'dolls': 1316, 'ian': 2209, 'nonsense': 3030, 'trash': 4565, 'importantly': 2248, 'bang': 393, 'indeed': 2271, 'seconds': 3848, 'utter': 4701, 'cannibal': 669, 'devil': 1228, 'hanging': 2023, 'ground': 1979, 'grab': 1949, 'emma': 1457, 'paltrow': 3178, 'attempted': 341, 'mountain': 2917, 'displayed': 1292, '1983': 22, 'mountains': 2918, 'relation': 3595, 'defeat': 1157, 'spirits': 4115, 'tiger': 4491, 'dragon': 1344, 'storm': 4206, 'checking': 778, 'approach': 282, 'ups': 4686, 'rule': 3753, 'calling': 653, 'card': 681, 'amateurish': 207, 'mistakes': 2873, 'props': 3439, 'atmospheric': 334, 'minimal': 2855, 'demand': 1174, 'offers': 3090, 'spoilers': 4124, 'fits': 1741, 'beast': 422, 'lucy': 2684, 'dreams': 1355, 'incident': 2260, 'surreal': 4317, 'fake': 1635, 'erotic': 1515, 'robot': 3717, 'lovers': 2673, 'dave': 1123, 'christians': 809, 'superior': 4300, 'sides': 3967, 'process': 3412, 'witnesses': 4916, 'duke': 1383, 'visit': 4755, 'gruesome': 1986, 'jesus': 2399, 'leader': 2546, 'flesh': 1753, 'exact': 1550, 'revenge': 3675, 'treats': 4575, 'decades': 1145, 'meat': 2787, 'avoided': 364, 'roots': 3738, 'peoples': 3222, 'daughters': 1122, 'husbands': 2205, 'lousy': 2667, 'brilliance': 582, 'text': 4419, 'merely': 2815, 'larry': 2520, 'alike': 185, 'charge': 761, 'beating': 425, 'diamond': 1236, 'enters': 1496, 'shocked': 3939, 'frightening': 1839, 'itll': 2369, 'unhappy': 4656, 'endings': 1472, 'horrifying': 2167, 'voight': 4764, 'orson': 3132, 'welles': 4844, 'reveal': 3670, 'convoluted': 987, 'criminal': 1057, 'darker': 1116, 'secrets': 3852, 'bette': 471, 'steps': 4177, 'detailed': 1218, 'associated': 327, 'mob': 2879, 'wars': 4804, 'curse': 1086, 'studios': 4241, 'floor': 1759, 'spite': 4117, 'despair': 1207, 'kicked': 2461, 'bullet': 620, 'luck': 2681, 'nuclear': 3057, 'concerning': 933, 'psychotic': 3459, 'dealing': 1136, 'plans': 3292, 'acid': 95, 'destroying': 1215, 'considered': 951, 'shark': 3921, 'trial': 4580, 'carrying': 701, 'museum': 2945, 'kitchen': 2485, 'kirk': 2482, 'tour': 4538, 'purposes': 3475, 'spots': 4132, 'rabbit': 3498, 'encounters': 1467, 'fighter': 1708, 'plane': 3288, 'ruth': 3763, 'explains': 1589, 'explained': 1587, 'closer': 856, 'speed': 4103, 'pacino': 3164, 'record': 3573, 'fest': 1696, 'misery': 2865, 'mundane': 2938, 'spanish': 4092, 'research': 3644, 'experiment': 1583, 'folk': 1770, 'seeks': 3860, 'persons': 3244, 'brutally': 604, 'highlight': 2103, 'signed': 3971, 'filmed': 1717, 'specifically': 4100, 'charming': 768, 'tiny': 4500, 'crocodile': 1065, 'tap': 4364, 'iii': 2227, 'breath': 573, 'terrific': 4409, 'em': 1452, 'russell': 3761, 'anderson': 227, 'dealt': 1138, 'subjects': 4254, 'learned': 2551, 'sings': 3997, 'helen': 2075, 'singers': 3994, 'village': 4743, 'halfway': 2008, 'solve': 4060, 'joy': 2422, 'dozen': 1338, 'emotions': 1461, 'introduction': 2339, 'fascinated': 1657, 'wear': 4830, 'identify': 2216, 'hollow': 2135, 'sorts': 4078, 'unbearable': 4633, 'scientist': 3818, 'scientists': 3819, 'affair': 135, 'scares': 3806, 'stephen': 4176, 'rick': 3689, 'guard': 1988, 'cliff': 847, 'month': 2896, 'civil': 826, 'jeffrey': 2391, 'demands': 1175, 'occasional': 3074, 'committed': 905, 'jonathan': 2417, 'courage': 1018, 'scale': 3802, 'bela': 450, 'lugosi': 2686, 'adventure': 130, 'enjoying': 1487, 'forces': 1788, 'pushed': 3478, 'successfully': 4267, 'pointed': 3317, 'ancient': 225, 'ray': 3533, 'kong': 2494, 'lacking': 2504, 'juvenile': 2441, 'performers': 3232, 'ticket': 4487, 'upset': 4687, 'complaint': 920, 'animated': 241, 'disney': 1289, 'suited': 4286, 'shine': 3931, 'revealed': 3671, 'forever': 1792, 'mainly': 2708, 'amanda': 205, 'shadow': 3912, 'catching': 716, 'advantage': 129, '1st': 28, 'blob': 507, 'suffered': 4276, 'dinner': 1254, 'evening': 1534, 'uncle': 4636, 'beer': 439, 'delight': 1167, 'controversial': 978, 'contest': 967, 'clown': 862, 'loose': 2650, 'slick': 4026, 'mtv': 2933, 'video': 4733, 'blah': 496, 'massacre': 2754, 'round': 3742, 'dawn': 1127, 'classics': 837, 'cinemas': 817, 'godfather': 1927, 'teen': 4388, 'instantly': 2306, 'metal': 2823, 'demon': 1177, 'helped': 2080, 'album': 175, 'angela': 232, 'glover': 1923, 'stranger': 4213, 'discovers': 1281, 'mature': 2773, 'divorce': 1301, 'brand': 565, 'claire': 831, 'danes': 1108, 'junk': 2436, 'handled': 2019, 'crimes': 1056, 'court': 1020, 'rights': 3697, 'praise': 3364, 'everyday': 1541, 'disagree': 1269, 'depicts': 1186, 'post': 3352, 'quotes': 3497, 'poster': 3353, 'kelly': 2452, 'pal': 3177, 'joey': 2408, 'jay': 2386, 'mgm': 2828, 'sinatra': 3989, 'education': 1424, 'enthusiasm': 1501, 'serves': 3895, 'cary': 706, 'dance': 1103, 'beneath': 464, 'movements': 2924, 'constructed': 959, 'separate': 3883, 'load': 2631, 'library': 2589, 'spoof': 4127, 'bay': 416, 'mediocre': 2791, 'stretched': 4222, 'excitement': 1562, 'splatter': 4118, 'rubbish': 3748, 'unlikely': 4671, 'matched': 2763, 'brooks': 596, 'wilson': 4891, 'wells': 4845, 'supposedly': 4307, 'wound': 4960, 'forty': 1807, 'dollars': 1315, 'jail': 2376, 'april': 284, 'concerned': 932, 'detective': 1220, 'discovery': 1282, 'resort': 3650, 'results': 3662, 'jazz': 2387, 'jones': 2418, 'nation': 2969, 'typically': 4624, 'desired': 1206, 'negative': 2991, 'brooklyn': 595, 'facing': 1620, 'anger': 235, 'demons': 1178, 'plague': 3285, 'stops': 4203, 'environment': 1505, 'blind': 506, 'busy': 635, 'bleak': 503, 'lit': 2621, 'depth': 1190, 'intensity': 2317, 'waves': 4819, 'memorable': 2802, 'fix': 1744, 'douglas': 1334, 'leslie': 2574, 'holly': 2136, 'grow': 1982, 'cinderella': 815, 'fairy': 1632, 'exploration': 1593, 'heroine': 2091, 'balls': 390, 'highest': 2102, 'swear': 4334, 'walken': 4777, 'secret': 3849, 'wooden': 4934, 'cusack': 1088, 'experiences': 1582, 'drop': 1369, 'dr': 1340, 'bride': 577, 'wore': 4939, '1973': 19, 'walter': 4784, 'robinson': 3716, 'proceedings': 3410, 'overly': 3155, 'hall': 2009, 'witness': 4914, 'lies': 2591, 'mafia': 2700, 'pearl': 3220, 'earned': 1401, 'goodness': 1938, 'attend': 344, 'angel': 231, 'superhero': 4299, 'macy': 2695, 'manhattan': 2726, 'blond': 510, 'threat': 4467, 'corpse': 999, 'staged': 4140, 'americas': 215, 'focuses': 1768, 'rural': 3758, 'areas': 287, 'undoubtedly': 4648, 'neat': 2982, 'chose': 804, 'severe': 3906, 'terry': 4415, 'david': 1124, 'cole': 873, 'willis': 4890, 'travels': 4569, 'survivors': 4325, 'underground': 4640, 'multiple': 2936, 'fitting': 1742, 'weapons': 4829, 'monkeys': 2891, 'blowing': 515, 'brad': 560, 'logic': 2638, 'arrives': 302, 'proof': 3434, 'authority': 360, 'climax': 849, 'airport': 167, 'intimate': 2331, 'sucked': 4270, 'design': 1202, 'operation': 3117, 'wwii': 4975, 'sir': 4000, 'lawrence': 2539, 'olivier': 3103, 'sinister': 3998, 'limits': 2607, 'enemy': 1477, 'transformation': 4560, 'warrior': 4802, 'ned': 2986, 'raped': 3522, 'pet': 3246, 'mentions': 2813, 'wonders': 4931, 'creep': 1051, 'notably': 3042, 'doom': 1326, 'polished': 3323, 'suffice': 4279, 'ludicrous': 2685, 'news': 3005, 'creator': 1043, 'lacks': 2505, 'status': 4165, 'astaire': 330, 'rogers': 3725, 'subplot': 4255, 'ie': 2221, 'navy': 2976, 'ginger': 1908, 'ball': 388, 'meanwhile': 2785, 'satan': 3787, '30s': 44, 'westerns': 4854, 'capturing': 679, 'carries': 699, 'pack': 3165, 'brando': 566, '20th': 38, 'carol': 693, 'fashioned': 1660, 'conservative': 948, 'theaters': 4428, 'defense': 1159, 'youd': 4987, 'purchased': 3470, 'skip': 4016, 'japanese': 2382, 'hints': 2113, '2000': 30, 'miike': 2837, '1999': 27, 'popularity': 3334, 'closet': 858, 'homosexual': 2145, 'ugly': 4625, 'winner': 4897, '1980': 20, 'montana': 2895, 'rebel': 3561, 'destruction': 1216, 'hearted': 2065, 'burns': 628, 'funeral': 1849, 'hippie': 2115, 'historical': 2119, 'cleverly': 842, 'bumbling': 622, 'neighbor': 2992, 'featuring': 1681, 'stevens': 4183, 'planning': 3291, 'magical': 2704, 'baseball': 403, 'cheating': 776, 'anne': 246, 'force': 1786, 'powell': 3358, 'woody': 4936, 'occur': 3076, 'student': 4238, 'london': 2641, 'upper': 4685, 'alas': 172, 'bright': 581, 'stiff': 4187, 'conceived': 929, 'reputation': 3640, 'travel': 4567, 'hunt': 2198, 'sincere': 3991, 'passionate': 3206, 'disappointing': 1274, 'worthwhile': 4955, 'nonetheless': 3029, 'turkey': 4604, 'usa': 4691, 'bollywood': 530, 'driver': 1366, 'cliché': 844, 'zombie': 4997, 'holes': 2133, 'ridiculously': 3694, 'bag': 384, 'melting': 2799, 'gross': 1978, 'interaction': 2322, 'exploitation': 1592, 'lesson': 2577, 'antics': 255, 'jimmy': 2403, 'vietnam': 4735, 'competition': 918, 'amazingly': 210, 'attached': 336, 'stock': 4193, 'killings': 2473, 'eighties': 1437, 'eastwood': 1409, 'entry': 1504, 'lord': 2652, 'heads': 2059, 'occurred': 3077, 'dig': 1250, 'viewings': 4741, 'emotionally': 1460, 'morality': 2903, 'striking': 4226, 'builds': 617, 'flies': 1756, 'dinosaur': 1255, 'quest': 3486, 'outcome': 3142, 'menacing': 2807, 'smaller': 4034, 'albert': 174, 'punk': 3468, 'comparing': 913, 'lab': 2501, 'nazis': 2978, 'worried': 4949, 'carefully': 689, 'nazi': 2977, 'hop': 2154, 'invasion': 2340, 'professor': 3422, 'los': 2653, 'angeles': 233, 'correct': 1000, 'judy': 2426, '24': 39, 'pilot': 3276, 'assigned': 325, 'acceptable': 81, 'fisher': 1739, 'luke': 2687, '2003': 33, 'hitting': 2126, 'crowd': 1067, 'jackson': 2375, 'suffer': 4275, 'iraq': 2351, 'documentaries': 1306, 'mere': 2814, 'triumph': 4590, 'valuable': 4708, 'purchase': 3469, 'cartoons': 705, 'blatant': 502, 'britain': 588, 'china': 795, 'propaganda': 3435, 'nancy': 2964, 'clues': 865, 'catches': 715, 'everyones': 1543, 'un': 4630, 'trek': 4578, 'adventures': 131, 'catchy': 717, 'houses': 2180, 'religion': 3607, 'occasionally': 3075, 'strip': 4228, 'method': 2824, 'methods': 2825, 'subtlety': 4261, 'simplicity': 3984, 'illness': 2230, 'parent': 3187, 'families': 1644, 'billy': 482, 'intentionally': 2320, 'vague': 4705, 'womans': 4922, 'partly': 3197, 'dancer': 1104, 'exceptional': 1558, 'opportunities': 3120, 'international': 2326, 'lowest': 2678, 'senseless': 3878, 'absurd': 73, 'walks': 4780, 'holiday': 2134, 'hate': 2046, 'warriors': 4803, 'floating': 1758, 'beings': 449, 'sharp': 3922, 'split': 4120, 'ultra': 4629, 'cardboard': 682, 'incompetent': 2266, 'coach': 868, 'crisis': 1060, 'caine': 647, 'garbo': 1871, 'spain': 4091, 'tender': 4401, 'concern': 931, 'countryside': 1015, 'row': 3744, 'hamilton': 2012, 'celebrity': 729, 'disjointed': 1287, 'prevent': 3385, 'cameron': 661, 'influence': 2286, 'affect': 136, 'property': 3438, 'rolled': 3729, 'nurse': 3063, 'backdrop': 379, 'website': 4834, 'gift': 1906, 'tortured': 4530, 'shape': 3919, 'losers': 2656, 'disbelief': 1277, 'disc': 1278, 'bible': 477, 'pleased': 3305, 'sam': 3777, 'hanks': 2025, 'witnessed': 4915, 'sons': 4073, 'pretend': 3381, 'tommy': 4516, '40s': 49, 'walker': 4778, 'awfully': 373, '25': 40, 'carradine': 695, 'assumed': 329, 'confusing': 942, 'repeatedly': 3632, 'push': 3477, 'trees': 4577, 'faith': 1633, 'hip': 2114, 'react': 3540, 'screams': 3828, 'shoots': 3944, 'throws': 4482, 'equipment': 1511, 'deaths': 1142, 'profound': 3423, 'crush': 1072, 'newly': 3004, 'superficial': 4298, 'splendid': 4119, 'catherine': 719, 'exceptionally': 1559, 'notion': 3050, 'dickens': 1240, 'blown': 516, 'warned': 4798, 'scrooge': 3837, 'england': 1482, 'per': 3223, 'poverty': 3357, 'scare': 3803, 'downright': 1337, 'chorus': 803, 'chest': 784, 'excessive': 1560, 'ninja': 3018, 'miserable': 2863, 'master': 2757, 'shall': 3916, 'cats': 721, 'formulaic': 1803, 'advertising': 132, 'catholic': 720, 'unreal': 4676, 'root': 3737, 'fatal': 1664, 'weekend': 4838, 'urge': 4689, 'removed': 3624, 'mann': 2728, 'offended': 3085, 'thankfully': 4422, 'accents': 79, 'blew': 505, 'encounter': 1466, 'lesbian': 2573, 'bugs': 613, 'colorful': 878, 'hopper': 2161, 'creators': 1044, 'goal': 1925, 'vice': 4727, 'chances': 748, 'mayor': 2777, 'virginia': 4750, 'japan': 2381, 'base': 402, 'ballet': 389, 'philosophy': 3254, 'swim': 4337, 'drives': 1367, 'marvelous': 2750, 'toys': 4543, 'horrific': 2166, 'arrested': 298, 'rage': 3505, 'breathtaking': 574, 'ego': 1435, 'chick': 786, 'prince': 3396, 'greed': 1968, 'population': 3335, 'credible': 1048, 'centers': 734, 'food': 1778, 'teach': 4374, 'ignorant': 2223, 'conversations': 981, 'motives': 2916, 'namely': 2962, 'scores': 3823, 'weakest': 4825, 'canadian': 667, 'irony': 2357, 'rat': 3525, 'snl': 4044, 'castle': 712, 'tracy': 4546, 'square': 4136, 'pages': 3168, 'prom': 3429, 'chased': 770, 'enemies': 1476, 'lately': 2524, 'asian': 314, 'crack': 1027, 'obnoxious': 3067, 'loosely': 2651, 'university': 4667, 'closed': 854, 'slight': 4027, 'carpenter': 694, 'titles': 4506, 'franco': 1820, 'native': 2972, 'cross': 1066, 'directs': 1267, 'imagery': 2234, 'ham': 2011, 'dire': 1257, 'ron': 3734, 'niro': 3019, 'improvement': 2256, 'spielberg': 4110, 'dare': 1113, 'bath': 411, 'shy': 3962, 'daddy': 1096, 'winning': 4898, 'creation': 1040, 'bus': 631, 'gentle': 1890, 'reaching': 3539, 'birds': 485, 'lie': 2590, 'stole': 4194, 'burning': 627, 'butt': 638, '2001': 31, 'gas': 1874, 'airplane': 166, 'north': 3036, 'trade': 4547, 'united': 4664, 'glimpse': 1919, 'department': 1182, 'ratings': 3530, 'basketball': 409, 'finest': 1730, 'author': 359, 'introduce': 2336, 'hyde': 2206, 'felix': 1689, 'colonel': 876, 'stellar': 4174, 'wealthy': 4827, 'patrick': 3213, 'sounding': 4083, 'cabin': 643, 'imitation': 2241, 'patients': 3212, 'raymond': 3534, 'betty': 474, 'ann': 244, '1930s': 11, 'legendary': 2565, 'glorious': 1921, 'lonely': 2643, 'considerable': 950, 'grasp': 1960, 'prepared': 3371, 'eva': 1531, 'introduces': 2338, 'meeting': 2794, 'louis': 2665, 'consequences': 947, 'restored': 3659, 'emphasis': 1463, 'dubbing': 1380, 'amongst': 218, 'mechanical': 2788, 'horribly': 2164, 'alongside': 196, 'sold': 4052, 'suspend': 4329, 'government': 1948, 'conspiracy': 956, 'centered': 733, 'angels': 234, 'jeff': 2390, 'bell': 458, 'dan': 1102, 'contrary': 974, 'factory': 1623, 'basis': 408, 'fbi': 1675, 'ruins': 3752, 'abuse': 74, 'describes': 1196, 'punishment': 3467, 'unforgettable': 4652, 'sin': 3988, 'streep': 4215, 'blunt': 520, 'genres': 1889, 'loser': 2655, 'rob': 3710, 'karloff': 2445, 'greedy': 1969, 'officer': 3092, 'largely': 2518, 'campy': 664, 'jewish': 2401, 'offering': 3089, 'argument': 291, 'believing': 457, 'feed': 1683, 'breasts': 572, 'classical': 836, 'unconvincing': 4638, 'adequate': 120, 'bridge': 578, 'flawless': 1751, 'ocean': 3079, 'mummy': 2937, 'prequel': 3372, 'mistaken': 2872, 'nightmare': 3014, 'elm': 1447, 'funnier': 1850, 'accomplished': 87, 'belong': 459, 'inducing': 2279, 'reflect': 3584, 'calls': 654, 'altogether': 202, 'represented': 3638, 'versus': 4722, 'sounded': 4082, 'intriguing': 2335, 'christ': 807, 'improve': 2254, 'clichéd': 845, 'eaten': 1412, 'samurai': 3779, 'drinking': 1362, 'dracula': 1341, 'landscape': 2513, 'absence': 70, 'sitcom': 4004, 'tear': 4379, 'wacky': 4769, 'jennifer': 2392, 'superbly': 4297, 'drops': 1372, 'bold': 528, 'fields': 1705, 'grandmother': 1955, 'warmth': 4796, 'aired': 165, 'remaining': 3610, 'tricks': 4583, 'greater': 1965, 'dressing': 1359, 'throwing': 4480, 'sheer': 3925, 'occasion': 3073, 'host': 2173, 'australia': 356, 'ha': 2002, 'presumably': 3380, 'potentially': 3356, 'commercials': 903, 'deaf': 1134, 'harsh': 2040, 'extraordinary': 1607, 'arrive': 300, 'unaware': 4632, 'imagined': 2239, 'buddy': 609, 'expressed': 1601, 'doubts': 1333, 'pulls': 3464, 'richardson': 3688, 'fictional': 1703, 'torn': 4528, 'progress': 3425, 'joseph': 2419, 'empire': 1464, 'pushing': 3479, 'waited': 4771, 'farm': 1656, 'brady': 561, 'engage': 1479, 'consistently': 954, 'mighty': 2836, 'beaten': 424, 'sidney': 3968, 'charismatic': 763, 'williams': 4888, 'generated': 1882, 'thrill': 4471, 'thrills': 4475, 'depicting': 1184, 'fifteen': 1706, 'grandfather': 1954, 'lying': 2690, 'che': 773, 'tomatoes': 4515, 'adams': 112, 'sing': 3992, 'sappy': 3784, 'thick': 4447, 'lifetime': 2594, 'table': 4346, 'activities': 102, 'threatening': 4468, 'dedicated': 1153, 'resemblance': 3645, 'cup': 1080, 'retarded': 3663, 'hiding': 2099, 'flow': 1762, 'immensely': 2243, 'prisoners': 3403, '1980s': 21, 'atlantis': 332, 'idiotic': 2219, 'hitchcock': 2123, 'accused': 91, 'jaw': 2384, 'jumping': 2431, 'workers': 4943, 'picking': 3267, 'fetched': 1698, 'agents': 151, 'pursuit': 3476, 'knowledge': 2491, 'achieved': 93, 'vulnerable': 4768, 'philosophical': 3253, 'receives': 3565, 'gradually': 1952, 'mail': 2706, 'poem': 3312, 'possibility': 3349, 'experiments': 1584, 'rushed': 3760, 'gabriel': 1859, 'spell': 4104, 'productions': 3420, 'contain': 962, 'eerie': 1427, 'suspenseful': 4331, 'hammer': 2014, 'chapter': 757, 'tense': 4403, 'arguably': 289, 'wears': 4832, 'throat': 4476, 'requires': 3642, 'kurt': 2499, 'slapstick': 4019, 'monk': 2889, 'desert': 1198, 'et': 1526, 'cuba': 1075, 'revolutionary': 3681, 'unpredictable': 4675, 'edie': 1419, 'wholly': 4874, 'paulie': 3215, 'shakespeare': 3915, 'hatred': 2049, 'martial': 2747, 'seagal': 3839, 'lou': 2663, 'trap': 4563, 'initially': 2291, 'individual': 2277, 'psychological': 3458, 'hitler': 2124, 'stone': 4197, 'masterpieces': 2760, 'speech': 4102, 'poetry': 3314, 'counter': 1011, 'everywhere': 1545, 'abusive': 75, 'ships': 3935, 'scripted': 3835, 'sadistic': 3768, 'companion': 909, 'fool': 1779, 'indians': 2275, 'slaughter': 4021, 'interviews': 2330, 'forbidden': 1785, 'dating': 1120, 'guilty': 1995, 'caliber': 649, 'factor': 1622, 'jessica': 2398, 'survived': 4322, 'andy': 230, 'scottish': 3825, 'notable': 3041, 'mildred': 2841, 'failing': 1627, 'proceeds': 3411, 'sally': 3776, 'downhill': 1336, 'philip': 3252, 'hung': 2197, 'choreography': 802, 'assault': 324, 'bone': 533, 'gain': 1863, 'peace': 3219, 'required': 3641, 'wandering': 4785, 'poetic': 3313, 'possibilities': 3348, 'trailer': 4554, 'craft': 1028, 'rendition': 3625, 'cd': 728, 'souls': 4080, 'appalling': 268, 'gag': 1861, 'escaped': 1518, 'enterprise': 1495, 'politically': 3325, 'odds': 3082, 'marty': 2749, 'theyd': 4443, 'nervous': 2999, 'facial': 1619, 'jaws': 2385, 'skin': 4015, 'simon': 3982, 'shortly': 3947, 'pamela': 3179, 'clothing': 861, 'pants': 3182, 'fever': 1699, 'dawson': 1128, 'mill': 2845, 'unoriginal': 4673, 'survivor': 4324, 'bonus': 534, 'succeeded': 4263, 'wannabe': 4787, 'allowing': 191, 'copies': 992, 'notorious': 3051, 'scientific': 3817, 'giallo': 1904, 'phantom': 3251, 'disease': 1285, 'dennis': 1179, 'morris': 2908, 'st': 4137, 'accept': 80, 'aka': 168, 'uneven': 4649, 'knife': 2487, 'polanski': 3321, 'shelley': 3928, 'winters': 4901, 'financial': 1725, 'officers': 3093, 'machines': 2694, 'suits': 4287, 'contact': 961, 'widely': 4881, 'involvement': 2347, 'temple': 4398, 'alcohol': 176, 'chess': 783, 'drawing': 1350, 'health': 2060, 'dancers': 1105, 'afraid': 140, 'turner': 4607, 'fx': 1858, 'richards': 3687, 'del': 1165, 'moronic': 2907, 'warn': 4797, 'choreographed': 801, 'perform': 3227, 'farce': 1654, 'colour': 880, 'roy': 3745, 'sidekick': 3966, 'drunken': 1376, 'universal': 4665, 'sits': 4006, 'butler': 637, 'alfred': 181, 'bottle': 550, 'multi': 2935, 'east': 1407, 'countless': 1012, 'stargate': 4151, 'swedish': 4335, 'remarks': 3615, 'musicals': 2948, 'creativity': 1042, 'chuck': 812, 'hooked': 2153, 'incoherent': 2265, 'lol': 2640, 'staying': 4168, 'indian': 2274, 'frequently': 1832, 'marketing': 2741, 'arrival': 299, 'command': 897, 'lane': 2515, 'neo': 2998, 'clark': 832, 'unbelievably': 4635, '3d': 46, 'wondered': 4927, 'instinct': 2308, 'unintentional': 4658, 'satisfy': 3790, 'lust': 2689, 'sport': 4129, 'fay': 1674, 'steel': 4173, 'foul': 1810, 'omen': 3104, 'neighbors': 2994, 'karen': 2444, 'francis': 1818, 'psychic': 3456, 'earl': 1398, 'guessed': 1990, 'inspiring': 2302, 'burton': 630, 'apes': 267, 'cruise': 1071, 'doomed': 1327, 'species': 4098, 'civilization': 827, 'slightest': 4028, '1984': 23, 'endearing': 1469, 'hank': 2024, 'miracle': 2860, 'code': 869, 'screens': 3832, 'motivation': 2914, 'hong': 2149, 'hollywoods': 2138, 'implausible': 2245, 'rambo': 3511, 'beach': 419, 'madonna': 2699, 'league': 2549, 'weight': 4840, 'bergman': 466, 'ease': 1404, 'mars': 2746, 'calm': 655, 'photographer': 3259, 'elvis': 1451, 'wolf': 4920, 'werewolf': 4850, 'boll': 529, 'menace': 2806, 'taught': 4370, 'todd': 4510, 'iran': 2350, 'june': 2433, '2005': 35, 'soccer': 4048, 'letters': 2582, 'laughably': 2531, 'rank': 3518, 'fulci': 1845, 'surviving': 4323, 'babe': 375, 'rats': 3531, 'blank': 501, 'rid': 3690, 'titled': 4505, 'reference': 3582, 'significant': 3972, 'alert': 178, 'foster': 1809, 'margaret': 2735, 'pitch': 3279, 'edgar': 1417, 'critics': 1064, 'promises': 3432, 'hole': 2132, 'godzilla': 1929, 'influenced': 2287, 'instant': 2305, 'staring': 4152, 'matthau': 2771, 'abraham': 69, 'stinks': 4192, 'solo': 4058, 'clips': 852, 'medium': 2792, 'achieve': 92, 'homeless': 2143, 'masters': 2761, 'distance': 1294, 'randomly': 3515, 'tiresome': 4502, 'massive': 2756, 'stones': 4198, 'recognition': 3568, 'mitchell': 2875, 'endure': 1475, 'annoyed': 248, 'bobby': 525, 'prisoner': 3402, 'rocky': 3723, 'lees': 2560, 'fed': 1682, 'porno': 3337, 'aimed': 162, 'scenario': 3808, 'eve': 1532, 'leonard': 2572, 'stress': 4220, 'charlotte': 766, 'taxi': 4371, 'sellers': 3872, 'disneys': 1290, 'tradition': 4549, 'teaching': 4377, 'spike': 4111, 'aforementioned': 139, 'capital': 673, 'gadget': 1860, 'simpson': 3987, 'jesse': 2397, 'baker': 385, 'faced': 1617, 'troops': 4591, 'tie': 4488, 'carrie': 697, 'craven': 1034, 'expression': 1602, 'lynch': 2691, 'compelled': 915, 'strictly': 4223, '3000': 43, 'kay': 2447, 'writes': 4970, 'latin': 2527, 'useful': 4694, 'properly': 3437, 'suspicious': 4332, 'grey': 1973, 'kennedy': 2454, 'lights': 2597, 'represent': 3637, 'thousand': 4465, 'passing': 3204, 'mysteries': 2954, 'cagney': 646, 'dalton': 1098, 'performer': 3231, 'buff': 611, 'citizen': 824, 'kane': 2442, 'der': 1191, 'dropping': 1371, 'awe': 370, 'wave': 4818, 'narrator': 2967, 'gordon': 1940, 'sacrifice': 3766, 'pig': 3274, 'panic': 3181, 'heights': 2073, 'iron': 2354, 'valley': 4707, 'landing': 2512, 'hates': 2048, 'whale': 4857, 'wounded': 4961, 'explore': 1594, 'strangers': 4214, 'enormous': 1490, 'miscast': 2862, 'riveting': 3708, 'wallace': 4782, 'questionable': 3488, 'teenagers': 4391, 'marie': 2737, 'tag': 4348, 'frankenstein': 1822, '50s': 52, 'carl': 692, 'witches': 4910, 'disappeared': 1271, 'buddies': 608, 'goldberg': 1933, 'passes': 3203, 'explosions': 1597, 'nonsensical': 3031, 'directions': 1262, 'laws': 2540, 'pseudo': 3454, 'buildings': 616, 'resulting': 3661, 'reduced': 3579, 'sutherland': 4333, 'solution': 4059, 'advanced': 128, 'construction': 960, 'existed': 1570, 'equivalent': 1512, 'mate': 2765, 'cheated': 775, 'hamlet': 2013, 'segments': 3868, 'fooled': 1780, 'gundam': 1997, 'rex': 3683, 'bud': 607, 'landscapes': 2514, 'voiced': 4762, 'hurts': 2203, 'contained': 963, 'journalist': 2420, 'santa': 3783, 'useless': 4695, 'hint': 2112, 'andrews': 229, 'ought': 3138, 'blade': 495, 'forest': 1791, 'lone': 2642, 'beatty': 427, 'gripping': 1976, 'agreed': 156, 'realizing': 3555, 'bettie': 473, 'maker': 2714, 'florida': 1761, 'marks': 2742, 'surfing': 4311, 'map': 2733, 'kissing': 2484, 'pan': 3180, 'lincoln': 2608, 'fonda': 1777, 'stooges': 4200, 'aids': 161, '1990': 24, '70': 55, 'kubrick': 2496, 'korean': 2495, 'overlook': 3153, 'eyre': 1614, 'rochester': 3719, 'loaded': 2632, 'modesty': 2883, 'revelation': 3674, 'shelf': 3926, 'idiot': 2218, 'learning': 2552, 'traveling': 4568, 'fury': 1855, 'campbell': 663, 'tooth': 4524, 'dances': 1106, 'backgrounds': 381, 'hello': 2078, 'ear': 1397, 'hudson': 2184, 'dentist': 1180, 'performs': 3234, 'legal': 2563, 'attraction': 350, 'stiller': 4189, 'dutch': 1389, 'travesty': 4570, 'priceless': 3390, 'ethan': 1528, 'stan': 4142, 'dub': 1378, 'louise': 2666, 'trail': 4553, 'laurel': 2537, 'hardy': 2037, 'daring': 1114, 'integrity': 2311, 'rocket': 3721, 'plight': 3308, 'domino': 1319, 'pokemon': 3320, 'tall': 4362, 'destiny': 1212, 'lumet': 2688, 'bakshi': 386, 'bacall': 377, 'germans': 1897, 'homer': 2144, 'rangers': 3517, 'lemmon': 2567}\n"
     ]
    }
   ],
   "source": [
    "print(str(vocabulary))"
   ]
  },
  {
   "cell_type": "markdown",
   "metadata": {},
   "source": [
    "Once you have added the endpoint name to the Lambda function, click on **Save**. Your Lambda function is now up and running. Next we need to create a way for our web app to execute the Lambda function."
   ]
  },
  {
   "cell_type": "markdown",
   "metadata": {},
   "source": [
    "### Setting up API Gateway\n",
    "\n",
    "Now that our Lambda function is set up, it is time to create a new API using API Gateway that will trigger the Lambda function we have just created.\n",
    "\n",
    "Using AWS Console, navigate to **Amazon API Gateway** and then click on **Get started**.\n",
    "\n",
    "On the next page, make sure that **New API** is selected and give the new api a name, for example, `sentiment_analysis_web_app`. Then, click on **Create API**.\n",
    "\n",
    "Now we have created an API, however it doesn't currently do anything. What we want it to do is to trigger the Lambda function that we created earlier.\n",
    "\n",
    "Select the **Actions** dropdown menu and click **Create Method**. A new blank method will be created, select its dropdown menu and select **POST**, then click on the check mark beside it.\n",
    "\n",
    "For the integration point, make sure that **Lambda Function** is selected and click on the **Use Lambda Proxy integration**. This option makes sure that the data that is sent to the API is then sent directly to the Lambda function with no processing. It also means that the return value must be a proper response object as it will also not be processed by API Gateway.\n",
    "\n",
    "Type the name of the Lambda function you created earlier into the **Lambda Function** text entry box and then click on **Save**. Click on **OK** in the pop-up box that then appears, giving permission to API Gateway to invoke the Lambda function you created.\n",
    "\n",
    "The last step in creating the API Gateway is to select the **Actions** dropdown and click on **Deploy API**. You will need to create a new Deployment stage and name it anything you like, for example `prod`.\n",
    "\n",
    "You have now successfully set up a public API to access your SageMaker model. Make sure to copy or write down the URL provided to invoke your newly created public API as this will be needed in the next step. This URL can be found at the top of the page, highlighted in blue next to the text **Invoke URL**."
   ]
  },
  {
   "cell_type": "markdown",
   "metadata": {},
   "source": [
    "## Step 7: Deploying our web app\n",
    "\n",
    "Now that we have a publicly available API, we can start using it in a web app. For our purposes, we have provided a simple static html file which can make use of the public api you created earlier.\n",
    "\n",
    "In the `website` folder there should be a file called `index.html`. Download the file to your computer and open that file up in a text editor of your choice. There should be a line which contains **\\*\\*REPLACE WITH PUBLIC API URL\\*\\***. Replace this string with the url that you wrote down in the last step and then save the file.\n",
    "\n",
    "Now, if you open `index.html` on your local computer, your browser will behave as a local web server and you can use the provided site to interact with your SageMaker model.\n",
    "\n",
    "If you'd like to go further, you can host this html file anywhere you'd like, for example using github or hosting a static site on Amazon's S3. Once you have done this you can share the link with anyone you'd like and have them play with it too!\n",
    "\n",
    "> **Important Note** In order for the web app to communicate with the SageMaker endpoint, the endpoint has to actually be deployed and running. This means that you are paying for it. Make sure that the endpoint is running when you want to use the web app but that you shut it down when you don't need it, otherwise you will end up with a surprisingly large AWS bill."
   ]
  },
  {
   "cell_type": "markdown",
   "metadata": {},
   "source": [
    "### Delete the endpoint\n",
    "\n",
    "Remember to always shut down your endpoint if you are no longer using it. You are charged for the length of time that the endpoint is running so if you forget and leave it on you could end up with an unexpectedly large bill."
   ]
  },
  {
   "cell_type": "code",
   "execution_count": null,
   "metadata": {},
   "outputs": [],
   "source": [
    "xgb_predictor.delete_endpoint()"
   ]
  },
  {
   "cell_type": "markdown",
   "metadata": {},
   "source": [
    "## Optional: Clean up\n",
    "\n",
    "The default notebook instance on SageMaker doesn't have a lot of excess disk space available. As you continue to complete and execute notebooks you will eventually fill up this disk space, leading to errors which can be difficult to diagnose. Once you are completely finished using a notebook it is a good idea to remove the files that you created along the way. Of course, you can do this from the terminal or from the notebook hub if you would like. The cell below contains some commands to clean up the created files from within the notebook."
   ]
  },
  {
   "cell_type": "code",
   "execution_count": null,
   "metadata": {},
   "outputs": [],
   "source": [
    "# First we will remove all of the files contained in the data_dir directory\n",
    "!rm $data_dir/*\n",
    "\n",
    "# And then we delete the directory itself\n",
    "!rmdir $data_dir\n",
    "\n",
    "# Similarly we remove the files in the cache_dir directory and the directory itself\n",
    "!rm $cache_dir/*\n",
    "!rmdir $cache_dir"
   ]
  },
  {
   "cell_type": "code",
   "execution_count": null,
   "metadata": {},
   "outputs": [],
   "source": []
  }
 ],
 "metadata": {
  "kernelspec": {
   "display_name": "conda_python3",
   "language": "python",
   "name": "conda_python3"
  },
  "language_info": {
   "codemirror_mode": {
    "name": "ipython",
    "version": 3
   },
   "file_extension": ".py",
   "mimetype": "text/x-python",
   "name": "python",
   "nbconvert_exporter": "python",
   "pygments_lexer": "ipython3",
   "version": "3.6.5"
  }
 },
 "nbformat": 4,
 "nbformat_minor": 2
}
